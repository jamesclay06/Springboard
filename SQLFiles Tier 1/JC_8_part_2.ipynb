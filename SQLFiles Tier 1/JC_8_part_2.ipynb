{
 "cells": [
  {
   "cell_type": "code",
   "execution_count": 3,
   "metadata": {},
   "outputs": [
    {
     "name": "stdout",
     "output_type": "stream",
     "text": [
      "2.6.0\n",
      "2. Query all tasks\n"
     ]
    },
    {
     "ename": "OperationalError",
     "evalue": "no such column: month",
     "output_type": "error",
     "traceback": [
      "\u001b[1;31m---------------------------------------------------------------------------\u001b[0m",
      "\u001b[1;31mOperationalError\u001b[0m                          Traceback (most recent call last)",
      "\u001b[1;32m<ipython-input-3-c713a2e0f71d>\u001b[0m in \u001b[0;36m<module>\u001b[1;34m\u001b[0m\n\u001b[0;32m     57\u001b[0m \u001b[1;33m\u001b[0m\u001b[0m\n\u001b[0;32m     58\u001b[0m \u001b[1;32mif\u001b[0m \u001b[0m__name__\u001b[0m \u001b[1;33m==\u001b[0m \u001b[1;34m'__main__'\u001b[0m\u001b[1;33m:\u001b[0m\u001b[1;33m\u001b[0m\u001b[1;33m\u001b[0m\u001b[0m\n\u001b[1;32m---> 59\u001b[1;33m     \u001b[0mmain\u001b[0m\u001b[1;33m(\u001b[0m\u001b[1;33m)\u001b[0m\u001b[1;33m\u001b[0m\u001b[1;33m\u001b[0m\u001b[0m\n\u001b[0m",
      "\u001b[1;32m<ipython-input-3-c713a2e0f71d>\u001b[0m in \u001b[0;36mmain\u001b[1;34m()\u001b[0m\n\u001b[0;32m     53\u001b[0m     \u001b[1;32mwith\u001b[0m \u001b[0mconn\u001b[0m\u001b[1;33m:\u001b[0m\u001b[1;33m\u001b[0m\u001b[1;33m\u001b[0m\u001b[0m\n\u001b[0;32m     54\u001b[0m         \u001b[0mprint\u001b[0m\u001b[1;33m(\u001b[0m\u001b[1;34m\"2. Query all tasks\"\u001b[0m\u001b[1;33m)\u001b[0m\u001b[1;33m\u001b[0m\u001b[1;33m\u001b[0m\u001b[0m\n\u001b[1;32m---> 55\u001b[1;33m         \u001b[0mselect_all_tasks\u001b[0m\u001b[1;33m(\u001b[0m\u001b[0mconn\u001b[0m\u001b[1;33m)\u001b[0m\u001b[1;33m\u001b[0m\u001b[1;33m\u001b[0m\u001b[0m\n\u001b[0m\u001b[0;32m     56\u001b[0m \u001b[1;33m\u001b[0m\u001b[0m\n\u001b[0;32m     57\u001b[0m \u001b[1;33m\u001b[0m\u001b[0m\n",
      "\u001b[1;32m<ipython-input-3-c713a2e0f71d>\u001b[0m in \u001b[0;36mselect_all_tasks\u001b[1;34m(conn)\u001b[0m\n\u001b[0;32m     38\u001b[0m \u001b[0mORDER\u001b[0m \u001b[0mBY\u001b[0m \u001b[0mtotal_revenue\u001b[0m\u001b[1;33m\u001b[0m\u001b[1;33m\u001b[0m\u001b[0m\n\u001b[0;32m     39\u001b[0m         \"\"\"\n\u001b[1;32m---> 40\u001b[1;33m     \u001b[0mcur\u001b[0m\u001b[1;33m.\u001b[0m\u001b[0mexecute\u001b[0m\u001b[1;33m(\u001b[0m\u001b[0mquery1\u001b[0m\u001b[1;33m)\u001b[0m\u001b[1;33m\u001b[0m\u001b[1;33m\u001b[0m\u001b[0m\n\u001b[0m\u001b[0;32m     41\u001b[0m \u001b[1;33m\u001b[0m\u001b[0m\n\u001b[0;32m     42\u001b[0m     \u001b[0mrows\u001b[0m \u001b[1;33m=\u001b[0m \u001b[0mcur\u001b[0m\u001b[1;33m.\u001b[0m\u001b[0mfetchall\u001b[0m\u001b[1;33m(\u001b[0m\u001b[1;33m)\u001b[0m\u001b[1;33m\u001b[0m\u001b[1;33m\u001b[0m\u001b[0m\n",
      "\u001b[1;31mOperationalError\u001b[0m: no such column: month"
     ]
    }
   ],
   "source": [
    "import sqlite3\n",
    "from sqlite3 import Error\n",
    "\n",
    " \n",
    "def create_connection(db_file):\n",
    "    \"\"\" create a database connection to the SQLite database\n",
    "        specified by the db_file\n",
    "    :param db_file: database file\n",
    "    :return: Connection object or None\n",
    "    \"\"\"\n",
    "    conn = None\n",
    "    try:\n",
    "        conn = sqlite3.connect(db_file)\n",
    "        print(sqlite3.version)\n",
    "    except Error as e:\n",
    "        print(e)\n",
    " \n",
    "    return conn\n",
    "\n",
    " \n",
    "def select_all_tasks(conn):\n",
    "    \"\"\"\n",
    "    Query all rows in the tasks table\n",
    "    :param conn: the Connection object\n",
    "    :return:\n",
    "    \"\"\"\n",
    "    cur = conn.cursor()\n",
    "    \n",
    "    query1 = \"\"\"\n",
    "SELECT F.name,\n",
    "\tSUM(CASE WHEN M.memid = 0 THEN F.guestcost ELSE F.membercost END * B.slots ) AS cost,\n",
    "\tDATEDIFF(month,MIN(B.starttime),MAX(B.starttime)) AS months,\n",
    "\tmonths * F.monthlymaintenance + cost AS total_revenue\n",
    "FROM \n",
    "  Bookings AS B\n",
    "  INNER JOIN Facilities AS F ON B.facid = F.facid\n",
    "  LEFT JOIN Members AS M ON B.memid = M.memid\n",
    "ORDER BY total_revenue\n",
    "        \"\"\"\n",
    "    cur.execute(query1)\n",
    " \n",
    "    rows = cur.fetchall()\n",
    " \n",
    "    for row in rows:\n",
    "        print(row)\n",
    "\n",
    "\n",
    "def main():\n",
    "    database = \"sqlite_db_pythonsqlite.db\"\n",
    " \n",
    "    # create a database connection\n",
    "    conn = create_connection(database)\n",
    "    with conn: \n",
    "        print(\"2. Query all tasks\")\n",
    "        select_all_tasks(conn)\n",
    " \n",
    " \n",
    "if __name__ == '__main__':\n",
    "    main()"
   ]
  },
  {
   "cell_type": "markdown",
   "metadata": {},
   "source": [
    "/* Q10: Produce a list of facilities with a total revenue less than 1000.\n",
    "The output of facility name and total revenue, sorted by revenue. Remember\n",
    "that there's a different cost for guests and members! */\n",
    "\n",
    "/* Q11: Produce a report of members and who recommended them in alphabetic surname,firstname order */\n",
    "\n",
    "\n",
    "/* Q12: Find the facilities with their usage by member, but not guests */\n",
    "\n",
    "\n",
    "/* Q13: Find the facilities usage by month, but not guests */"
   ]
  }
 ],
 "metadata": {
  "kernelspec": {
   "display_name": "Python 3",
   "language": "python",
   "name": "python3"
  },
  "language_info": {
   "codemirror_mode": {
    "name": "ipython",
    "version": 3
   },
   "file_extension": ".py",
   "mimetype": "text/x-python",
   "name": "python",
   "nbconvert_exporter": "python",
   "pygments_lexer": "ipython3",
   "version": "3.8.5"
  }
 },
 "nbformat": 4,
 "nbformat_minor": 4
}
