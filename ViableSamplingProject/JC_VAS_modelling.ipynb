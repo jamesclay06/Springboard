{
 "cells": [
  {
   "cell_type": "markdown",
   "metadata": {},
   "source": [
    "# Modeling"
   ]
  },
  {
   "cell_type": "markdown",
   "metadata": {},
   "source": [
    "# Predicting fungal colony forming units based on real-time air sampling data\n",
    "## Modeling Capstone Project: Springboard Datascience Career Track\n",
    "### Notebook by James Clay"
   ]
  },
  {
   "cell_type": "markdown",
   "metadata": {},
   "source": [
    "### Introduction\n",
    "#### 1. The Problem:\n",
    "\n",
    "It is costly and time-consuming to properly conduct viable air sampling and await culturing results from an analytical lab. Air particulate counts, temperature, and relative humidity are common analytes measured during air sampling. It would be cost-efficient to be able to determine whether or not the environment is conducive to mold growth based on real-time sampling data that does not require lengthy analysis time. The objective is to determine whether viable sampling is necessary to confirm colony forming units over a certain threshold.\n",
    "\n",
    "#### 2. The Data:\n",
    "\n",
    "This data has been obtained from scanning decades of air sampling records from a hospital. The following are the data fields in the dataset, which we are going to read in the Pandas data frame.\n",
    "\n",
    "#### 3. The questions of interest:"
   ]
  },
  {
   "cell_type": "code",
   "execution_count": 1,
   "metadata": {},
   "outputs": [],
   "source": [
    "import pandas as pd\n",
    "import numpy as np\n",
    "import seaborn as sns\n",
    "import matplotlib.pyplot as plt\n",
    "import datetime as dt\n",
    "\n",
    "from sklearn.neighbors import KNeighborsClassifier\n",
    "from sklearn.model_selection import train_test_split, cross_val_score, GridSearchCV\n",
    "from sklearn.preprocessing import MinMaxScaler\n",
    "from sklearn.metrics import accuracy_score, mean_squared_error, confusion_matrix, classification_report,roc_curve,roc_auc_score\n",
    "from sklearn.linear_model import LogisticRegression, LinearRegression\n",
    "from sklearn.preprocessing import StandardScaler, MinMaxScaler, PowerTransformer\n",
    "from scipy.stats import randint\n",
    "from sklearn.tree import DecisionTreeClassifier\n",
    "from sklearn.model_selection import RandomizedSearchCV\n",
    "\n",
    "\n",
    "import os\n",
    "import math \n",
    "\n",
    "#ignore warning messages to ensure clean outputs\n",
    "import warnings\n",
    "warnings.filterwarnings('ignore')"
   ]
  },
  {
   "cell_type": "code",
   "execution_count": 2,
   "metadata": {},
   "outputs": [
    {
     "name": "stdout",
     "output_type": "stream",
     "text": [
      "<class 'pandas.core.frame.DataFrame'>\n",
      "Index: 713 entries, 2018-10-15/ed-lot to 2015-04-24/mbh-shuttle-stop\n",
      "Data columns (total 99 columns):\n",
      " #   Column                                                             Non-Null Count  Dtype  \n",
      "---  ------                                                             --------------  -----  \n",
      " 0   Date                                                               713 non-null    int64  \n",
      " 1   Temp                                                               713 non-null    float64\n",
      " 2   RH                                                                 713 non-null    float64\n",
      " 3   Total_Particles>0.3                                                713 non-null    float64\n",
      " 4   Total_Particles>0.5/m3                                             713 non-null    float64\n",
      " 5   cfu                                                                713 non-null    float64\n",
      " 6   threshold                                                          713 non-null    int64  \n",
      " 7   location_11L NS                                                    713 non-null    int64  \n",
      " 8   location_11L SEC                                                   713 non-null    int64  \n",
      " 9   location_350 Parnassus Suite 300 by reception area                 713 non-null    int64  \n",
      " 10  location_350 Parnassus Suite 300 just outside containment          713 non-null    int64  \n",
      " 11  location_9L NS                                                     713 non-null    int64  \n",
      " 12  location_9L SEC                                                    713 non-null    int64  \n",
      " 13  location_9Licu NS                                                  713 non-null    int64  \n",
      " 14  location_9MICU NS                                                  713 non-null    int64  \n",
      " 15  location_ACC 2ns floor surgical faculty clinic waiting room        713 non-null    int64  \n",
      " 16  location_B1-A4                                                     713 non-null    int64  \n",
      " 17  location_B1-A5                                                     713 non-null    int64  \n",
      " 18  location_B1-A6                                                     713 non-null    int64  \n",
      " 19  location_B1-C4                                                     713 non-null    int64  \n",
      " 20  location_B1-C5                                                     713 non-null    int64  \n",
      " 21  location_B1-C6                                                     713 non-null    int64  \n",
      " 22  location_B2-C4                                                     713 non-null    int64  \n",
      " 23  location_B2-C5                                                     713 non-null    int64  \n",
      " 24  location_B2-C6                                                     713 non-null    int64  \n",
      " 25  location_BMT-C6901                                                 713 non-null    int64  \n",
      " 26  location_BMT-C6913                                                 713 non-null    int64  \n",
      " 27  location_BMT-C6915                                                 713 non-null    int64  \n",
      " 28  location_BMT-C6924                                                 713 non-null    int64  \n",
      " 29  location_BMT-C6958                                                 713 non-null    int64  \n",
      " 30  location_BMT-C6971                                                 713 non-null    int64  \n",
      " 31  location_BMT-C6976                                                 713 non-null    int64  \n",
      " 32  location_BMT-C6S90                                                 713 non-null    int64  \n",
      " 33  location_BMT-C6S91                                                 713 non-null    int64  \n",
      " 34  location_BMT-CEIBDD                                                713 non-null    int64  \n",
      " 35  location_BMT-NEIBDD                                                713 non-null    int64  \n",
      " 36  location_BMT-NEODD                                                 713 non-null    int64  \n",
      " 37  location_BMT-SEODD                                                 713 non-null    int64  \n",
      " 38  location_ED Lot                                                    713 non-null    int64  \n",
      " 39  location_Endoscopy Inside L108 Outside the construction barrier    713 non-null    int64  \n",
      " 40  location_GT1-C3                                                    713 non-null    int64  \n",
      " 41  location_GT1-C4                                                    713 non-null    int64  \n",
      " 42  location_GT1-C5                                                    713 non-null    int64  \n",
      " 43  location_GT2-C3                                                    713 non-null    int64  \n",
      " 44  location_GT2-C4                                                    713 non-null    int64  \n",
      " 45  location_GT2-C5                                                    713 non-null    int64  \n",
      " 46  location_GT3-C4                                                    713 non-null    int64  \n",
      " 47  location_HB004 inside this treatment rm                            713 non-null    int64  \n",
      " 48  location_HB004 inside this treatment rm no traffic                 713 non-null    int64  \n",
      " 49  location_HB006 Inside this treatment room                          713 non-null    int64  \n",
      " 50  location_HB006 Inside this treatment room no traffic               713 non-null    int64  \n",
      " 51  location_HB018 at the entry/exit point into the vault no traffic   713 non-null    int64  \n",
      " 52  location_HB021 at the entry/exit point into the vault              713 non-null    int64  \n",
      " 53  location_HB021 at the entry/exit point into the vault no traffic   713 non-null    int64  \n",
      " 54  location_HB036 Family waiting area, carpeted space                 713 non-null    int64  \n",
      " 55  location_HO-C6801                                                  713 non-null    int64  \n",
      " 56  location_HO-C6807                                                  713 non-null    int64  \n",
      " 57  location_HO-C6808                                                  713 non-null    int64  \n",
      " 58  location_HO-C6827                                                  713 non-null    int64  \n",
      " 59  location_HO-C6835                                                  713 non-null    int64  \n",
      " 60  location_HO-C6838                                                  713 non-null    int64  \n",
      " 61  location_HO-C6847A                                                 713 non-null    int64  \n",
      " 62  location_HO-C6S80                                                  713 non-null    int64  \n",
      " 63  location_HO-C6S81                                                  713 non-null    int64  \n",
      " 64  location_Hallway Outside L1019                                     713 non-null    int64  \n",
      " 65  location_Hallway by nursing station outside plastic barrier 14M    713 non-null    int64  \n",
      " 66  location_Hallway outside 1414M                                     713 non-null    int64  \n",
      " 67  location_Hallway outside L1064 Parn                                713 non-null    int64  \n",
      " 68  location_Hallway outside M824                                      713 non-null    int64  \n",
      " 69  location_L26                                                       713 non-null    int64  \n",
      " 70  location_L53                                                       713 non-null    int64  \n",
      " 71  location_M547                                                      713 non-null    int64  \n",
      " 72  location_MBH Shuttle Stop                                          713 non-null    int64  \n",
      " 73  location_MZ Shuttle Stop                                           713 non-null    int64  \n",
      " 74  location_OGT3-C5                                                   713 non-null    int64  \n",
      " 75  location_OGT4-C4                                                   713 non-null    int64  \n",
      " 76  location_Parnassus endoscopy L106 outside door in Public Corridor  713 non-null    int64  \n",
      " 77  location_Parnassus endoscopy room                                  713 non-null    int64  \n",
      " 78  location_Public Corridor outside HB047                             713 non-null    int64  \n",
      " 79  location_hallway outside L1059 Parn                                713 non-null    int64  \n",
      " 80  Traffic_High                                                       713 non-null    int64  \n",
      " 81  Traffic_Low                                                        713 non-null    int64  \n",
      " 82  Traffic_Medium                                                     713 non-null    int64  \n",
      " 83  Traffic_None                                                       713 non-null    int64  \n",
      " 84  Weather_Clear                                                      713 non-null    int64  \n",
      " 85  Weather_Clear / Fair                                               713 non-null    int64  \n",
      " 86  Weather_Cloudy                                                     713 non-null    int64  \n",
      " 87  Weather_Fair                                                       713 non-null    int64  \n",
      " 88  Weather_Foggy                                                      713 non-null    int64  \n",
      " 89  Weather_Light Rain                                                 713 non-null    int64  \n",
      " 90  Weather_Mostly Cloudy                                              713 non-null    int64  \n",
      " 91  Weather_Overcast                                                   713 non-null    int64  \n",
      " 92  Weather_Partly Cloudy                                              713 non-null    int64  \n",
      " 93  Weather_Rain                                                       713 non-null    int64  \n",
      " 94  Weather_Scattered Clouds                                           713 non-null    int64  \n",
      " 95  Weather_Sunny                                                      713 non-null    int64  \n",
      " 96  Source_MB                                                          713 non-null    int64  \n",
      " 97  Source_ML                                                          713 non-null    int64  \n",
      " 98  Source_adhoc                                                       713 non-null    int64  \n",
      "dtypes: float64(5), int64(94)\n",
      "memory usage: 557.0+ KB\n"
     ]
    }
   ],
   "source": [
    "file = 'data\\preprocessing.csv'\n",
    "\n",
    "df = pd.read_csv(file,index_col=0,parse_dates=True)\n",
    "\n",
    "#df['Date'] = pd.to_datetime(df['Date'])\n",
    "df['Date'] = pd.to_datetime(df['Date'])\n",
    "df['Date']=df['Date'].map(dt.datetime.toordinal)\n",
    "\n",
    "df['cfu'] = pd.to_numeric(df['cfu'])\n",
    "#df.reset_index()\n",
    "df.info()"
   ]
  },
  {
   "cell_type": "code",
   "execution_count": 3,
   "metadata": {},
   "outputs": [
    {
     "name": "stdout",
     "output_type": "stream",
     "text": [
      "R^2: 0.5217941128461736\n",
      "Root Mean Squared Error: 6.465562751018509\n"
     ]
    }
   ],
   "source": [
    "# linear regression\n",
    "X = df.drop(columns=(['cfu','threshold']))\n",
    "y = df.cfu.values\n",
    "scaler_pt = PowerTransformer()\n",
    "scaler = StandardScaler()\n",
    "\n",
    "X['tp3_lg'] = scaler_pt.fit_transform(X[['Total_Particles>0.3']])\n",
    "X['tp5m3_lg'] = scaler_pt.fit_transform(X[['Total_Particles>0.5/m3']])\n",
    "X['temp_ss'] = scaler.fit_transform(X[['Temp']])\n",
    "X['rh_ss'] = scaler.fit_transform(X[['RH']])\n",
    "\n",
    "X_train, X_test, y_train, y_test = train_test_split(X, y, test_size=0.25, random_state=42)\n",
    "\n",
    "reg = LinearRegression()\n",
    "reg.fit(X_train, y_train)\n",
    "y_pred = reg.predict(X_test)\n",
    "\n",
    "# Compute and print R^2 and RMSE\n",
    "print(\"R^2: {}\".format(reg.score(X_test, y_test)))\n",
    "rmse = np.sqrt(mean_squared_error(y_test, y_pred))\n",
    "print(\"Root Mean Squared Error: {}\".format(rmse))"
   ]
  },
  {
   "cell_type": "code",
   "execution_count": 4,
   "metadata": {},
   "outputs": [
    {
     "data": {
      "image/png": "[encoded data removed]",
      "text/plain": [
       "<Figure size 432x288 with 1 Axes>"
      ]
     },
     "metadata": {
      "needs_background": "light"
     },
     "output_type": "display_data"
    }
   ],
   "source": [
    "# K-Nearest Neighbors\n",
    "y = df.threshold.values\n",
    "\n",
    "X_train, X_test, y_train, y_test = train_test_split(X, y, test_size=0.25, random_state=42)\n",
    "\n",
    "neighbors = np.arange(1, 9)\n",
    "train_accuracy = np.empty(len(neighbors))\n",
    "test_accuracy = np.empty(len(neighbors))\n",
    "\n",
    "# Loop over different values of k\n",
    "for i, k in enumerate(neighbors):\n",
    "\n",
    "    knn = KNeighborsClassifier(n_neighbors=k)\n",
    "    knn.fit(X_train, y_train)\n",
    "    train_accuracy[i] = knn.score(X_train, y_train)\n",
    "    test_accuracy[i] = knn.score(X_test, y_test)\n",
    "\n",
    "\n",
    "plt.title('k-NN: Varying Number of Neighbors')\n",
    "plt.plot(neighbors, test_accuracy, label = 'Testing Accuracy')\n",
    "plt.plot(neighbors, train_accuracy, label = 'Training Accuracy')\n",
    "plt.legend()\n",
    "plt.xlabel('Number of Neighbors')\n",
    "plt.ylabel('Accuracy')\n",
    "plt.show()"
   ]
  },
  {
   "cell_type": "markdown",
   "metadata": {},
   "source": [
    "looks like 6 or 7 neighbors would be good for highest test accuracy."
   ]
  },
  {
   "cell_type": "code",
   "execution_count": 5,
   "metadata": {},
   "outputs": [
    {
     "name": "stdout",
     "output_type": "stream",
     "text": [
      "KNN Score:  0.8603351955307262\n"
     ]
    }
   ],
   "source": [
    "knn = KNeighborsClassifier(n_neighbors=6)\n",
    "knn.fit(X_train,y_train)\n",
    "print(\"KNN Score: \",knn.score(X_test, y_test))"
   ]
  },
  {
   "cell_type": "code",
   "execution_count": 6,
   "metadata": {},
   "outputs": [
    {
     "name": "stdout",
     "output_type": "stream",
     "text": [
      "[[145   2]\n",
      " [ 22  10]]\n",
      "              precision    recall  f1-score   support\n",
      "\n",
      "           0       0.87      0.99      0.92       147\n",
      "           1       0.83      0.31      0.45        32\n",
      "\n",
      "    accuracy                           0.87       179\n",
      "   macro avg       0.85      0.65      0.69       179\n",
      "weighted avg       0.86      0.87      0.84       179\n",
      "\n"
     ]
    }
   ],
   "source": [
    "# logisitic regression\n",
    "X_train, X_test, y_train, y_test = train_test_split(X, y, test_size = 0.25, random_state=42)\n",
    "\n",
    "logreg = LogisticRegression()\n",
    "logreg.fit(X_train, y_train)\n",
    "\n",
    "y_pred = logreg.predict(X_test)\n",
    "\n",
    "print(confusion_matrix(y_test, y_pred))\n",
    "print(classification_report(y_test, y_pred))"
   ]
  },
  {
   "cell_type": "markdown",
   "metadata": {},
   "source": [
    "a lot of false negatives, which is what we want to minimize. erring on the side of caution to ensure CFUs are under threshold."
   ]
  },
  {
   "cell_type": "code",
   "execution_count": 7,
   "metadata": {},
   "outputs": [
    {
     "data": {
      "image/png": "[encoded data removed]",
      "text/plain": [
       "<Figure size 432x288 with 1 Axes>"
      ]
     },
     "metadata": {
      "needs_background": "light"
     },
     "output_type": "display_data"
    }
   ],
   "source": [
    "y_pred_prob = logreg.predict_proba(X_test)[:,1]\n",
    "\n",
    "# ROC curve values: fpr, tpr, thresholds\n",
    "fpr, tpr, thresholds = roc_curve(y_test, y_pred_prob)\n",
    "\n",
    "# Plot ROC curve\n",
    "plt.plot([0, 1], [0, 1], 'k--')\n",
    "plt.plot(fpr, tpr)\n",
    "plt.xlabel('False Positive Rate')\n",
    "plt.ylabel('True Positive Rate')\n",
    "plt.title('ROC Curve')\n",
    "plt.show()"
   ]
  },
  {
   "cell_type": "code",
   "execution_count": 8,
   "metadata": {},
   "outputs": [
    {
     "name": "stdout",
     "output_type": "stream",
     "text": [
      "AUC: 0.8320578231292517\n",
      "AUC scores computed using 5-fold cross-validation: [0.65186441 0.85661017 0.85457627 0.92820513 0.89936441]\n"
     ]
    }
   ],
   "source": [
    "# Area under the ROC curve (AUC)\n",
    "y_pred_prob = logreg.predict_proba(X_test)[:,1]\n",
    "print(\"AUC: {}\".format(roc_auc_score(y_test, y_pred_prob)))\n",
    "cv_auc = cross_val_score(logreg, X, y, cv=5, scoring='roc_auc')\n",
    "print(\"AUC scores computed using 5-fold cross-validation: {}\".format(cv_auc))"
   ]
  },
  {
   "cell_type": "code",
   "execution_count": 9,
   "metadata": {},
   "outputs": [
    {
     "name": "stdout",
     "output_type": "stream",
     "text": [
      "Tuned Decision Tree Parameters: {'criterion': 'gini', 'max_depth': None, 'max_features': 6, 'min_samples_leaf': 4}\n",
      "Best score is 0.8865064512951836\n"
     ]
    }
   ],
   "source": [
    "param_dist = {\"max_depth\": [3, None],\n",
    "              \"max_features\": randint(1, 30),\n",
    "              \"min_samples_leaf\": randint(1, 9),\n",
    "              \"criterion\": [\"gini\", \"entropy\"]}\n",
    "\n",
    "tree = DecisionTreeClassifier()\n",
    "tree_cv = RandomizedSearchCV(tree, param_dist, cv=5)\n",
    "tree_cv.fit(X,y)\n",
    "\n",
    "print(\"Tuned Decision Tree Parameters: {}\".format(tree_cv.best_params_))\n",
    "print(\"Best score is {}\".format(tree_cv.best_score_))\n"
   ]
  },
  {
   "cell_type": "code",
   "execution_count": 11,
   "metadata": {},
   "outputs": [
    {
     "name": "stdout",
     "output_type": "stream",
     "text": [
      "Tree Score:  0.8603351955307262\n"
     ]
    }
   ],
   "source": [
    "tree = DecisionTreeClassifier(tree_cv.best_params_)\n",
    "knn.fit(X_train,y_train)\n",
    "print(\"Tree Score: \",knn.score(X_test, y_test))"
   ]
  },
  {
   "cell_type": "code",
   "execution_count": null,
   "metadata": {},
   "outputs": [],
   "source": []
  }
 ],
 "metadata": {
  "kernelspec": {
   "display_name": "Python 3",
   "language": "python",
   "name": "python3"
  },
  "language_info": {
   "codemirror_mode": {
    "name": "ipython",
    "version": 3
   },
   "file_extension": ".py",
   "mimetype": "text/x-python",
   "name": "python",
   "nbconvert_exporter": "python",
   "pygments_lexer": "ipython3",
   "version": "3.8.5"
  }
 },
 "nbformat": 4,
 "nbformat_minor": 4
}
