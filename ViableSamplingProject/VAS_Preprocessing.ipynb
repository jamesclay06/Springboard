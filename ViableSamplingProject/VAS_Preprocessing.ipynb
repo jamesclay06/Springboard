{
 "cells": [
  {
   "cell_type": "markdown",
   "metadata": {},
   "source": [
    "# Preprocessing and Training Data Development\n",
    "\n",
    "Two things I want to explore: \n",
    "* Is there a **particle count** difference between locations with **CFU** measurements above below 10?\n",
    "* Are particulate counts an indicator of CFU counts?"
   ]
  },
  {
   "cell_type": "code",
   "execution_count": 1,
   "metadata": {},
   "outputs": [],
   "source": [
    "#importing the tools\n",
    "import pandas as pd\n",
    "import numpy as np\n",
    "import seaborn as sns\n",
    "import matplotlib.pyplot as plt\n",
    "import featuretools as ft\n",
    "import featuretools.variable_types as vtypes\n",
    "\n",
    "\n",
    "from sklearn.preprocessing import StandardScaler, MinMaxScaler, PowerTransformer\n",
    "from sklearn.model_selection import train_test_split"
   ]
  },
  {
   "cell_type": "code",
   "execution_count": 2,
   "metadata": {
    "scrolled": true
   },
   "outputs": [
    {
     "data": {
      "text/plain": [
       "(Date                      datetime64[ns]\n",
       " location                          object\n",
       " Temp                             float64\n",
       " RH                               float64\n",
       " Total_Particles>0.3              float64\n",
       " Total_Particles>0.5/m3           float64\n",
       " Traffic                           object\n",
       " Weather                           object\n",
       " cfu                              float64\n",
       " Source                            object\n",
       " dtype: object,\n",
       " (859, 10))"
      ]
     },
     "execution_count": 2,
     "metadata": {},
     "output_type": "execute_result"
    }
   ],
   "source": [
    "file = 'data\\combined_VAS.csv'\n",
    "file2 = 'data\\cfu.csv'\n",
    "file3 = 'data\\prtc.csv'\n",
    "\n",
    "df = pd.read_csv(file,index_col=0,parse_dates=True)\n",
    "cfu = pd.read_csv(file2,index_col=0,parse_dates=True)\n",
    "prtc = pd.read_csv(file3,index_col=0,parse_dates=True)\n",
    "\n",
    "df['Date'] = pd.to_datetime(df['Date'])\n",
    "df['cfu'] = pd.to_numeric(df['cfu'])\n",
    "df.reset_index()\n",
    "df.dtypes,df.shape"
   ]
  },
  {
   "cell_type": "code",
   "execution_count": 3,
   "metadata": {},
   "outputs": [
    {
     "name": "stdout",
     "output_type": "stream",
     "text": [
      "<class 'pandas.core.frame.DataFrame'>\n",
      "Int64Index: 859 entries, 39 to 2089\n",
      "Data columns (total 10 columns):\n",
      " #   Column                  Non-Null Count  Dtype         \n",
      "---  ------                  --------------  -----         \n",
      " 0   Date                    859 non-null    datetime64[ns]\n",
      " 1   location                859 non-null    object        \n",
      " 2   Temp                    859 non-null    float64       \n",
      " 3   RH                      859 non-null    float64       \n",
      " 4   Total_Particles>0.3     859 non-null    float64       \n",
      " 5   Total_Particles>0.5/m3  859 non-null    float64       \n",
      " 6   Traffic                 857 non-null    object        \n",
      " 7   Weather                 716 non-null    object        \n",
      " 8   cfu                     859 non-null    float64       \n",
      " 9   Source                  859 non-null    object        \n",
      "dtypes: datetime64[ns](1), float64(5), object(4)\n",
      "memory usage: 73.8+ KB\n"
     ]
    }
   ],
   "source": [
    "df.info()"
   ]
  },
  {
   "cell_type": "code",
   "execution_count": 4,
   "metadata": {},
   "outputs": [
    {
     "name": "stdout",
     "output_type": "stream",
     "text": [
      "<class 'pandas.core.frame.DataFrame'>\n",
      "Int64Index: 714 entries, 39 to 2089\n",
      "Data columns (total 10 columns):\n",
      " #   Column                  Non-Null Count  Dtype         \n",
      "---  ------                  --------------  -----         \n",
      " 0   Date                    714 non-null    datetime64[ns]\n",
      " 1   location                714 non-null    object        \n",
      " 2   Temp                    714 non-null    float64       \n",
      " 3   RH                      714 non-null    float64       \n",
      " 4   Total_Particles>0.3     714 non-null    float64       \n",
      " 5   Total_Particles>0.5/m3  714 non-null    float64       \n",
      " 6   Traffic                 714 non-null    object        \n",
      " 7   Weather                 714 non-null    object        \n",
      " 8   cfu                     714 non-null    float64       \n",
      " 9   Source                  714 non-null    object        \n",
      "dtypes: datetime64[ns](1), float64(5), object(4)\n",
      "memory usage: 61.4+ KB\n"
     ]
    }
   ],
   "source": [
    "df = df.dropna(axis=0)\n",
    "df.info()"
   ]
  },
  {
   "cell_type": "code",
   "execution_count": 5,
   "metadata": {
    "scrolled": true
   },
   "outputs": [
    {
     "data": {
      "text/plain": [
       "0.0     254\n",
       "1.0     162\n",
       "2.0      69\n",
       "34.0     59\n",
       "3.0      35\n",
       "4.0      21\n",
       "6.0      14\n",
       "5.0      13\n",
       "7.0      12\n",
       "14.0      7\n",
       "10.0      6\n",
       "11.0      6\n",
       "13.0      6\n",
       "8.0       5\n",
       "23.0      5\n",
       "12.0      4\n",
       "17.0      4\n",
       "9.0       4\n",
       "16.0      3\n",
       "24.0      3\n",
       "30.0      3\n",
       "20.0      3\n",
       "26.0      2\n",
       "28.0      2\n",
       "15.0      2\n",
       "22.0      2\n",
       "25.0      2\n",
       "18.0      2\n",
       "33.0      1\n",
       "21.0      1\n",
       "29.0      1\n",
       "31.0      1\n",
       "Name: cfu, dtype: int64"
      ]
     },
     "execution_count": 5,
     "metadata": {},
     "output_type": "execute_result"
    }
   ],
   "source": [
    "df.cfu.value_counts()"
   ]
  },
  {
   "cell_type": "code",
   "execution_count": 6,
   "metadata": {},
   "outputs": [],
   "source": [
    "df['threshold'] = np.where(df['cfu'] < 10, 'under','over') # establish 10CFU threshold\n",
    "df = df[df['RH'] >10]\n",
    "                # ^ removing <10. Relative humidity is the \n",
    "                # | percentage of water vapor in the air \n",
    "                #at a specific temperature; compared \n",
    "                #to the amount of water vapor the air\n",
    "                #is capable of holding at that temperature.\n",
    "df['sample_id'] = df['Date'].astype(str) + '/' + df['location'].astype(str).str.lower().str.replace(' ','-') #new index\n",
    "df = df.set_index('sample_id')\n",
    "dfo=df.select_dtypes(include=['object','category'])\n",
    "df = pd.concat([df.drop(dfo, axis=1), pd.get_dummies(dfo)], axis=1) #adding dummies to df"
   ]
  },
  {
   "cell_type": "code",
   "execution_count": 7,
   "metadata": {},
   "outputs": [],
   "source": [
    "X = df.drop(columns='cfu')\n",
    "y = df.cfu\n",
    "scaler_pt = PowerTransformer()\n",
    "scaler = StandardScaler()\n",
    "\n",
    "X['tp3_lg'] = scaler_pt.fit_transform(X[['Total_Particles>0.3']])\n",
    "X['tp5m3_lg'] = scaler_pt.fit_transform(X[['Total_Particles>0.5/m3']])\n",
    "X['temp_ss'] = scaler.fit_transform(X[['Temp']])\n",
    "X['rh_ss'] = scaler.fit_transform(X[['RH']])\n",
    "\n",
    "X_train, X_test, y_train, y_test = train_test_split(X, y, test_size=0.25, random_state=42)"
   ]
  },
  {
   "cell_type": "code",
   "execution_count": 8,
   "metadata": {},
   "outputs": [
    {
     "data": {
      "text/plain": [
       "((534, 103),\n",
       "              Temp          RH  Total_Particles>0.3  Total_Particles>0.5/m3  \\\n",
       " count  534.000000  534.000000         5.340000e+02            5.340000e+02   \n",
       " mean    71.435581   44.461236         4.509388e+04            1.330042e+06   \n",
       " std      3.563802    9.865844         1.141212e+05            3.158486e+06   \n",
       " min     38.900000   15.000000         2.540000e+02            4.950000e+02   \n",
       " 25%     70.300000   38.000000         2.891000e+03            1.562722e+05   \n",
       " 50%     72.100000   45.950000         1.380000e+04            4.216025e+05   \n",
       " 75%     73.500000   50.800000         4.319150e+04            1.105037e+06   \n",
       " max     78.200000   76.900000         1.338270e+06            4.504894e+07   \n",
       " \n",
       "        location_11L NS  location_11L SEC  \\\n",
       " count       534.000000        534.000000   \n",
       " mean          0.022472          0.029963   \n",
       " std           0.148351          0.170644   \n",
       " min           0.000000          0.000000   \n",
       " 25%           0.000000          0.000000   \n",
       " 50%           0.000000          0.000000   \n",
       " 75%           0.000000          0.000000   \n",
       " max           1.000000          1.000000   \n",
       " \n",
       "        location_350 Parnassus Suite 300 by reception area  \\\n",
       " count                                         534.000000    \n",
       " mean                                            0.001873    \n",
       " std                                             0.043274    \n",
       " min                                             0.000000    \n",
       " 25%                                             0.000000    \n",
       " 50%                                             0.000000    \n",
       " 75%                                             0.000000    \n",
       " max                                             1.000000    \n",
       " \n",
       "        location_350 Parnassus Suite 300 just outside containment  \\\n",
       " count                                         534.000000           \n",
       " mean                                            0.001873           \n",
       " std                                             0.043274           \n",
       " min                                             0.000000           \n",
       " 25%                                             0.000000           \n",
       " 50%                                             0.000000           \n",
       " 75%                                             0.000000           \n",
       " max                                             1.000000           \n",
       " \n",
       "        location_9L NS  location_9L SEC  ...  Weather_Sunny   Source_MB  \\\n",
       " count      534.000000       534.000000  ...     534.000000  534.000000   \n",
       " mean         0.039326         0.031835  ...       0.016854    0.698502   \n",
       " std          0.194551         0.175726  ...       0.128845    0.459339   \n",
       " min          0.000000         0.000000  ...       0.000000    0.000000   \n",
       " 25%          0.000000         0.000000  ...       0.000000    0.000000   \n",
       " 50%          0.000000         0.000000  ...       0.000000    1.000000   \n",
       " 75%          0.000000         0.000000  ...       0.000000    1.000000   \n",
       " max          1.000000         1.000000  ...       1.000000    1.000000   \n",
       " \n",
       "         Source_ML  Source_adhoc  threshold_over  threshold_under      tp3_lg  \\\n",
       " count  534.000000    534.000000      534.000000       534.000000  534.000000   \n",
       " mean     0.207865      0.093633        0.172285         0.827715    0.000540   \n",
       " std      0.406160      0.291591        0.377982         0.377982    0.973888   \n",
       " min      0.000000      0.000000        0.000000         0.000000   -2.171707   \n",
       " 25%      0.000000      0.000000        0.000000         1.000000   -0.802111   \n",
       " 50%      0.000000      0.000000        0.000000         1.000000    0.086847   \n",
       " 75%      0.000000      0.000000        0.000000         1.000000    0.739632   \n",
       " max      1.000000      1.000000        1.000000         1.000000    2.723448   \n",
       " \n",
       "          tp5m3_lg     temp_ss       rh_ss  \n",
       " count  534.000000  534.000000  534.000000  \n",
       " mean    -0.017795    0.017115   -0.037508  \n",
       " std      0.998669    0.928663    0.988785  \n",
       " min     -5.446280   -8.461078   -2.990204  \n",
       " 25%     -0.745315   -0.278797   -0.685073  \n",
       " 50%     -0.034323    0.190251    0.111700  \n",
       " 75%      0.630506    0.555066    0.597782  \n",
       " max      2.970980    1.779802    3.213604  \n",
       " \n",
       " [8 rows x 102 columns])"
      ]
     },
     "execution_count": 8,
     "metadata": {},
     "output_type": "execute_result"
    }
   ],
   "source": [
    "X_train.shape, X_train.describe()"
   ]
  },
  {
   "cell_type": "code",
   "execution_count": 9,
   "metadata": {},
   "outputs": [
    {
     "data": {
      "image/png": "[encoded data removed]",
      "text/plain": [
       "<Figure size 432x288 with 4 Axes>"
      ]
     },
     "metadata": {
      "needs_background": "light"
     },
     "output_type": "display_data"
    }
   ],
   "source": [
    "X_train[['Total_Particles>0.3','Total_Particles>0.5/m3','Temp','RH']].hist()\n",
    "plt.show()"
   ]
  },
  {
   "cell_type": "code",
   "execution_count": 10,
   "metadata": {},
   "outputs": [
    {
     "data": {
      "text/plain": [
       "<AxesSubplot:>"
      ]
     },
     "execution_count": 10,
     "metadata": {},
     "output_type": "execute_result"
    },
    {
     "data": {
      "image/png": "[encoded data removed]",
      "text/plain": [
       "<Figure size 432x288 with 1 Axes>"
      ]
     },
     "metadata": {
      "needs_background": "light"
     },
     "output_type": "display_data"
    }
   ],
   "source": [
    "y_train.hist()"
   ]
  },
  {
   "cell_type": "code",
   "execution_count": 11,
   "metadata": {},
   "outputs": [
    {
     "data": {
      "image/png": "[encoded data removed]",
      "text/plain": [
       "<Figure size 432x288 with 1 Axes>"
      ]
     },
     "metadata": {
      "needs_background": "light"
     },
     "output_type": "display_data"
    }
   ],
   "source": [
    "X_train[['Total_Particles>0.3','Total_Particles>0.5/m3','Temp','RH']].boxplot()\n",
    "plt.show()"
   ]
  },
  {
   "cell_type": "code",
   "execution_count": 12,
   "metadata": {},
   "outputs": [
    {
     "data": {
      "text/plain": [
       "<AxesSubplot:>"
      ]
     },
     "execution_count": 12,
     "metadata": {},
     "output_type": "execute_result"
    },
    {
     "data": {
      "image/png": "[encoded data removed]",
      "text/plain": [
       "<Figure size 432x288 with 1 Axes>"
      ]
     },
     "metadata": {
      "needs_background": "light"
     },
     "output_type": "display_data"
    }
   ],
   "source": [
    "pd.DataFrame(y_train).boxplot()"
   ]
  },
  {
   "cell_type": "markdown",
   "metadata": {},
   "source": [
    "#### The above graphs look non-normal except for RH, which is still a bit skewed. I will need to look at transformed data. \n",
    "#### The boxplots also show they need to be scaled."
   ]
  },
  {
   "cell_type": "code",
   "execution_count": 13,
   "metadata": {
    "scrolled": true
   },
   "outputs": [
    {
     "data": {
      "image/png": "[encoded data removed]",
      "text/plain": [
       "<Figure size 432x288 with 4 Axes>"
      ]
     },
     "metadata": {
      "needs_background": "light"
     },
     "output_type": "display_data"
    }
   ],
   "source": [
    "X_train[['tp3_lg','tp5m3_lg','temp_ss','rh_ss']].hist()\n",
    "plt.show()"
   ]
  },
  {
   "cell_type": "markdown",
   "metadata": {},
   "source": [
    "normalized and scaled. prt5 and temp_ss both have a large negative outlier."
   ]
  },
  {
   "cell_type": "code",
   "execution_count": 14,
   "metadata": {
    "scrolled": true
   },
   "outputs": [
    {
     "data": {
      "image/png": "[encoded data removed]",
      "text/plain": [
       "<Figure size 432x288 with 1 Axes>"
      ]
     },
     "metadata": {
      "needs_background": "light"
     },
     "output_type": "display_data"
    }
   ],
   "source": [
    "X_train[['tp3_lg','tp5m3_lg','temp_ss','rh_ss']].boxplot()\n",
    "plt.show()"
   ]
  },
  {
   "cell_type": "markdown",
   "metadata": {},
   "source": [
    "a lot of temperatires are far from the mean. pausible outlier in tpm5m3"
   ]
  },
  {
   "cell_type": "code",
   "execution_count": 15,
   "metadata": {},
   "outputs": [
    {
     "data": {
      "text/html": [
       "<div>\n",
       "<style scoped>\n",
       "    .dataframe tbody tr th:only-of-type {\n",
       "        vertical-align: middle;\n",
       "    }\n",
       "\n",
       "    .dataframe tbody tr th {\n",
       "        vertical-align: top;\n",
       "    }\n",
       "\n",
       "    .dataframe thead th {\n",
       "        text-align: right;\n",
       "    }\n",
       "</style>\n",
       "<table border=\"1\" class=\"dataframe\">\n",
       "  <thead>\n",
       "    <tr style=\"text-align: right;\">\n",
       "      <th></th>\n",
       "      <th>Date</th>\n",
       "      <th>Temp</th>\n",
       "      <th>RH</th>\n",
       "      <th>Total_Particles&gt;0.3</th>\n",
       "      <th>Total_Particles&gt;0.5/m3</th>\n",
       "      <th>location_11L NS</th>\n",
       "      <th>location_11L SEC</th>\n",
       "      <th>location_350 Parnassus Suite 300 by reception area</th>\n",
       "      <th>location_350 Parnassus Suite 300 just outside containment</th>\n",
       "      <th>location_9L NS</th>\n",
       "      <th>...</th>\n",
       "      <th>Weather_Sunny</th>\n",
       "      <th>Source_MB</th>\n",
       "      <th>Source_ML</th>\n",
       "      <th>Source_adhoc</th>\n",
       "      <th>threshold_over</th>\n",
       "      <th>threshold_under</th>\n",
       "      <th>tp3_lg</th>\n",
       "      <th>tp5m3_lg</th>\n",
       "      <th>temp_ss</th>\n",
       "      <th>rh_ss</th>\n",
       "    </tr>\n",
       "    <tr>\n",
       "      <th>sample_id</th>\n",
       "      <th></th>\n",
       "      <th></th>\n",
       "      <th></th>\n",
       "      <th></th>\n",
       "      <th></th>\n",
       "      <th></th>\n",
       "      <th></th>\n",
       "      <th></th>\n",
       "      <th></th>\n",
       "      <th></th>\n",
       "      <th></th>\n",
       "      <th></th>\n",
       "      <th></th>\n",
       "      <th></th>\n",
       "      <th></th>\n",
       "      <th></th>\n",
       "      <th></th>\n",
       "      <th></th>\n",
       "      <th></th>\n",
       "      <th></th>\n",
       "      <th></th>\n",
       "    </tr>\n",
       "  </thead>\n",
       "  <tbody>\n",
       "    <tr>\n",
       "      <th>2015-04-24/mbh-shuttle-stop</th>\n",
       "      <td>2015-04-24</td>\n",
       "      <td>54.8</td>\n",
       "      <td>68.4</td>\n",
       "      <td>87333.0</td>\n",
       "      <td>4342231.0</td>\n",
       "      <td>0</td>\n",
       "      <td>0</td>\n",
       "      <td>0</td>\n",
       "      <td>0</td>\n",
       "      <td>0</td>\n",
       "      <td>...</td>\n",
       "      <td>0</td>\n",
       "      <td>0</td>\n",
       "      <td>0</td>\n",
       "      <td>1</td>\n",
       "      <td>1</td>\n",
       "      <td>0</td>\n",
       "      <td>1.144058</td>\n",
       "      <td>1.533396</td>\n",
       "      <td>-4.317821</td>\n",
       "      <td>2.361708</td>\n",
       "    </tr>\n",
       "    <tr>\n",
       "      <th>2017-12-22/ogt3-c5</th>\n",
       "      <td>2017-12-22</td>\n",
       "      <td>58.4</td>\n",
       "      <td>27.0</td>\n",
       "      <td>116161.0</td>\n",
       "      <td>3415194.0</td>\n",
       "      <td>0</td>\n",
       "      <td>0</td>\n",
       "      <td>0</td>\n",
       "      <td>0</td>\n",
       "      <td>0</td>\n",
       "      <td>...</td>\n",
       "      <td>0</td>\n",
       "      <td>1</td>\n",
       "      <td>0</td>\n",
       "      <td>0</td>\n",
       "      <td>1</td>\n",
       "      <td>0</td>\n",
       "      <td>1.308254</td>\n",
       "      <td>1.378368</td>\n",
       "      <td>-3.379725</td>\n",
       "      <td>-1.787527</td>\n",
       "    </tr>\n",
       "    <tr>\n",
       "      <th>2018-03-02/mbh-shuttle-stop</th>\n",
       "      <td>2018-03-02</td>\n",
       "      <td>56.0</td>\n",
       "      <td>44.0</td>\n",
       "      <td>68261.0</td>\n",
       "      <td>5763428.0</td>\n",
       "      <td>0</td>\n",
       "      <td>0</td>\n",
       "      <td>0</td>\n",
       "      <td>0</td>\n",
       "      <td>0</td>\n",
       "      <td>...</td>\n",
       "      <td>0</td>\n",
       "      <td>1</td>\n",
       "      <td>0</td>\n",
       "      <td>0</td>\n",
       "      <td>1</td>\n",
       "      <td>0</td>\n",
       "      <td>1.002392</td>\n",
       "      <td>1.714347</td>\n",
       "      <td>-4.005122</td>\n",
       "      <td>-0.083735</td>\n",
       "    </tr>\n",
       "    <tr>\n",
       "      <th>2018-02-22/ed-lot</th>\n",
       "      <td>2018-02-22</td>\n",
       "      <td>56.6</td>\n",
       "      <td>36.0</td>\n",
       "      <td>39368.0</td>\n",
       "      <td>2839223.0</td>\n",
       "      <td>0</td>\n",
       "      <td>0</td>\n",
       "      <td>0</td>\n",
       "      <td>0</td>\n",
       "      <td>0</td>\n",
       "      <td>...</td>\n",
       "      <td>0</td>\n",
       "      <td>0</td>\n",
       "      <td>1</td>\n",
       "      <td>0</td>\n",
       "      <td>1</td>\n",
       "      <td>0</td>\n",
       "      <td>0.686482</td>\n",
       "      <td>1.258157</td>\n",
       "      <td>-3.848773</td>\n",
       "      <td>-0.885519</td>\n",
       "    </tr>\n",
       "    <tr>\n",
       "      <th>2017-01-24/mbh-shuttle-stop</th>\n",
       "      <td>2017-01-24</td>\n",
       "      <td>55.4</td>\n",
       "      <td>56.3</td>\n",
       "      <td>1338270.0</td>\n",
       "      <td>13808348.0</td>\n",
       "      <td>0</td>\n",
       "      <td>0</td>\n",
       "      <td>0</td>\n",
       "      <td>0</td>\n",
       "      <td>0</td>\n",
       "      <td>...</td>\n",
       "      <td>0</td>\n",
       "      <td>1</td>\n",
       "      <td>0</td>\n",
       "      <td>0</td>\n",
       "      <td>1</td>\n",
       "      <td>0</td>\n",
       "      <td>2.723448</td>\n",
       "      <td>2.260481</td>\n",
       "      <td>-4.161472</td>\n",
       "      <td>1.149009</td>\n",
       "    </tr>\n",
       "    <tr>\n",
       "      <th>2015-11-23/bmt-c6924</th>\n",
       "      <td>2015-11-23</td>\n",
       "      <td>71.6</td>\n",
       "      <td>43.4</td>\n",
       "      <td>495.0</td>\n",
       "      <td>495.0</td>\n",
       "      <td>0</td>\n",
       "      <td>0</td>\n",
       "      <td>0</td>\n",
       "      <td>0</td>\n",
       "      <td>0</td>\n",
       "      <td>...</td>\n",
       "      <td>0</td>\n",
       "      <td>1</td>\n",
       "      <td>0</td>\n",
       "      <td>0</td>\n",
       "      <td>0</td>\n",
       "      <td>1</td>\n",
       "      <td>-1.797900</td>\n",
       "      <td>-5.446280</td>\n",
       "      <td>0.059959</td>\n",
       "      <td>-0.143869</td>\n",
       "    </tr>\n",
       "    <tr>\n",
       "      <th>2017-12-19/hallway-by-nursing-station-outside-plastic-barrier-14m</th>\n",
       "      <td>2017-12-19</td>\n",
       "      <td>56.4</td>\n",
       "      <td>46.0</td>\n",
       "      <td>602534.0</td>\n",
       "      <td>13514310.0</td>\n",
       "      <td>0</td>\n",
       "      <td>0</td>\n",
       "      <td>0</td>\n",
       "      <td>0</td>\n",
       "      <td>0</td>\n",
       "      <td>...</td>\n",
       "      <td>0</td>\n",
       "      <td>0</td>\n",
       "      <td>0</td>\n",
       "      <td>1</td>\n",
       "      <td>0</td>\n",
       "      <td>1</td>\n",
       "      <td>2.259770</td>\n",
       "      <td>2.247246</td>\n",
       "      <td>-3.900890</td>\n",
       "      <td>0.116711</td>\n",
       "    </tr>\n",
       "    <tr>\n",
       "      <th>2017-04-27/ogt4-c4</th>\n",
       "      <td>2017-04-27</td>\n",
       "      <td>38.9</td>\n",
       "      <td>40.0</td>\n",
       "      <td>80103.0</td>\n",
       "      <td>5400000.0</td>\n",
       "      <td>0</td>\n",
       "      <td>0</td>\n",
       "      <td>0</td>\n",
       "      <td>0</td>\n",
       "      <td>0</td>\n",
       "      <td>...</td>\n",
       "      <td>0</td>\n",
       "      <td>1</td>\n",
       "      <td>0</td>\n",
       "      <td>0</td>\n",
       "      <td>1</td>\n",
       "      <td>0</td>\n",
       "      <td>1.094355</td>\n",
       "      <td>1.672896</td>\n",
       "      <td>-8.461078</td>\n",
       "      <td>-0.484627</td>\n",
       "    </tr>\n",
       "  </tbody>\n",
       "</table>\n",
       "<p>8 rows × 103 columns</p>\n",
       "</div>"
      ],
      "text/plain": [
       "                                                         Date  Temp    RH  \\\n",
       "sample_id                                                                   \n",
       "2015-04-24/mbh-shuttle-stop                        2015-04-24  54.8  68.4   \n",
       "2017-12-22/ogt3-c5                                 2017-12-22  58.4  27.0   \n",
       "2018-03-02/mbh-shuttle-stop                        2018-03-02  56.0  44.0   \n",
       "2018-02-22/ed-lot                                  2018-02-22  56.6  36.0   \n",
       "2017-01-24/mbh-shuttle-stop                        2017-01-24  55.4  56.3   \n",
       "2015-11-23/bmt-c6924                               2015-11-23  71.6  43.4   \n",
       "2017-12-19/hallway-by-nursing-station-outside-p... 2017-12-19  56.4  46.0   \n",
       "2017-04-27/ogt4-c4                                 2017-04-27  38.9  40.0   \n",
       "\n",
       "                                                    Total_Particles>0.3  \\\n",
       "sample_id                                                                 \n",
       "2015-04-24/mbh-shuttle-stop                                     87333.0   \n",
       "2017-12-22/ogt3-c5                                             116161.0   \n",
       "2018-03-02/mbh-shuttle-stop                                     68261.0   \n",
       "2018-02-22/ed-lot                                               39368.0   \n",
       "2017-01-24/mbh-shuttle-stop                                   1338270.0   \n",
       "2015-11-23/bmt-c6924                                              495.0   \n",
       "2017-12-19/hallway-by-nursing-station-outside-p...             602534.0   \n",
       "2017-04-27/ogt4-c4                                              80103.0   \n",
       "\n",
       "                                                    Total_Particles>0.5/m3  \\\n",
       "sample_id                                                                    \n",
       "2015-04-24/mbh-shuttle-stop                                      4342231.0   \n",
       "2017-12-22/ogt3-c5                                               3415194.0   \n",
       "2018-03-02/mbh-shuttle-stop                                      5763428.0   \n",
       "2018-02-22/ed-lot                                                2839223.0   \n",
       "2017-01-24/mbh-shuttle-stop                                     13808348.0   \n",
       "2015-11-23/bmt-c6924                                                 495.0   \n",
       "2017-12-19/hallway-by-nursing-station-outside-p...              13514310.0   \n",
       "2017-04-27/ogt4-c4                                               5400000.0   \n",
       "\n",
       "                                                    location_11L NS  \\\n",
       "sample_id                                                             \n",
       "2015-04-24/mbh-shuttle-stop                                       0   \n",
       "2017-12-22/ogt3-c5                                                0   \n",
       "2018-03-02/mbh-shuttle-stop                                       0   \n",
       "2018-02-22/ed-lot                                                 0   \n",
       "2017-01-24/mbh-shuttle-stop                                       0   \n",
       "2015-11-23/bmt-c6924                                              0   \n",
       "2017-12-19/hallway-by-nursing-station-outside-p...                0   \n",
       "2017-04-27/ogt4-c4                                                0   \n",
       "\n",
       "                                                    location_11L SEC  \\\n",
       "sample_id                                                              \n",
       "2015-04-24/mbh-shuttle-stop                                        0   \n",
       "2017-12-22/ogt3-c5                                                 0   \n",
       "2018-03-02/mbh-shuttle-stop                                        0   \n",
       "2018-02-22/ed-lot                                                  0   \n",
       "2017-01-24/mbh-shuttle-stop                                        0   \n",
       "2015-11-23/bmt-c6924                                               0   \n",
       "2017-12-19/hallway-by-nursing-station-outside-p...                 0   \n",
       "2017-04-27/ogt4-c4                                                 0   \n",
       "\n",
       "                                                    location_350 Parnassus Suite 300 by reception area  \\\n",
       "sample_id                                                                                                \n",
       "2015-04-24/mbh-shuttle-stop                                                                         0    \n",
       "2017-12-22/ogt3-c5                                                                                  0    \n",
       "2018-03-02/mbh-shuttle-stop                                                                         0    \n",
       "2018-02-22/ed-lot                                                                                   0    \n",
       "2017-01-24/mbh-shuttle-stop                                                                         0    \n",
       "2015-11-23/bmt-c6924                                                                                0    \n",
       "2017-12-19/hallway-by-nursing-station-outside-p...                                                  0    \n",
       "2017-04-27/ogt4-c4                                                                                  0    \n",
       "\n",
       "                                                    location_350 Parnassus Suite 300 just outside containment  \\\n",
       "sample_id                                                                                                       \n",
       "2015-04-24/mbh-shuttle-stop                                                                         0           \n",
       "2017-12-22/ogt3-c5                                                                                  0           \n",
       "2018-03-02/mbh-shuttle-stop                                                                         0           \n",
       "2018-02-22/ed-lot                                                                                   0           \n",
       "2017-01-24/mbh-shuttle-stop                                                                         0           \n",
       "2015-11-23/bmt-c6924                                                                                0           \n",
       "2017-12-19/hallway-by-nursing-station-outside-p...                                                  0           \n",
       "2017-04-27/ogt4-c4                                                                                  0           \n",
       "\n",
       "                                                    location_9L NS  ...  \\\n",
       "sample_id                                                           ...   \n",
       "2015-04-24/mbh-shuttle-stop                                      0  ...   \n",
       "2017-12-22/ogt3-c5                                               0  ...   \n",
       "2018-03-02/mbh-shuttle-stop                                      0  ...   \n",
       "2018-02-22/ed-lot                                                0  ...   \n",
       "2017-01-24/mbh-shuttle-stop                                      0  ...   \n",
       "2015-11-23/bmt-c6924                                             0  ...   \n",
       "2017-12-19/hallway-by-nursing-station-outside-p...               0  ...   \n",
       "2017-04-27/ogt4-c4                                               0  ...   \n",
       "\n",
       "                                                    Weather_Sunny  Source_MB  \\\n",
       "sample_id                                                                      \n",
       "2015-04-24/mbh-shuttle-stop                                     0          0   \n",
       "2017-12-22/ogt3-c5                                              0          1   \n",
       "2018-03-02/mbh-shuttle-stop                                     0          1   \n",
       "2018-02-22/ed-lot                                               0          0   \n",
       "2017-01-24/mbh-shuttle-stop                                     0          1   \n",
       "2015-11-23/bmt-c6924                                            0          1   \n",
       "2017-12-19/hallway-by-nursing-station-outside-p...              0          0   \n",
       "2017-04-27/ogt4-c4                                              0          1   \n",
       "\n",
       "                                                    Source_ML  Source_adhoc  \\\n",
       "sample_id                                                                     \n",
       "2015-04-24/mbh-shuttle-stop                                 0             1   \n",
       "2017-12-22/ogt3-c5                                          0             0   \n",
       "2018-03-02/mbh-shuttle-stop                                 0             0   \n",
       "2018-02-22/ed-lot                                           1             0   \n",
       "2017-01-24/mbh-shuttle-stop                                 0             0   \n",
       "2015-11-23/bmt-c6924                                        0             0   \n",
       "2017-12-19/hallway-by-nursing-station-outside-p...          0             1   \n",
       "2017-04-27/ogt4-c4                                          0             0   \n",
       "\n",
       "                                                    threshold_over  \\\n",
       "sample_id                                                            \n",
       "2015-04-24/mbh-shuttle-stop                                      1   \n",
       "2017-12-22/ogt3-c5                                               1   \n",
       "2018-03-02/mbh-shuttle-stop                                      1   \n",
       "2018-02-22/ed-lot                                                1   \n",
       "2017-01-24/mbh-shuttle-stop                                      1   \n",
       "2015-11-23/bmt-c6924                                             0   \n",
       "2017-12-19/hallway-by-nursing-station-outside-p...               0   \n",
       "2017-04-27/ogt4-c4                                               1   \n",
       "\n",
       "                                                    threshold_under    tp3_lg  \\\n",
       "sample_id                                                                       \n",
       "2015-04-24/mbh-shuttle-stop                                       0  1.144058   \n",
       "2017-12-22/ogt3-c5                                                0  1.308254   \n",
       "2018-03-02/mbh-shuttle-stop                                       0  1.002392   \n",
       "2018-02-22/ed-lot                                                 0  0.686482   \n",
       "2017-01-24/mbh-shuttle-stop                                       0  2.723448   \n",
       "2015-11-23/bmt-c6924                                              1 -1.797900   \n",
       "2017-12-19/hallway-by-nursing-station-outside-p...                1  2.259770   \n",
       "2017-04-27/ogt4-c4                                                0  1.094355   \n",
       "\n",
       "                                                    tp5m3_lg   temp_ss  \\\n",
       "sample_id                                                                \n",
       "2015-04-24/mbh-shuttle-stop                         1.533396 -4.317821   \n",
       "2017-12-22/ogt3-c5                                  1.378368 -3.379725   \n",
       "2018-03-02/mbh-shuttle-stop                         1.714347 -4.005122   \n",
       "2018-02-22/ed-lot                                   1.258157 -3.848773   \n",
       "2017-01-24/mbh-shuttle-stop                         2.260481 -4.161472   \n",
       "2015-11-23/bmt-c6924                               -5.446280  0.059959   \n",
       "2017-12-19/hallway-by-nursing-station-outside-p...  2.247246 -3.900890   \n",
       "2017-04-27/ogt4-c4                                  1.672896 -8.461078   \n",
       "\n",
       "                                                       rh_ss  \n",
       "sample_id                                                     \n",
       "2015-04-24/mbh-shuttle-stop                         2.361708  \n",
       "2017-12-22/ogt3-c5                                 -1.787527  \n",
       "2018-03-02/mbh-shuttle-stop                        -0.083735  \n",
       "2018-02-22/ed-lot                                  -0.885519  \n",
       "2017-01-24/mbh-shuttle-stop                         1.149009  \n",
       "2015-11-23/bmt-c6924                               -0.143869  \n",
       "2017-12-19/hallway-by-nursing-station-outside-p...  0.116711  \n",
       "2017-04-27/ogt4-c4                                 -0.484627  \n",
       "\n",
       "[8 rows x 103 columns]"
      ]
     },
     "execution_count": 15,
     "metadata": {},
     "output_type": "execute_result"
    }
   ],
   "source": [
    "X_train.loc[(X_train['tp5m3_lg']<-4) | (X_train['temp_ss']<-3)]"
   ]
  },
  {
   "cell_type": "markdown",
   "metadata": {},
   "source": [
    "4 of these are outdoor locations, and 6 are above the cfu threshold. seems important. the 2015-11-23/bmt-c6924 sample has the same tp3 and tp5m3, which seems plausible if the air is clean enough as the total particulates above 0.3micron could equal the total particulates above 0.5microns per cubic meter."
   ]
  },
  {
   "cell_type": "code",
   "execution_count": null,
   "metadata": {},
   "outputs": [],
   "source": []
  }
 ],
 "metadata": {
  "kernelspec": {
   "display_name": "Python 3",
   "language": "python",
   "name": "python3"
  },
  "language_info": {
   "codemirror_mode": {
    "name": "ipython",
    "version": 3
   },
   "file_extension": ".py",
   "mimetype": "text/x-python",
   "name": "python",
   "nbconvert_exporter": "python",
   "pygments_lexer": "ipython3",
   "version": "3.8.5"
  }
 },
 "nbformat": 4,
 "nbformat_minor": 4
}
