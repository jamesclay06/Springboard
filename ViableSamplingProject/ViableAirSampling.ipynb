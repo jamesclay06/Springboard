{
 "cells": [
  {
   "cell_type": "markdown",
   "metadata": {},
   "source": [
    "## Data Collection\n",
    "Predicting total colony forming units (CFU) from particle counts, time of day, weather, percentage of outdoor particulates, or location."
   ]
  },
  {
   "cell_type": "markdown",
   "metadata": {},
   "source": [
    "Goal: Organize your data to streamline the next steps of your capstone.\n",
    "\n",
    "■ Data loading\n",
    "■ Data joining"
   ]
  },
  {
   "cell_type": "code",
   "execution_count": 1,
   "metadata": {},
   "outputs": [],
   "source": [
    "#importing the tools\n",
    "import pandas as pd\n",
    "import datetime as dt\n",
    "import numpy as np\n",
    "import os\n",
    "import glob\n",
    "from fuzzywuzzy import fuzz\n",
    "from fuzzywuzzy import process\n",
    "import matplotlib.pyplot as plt"
   ]
  },
  {
   "cell_type": "code",
   "execution_count": 2,
   "metadata": {
    "scrolled": false
   },
   "outputs": [],
   "source": [
    "#Data loading\n",
    "data = pd.read_excel(r'data\\filt_cfus.xlsx', sheet_name = [0,3,4])\n",
    "\n",
    "dfIC = pd.read_excel('data\\VADIC.xlsx', sheet_name = [1], index_col=0, parse_dates=True)\n",
    "dfMC = pd.read_excel('data\\VADMC.xlsx', sheet_name = [0], index_col=0, parse_dates=True)\n",
    "\n",
    "\n",
    "# dfMC is both hospital's particle air sampling data.\n",
    "# dfIC is Infection Control's particle air sampling data.\n",
    "# dfAHA is both hopsital's ad hoc particle air sampling data."
   ]
  },
  {
   "cell_type": "markdown",
   "metadata": {},
   "source": [
    "# Cleaning and unifying CFU data"
   ]
  },
  {
   "cell_type": "code",
   "execution_count": 3,
   "metadata": {
    "scrolled": true
   },
   "outputs": [
    {
     "name": "stdout",
     "output_type": "stream",
     "text": [
      "0                   Date           location  cfu\n",
      "0  2018-11-30 00:00:00   Inside Room L108    1\n",
      "1  2018-11-30 00:00:00     ED Parking lot   34\n",
      "2  2010-11-30 00:00:00  unused agar strip    0\n",
      "3  2018-11-29 00:00:00  unused agar strip    0\n",
      "4  2018-11-29 00:00:00   Inside Room L108    0\n",
      "3         Date           location  cfu\n",
      "0 2018-11-27  UNUSED AGAR STRIP    0\n",
      "1 2018-11-27             11L NS    2\n",
      "2 2018-11-27            11L SEC    5\n",
      "3 2018-11-27             10M NS    1\n",
      "4 2018-11-27           9MICU NS    2\n",
      "4         Date                           location  cfu\n",
      "0 2018-09-14  B1-C6 Balcony   BMT/Hem Onc Spine    1\n",
      "1 2018-09-14             B1-A6 Balcony by A6577    1\n",
      "2 2018-09-14             B1-A5 Balcony by A5577    2\n",
      "3 2018-09-14             B1-A4 Balcony by A4577    1\n",
      "4 2018-09-14             B1-C4 Balcony by C4877    2\n"
     ]
    }
   ],
   "source": [
    "for key in data:\n",
    "     print(key, data[key].head())"
   ]
  },
  {
   "cell_type": "code",
   "execution_count": 4,
   "metadata": {},
   "outputs": [
    {
     "name": "stdout",
     "output_type": "stream",
     "text": [
      "\n",
      " ml: \n",
      " Date        datetime64[ns]\n",
      "location            object\n",
      "cfu                  int64\n",
      "dtype: object (1403, 3) \n",
      " ad hoc: \n",
      " Date        object\n",
      "location    object\n",
      "cfu          int64\n",
      "dtype: object (2532, 3) \n",
      " mb: \n",
      " Date        datetime64[ns]\n",
      "location            object\n",
      "cfu                  int64\n",
      "dtype: object (1219, 3)\n"
     ]
    }
   ],
   "source": [
    "adhoc = pd.DataFrame(data[0])\n",
    "ml = pd.DataFrame(data[3])\n",
    "mb = pd.DataFrame(data[4])\n",
    "\n",
    "print(\"\\n ml: \\n\", ml.dtypes, ml.shape, \"\\n ad hoc: \\n\",adhoc.dtypes,adhoc.shape,\"\\n mb: \\n\", mb.dtypes, mb.shape)"
   ]
  },
  {
   "cell_type": "code",
   "execution_count": 5,
   "metadata": {},
   "outputs": [
    {
     "data": {
      "text/plain": [
       "0      2018-11-30\n",
       "1      2018-11-30\n",
       "2      2010-11-30\n",
       "3      2018-11-29\n",
       "4      2018-11-29\n",
       "          ...    \n",
       "2527   2004-02-03\n",
       "2528   2004-02-03\n",
       "2529   2004-02-03\n",
       "2530   2004-02-03\n",
       "2531   2004-02-03\n",
       "Name: Date, Length: 2532, dtype: datetime64[ns]"
      ]
     },
     "execution_count": 5,
     "metadata": {},
     "output_type": "execute_result"
    }
   ],
   "source": [
    "adhoc['Date'] = pd.to_datetime(adhoc['Date'])\n",
    "adhoc['Date']"
   ]
  },
  {
   "cell_type": "code",
   "execution_count": 6,
   "metadata": {},
   "outputs": [],
   "source": [
    "adhoc['Source'] = 'adhoc'\n",
    "ml['Source'] = 'ML'\n",
    "mb['Source'] = 'MB'"
   ]
  },
  {
   "cell_type": "code",
   "execution_count": 7,
   "metadata": {
    "scrolled": true
   },
   "outputs": [
    {
     "name": "stdout",
     "output_type": "stream",
     "text": [
      "\n",
      " ml Date        datetime64[ns]\n",
      "location            object\n",
      "cfu                  int64\n",
      "Source              object\n",
      "dtype: object \n",
      " ad hoc Date        datetime64[ns]\n",
      "location            object\n",
      "cfu                  int64\n",
      "Source              object\n",
      "dtype: object \n",
      " mb Date        datetime64[ns]\n",
      "location            object\n",
      "cfu                  int64\n",
      "Source              object\n",
      "dtype: object\n"
     ]
    },
    {
     "data": {
      "text/plain": [
       "array([ 1, 34,  0,  9,  3,  2,  5, 27, 14,  4, 11, 24, 22,  7, 23, 19, 20,\n",
       "        8, 13, 12, 28, 10, 17, 18, 30,  6, 16, 15, 31, 26, 25, 21, 86, 46,\n",
       "       32, 29, 33, 39], dtype=int64)"
      ]
     },
     "execution_count": 7,
     "metadata": {},
     "output_type": "execute_result"
    }
   ],
   "source": [
    "print(\"\\n ml\", ml.dtypes, \"\\n ad hoc\",adhoc.dtypes,\"\\n mb\", mb.dtypes)\n",
    "adhoc['cfu'].unique()"
   ]
  },
  {
   "cell_type": "code",
   "execution_count": 8,
   "metadata": {},
   "outputs": [
    {
     "data": {
      "text/plain": [
       "(        Date           location  cfu Source\n",
       " 0 2018-11-30   Inside Room L108    1  adhoc\n",
       " 1 2018-11-30     ED Parking lot   34  adhoc\n",
       " 2 2010-11-30  unused agar strip    0  adhoc\n",
       " 3 2018-11-29  unused agar strip    0  adhoc\n",
       " 4 2018-11-29   Inside Room L108    0  adhoc,\n",
       " (5154, 4))"
      ]
     },
     "execution_count": 8,
     "metadata": {},
     "output_type": "execute_result"
    }
   ],
   "source": [
    "cfu_df = pd.DataFrame(pd.concat([adhoc, ml, mb]))\n",
    "cfu_df.head(), cfu_df.shape"
   ]
  },
  {
   "cell_type": "code",
   "execution_count": 9,
   "metadata": {
    "scrolled": true
   },
   "outputs": [
    {
     "name": "stdout",
     "output_type": "stream",
     "text": [
      "<class 'pandas.core.frame.DataFrame'>\n",
      "Int64Index: 5154 entries, 0 to 1218\n",
      "Data columns (total 4 columns):\n",
      " #   Column    Non-Null Count  Dtype         \n",
      "---  ------    --------------  -----         \n",
      " 0   Date      5154 non-null   datetime64[ns]\n",
      " 1   location  5153 non-null   object        \n",
      " 2   cfu       5154 non-null   int64         \n",
      " 3   Source    5154 non-null   object        \n",
      "dtypes: datetime64[ns](1), int64(1), object(2)\n",
      "memory usage: 201.3+ KB\n"
     ]
    },
    {
     "data": {
      "text/plain": [
       "1754"
      ]
     },
     "execution_count": 9,
     "metadata": {},
     "output_type": "execute_result"
    }
   ],
   "source": [
    "cfu_df.describe()\n",
    "cfu_df.info()\n",
    "len(cfu_df.location.unique())"
   ]
  },
  {
   "cell_type": "markdown",
   "metadata": {},
   "source": [
    "# Time for the Air particulate data"
   ]
  },
  {
   "cell_type": "code",
   "execution_count": 12,
   "metadata": {},
   "outputs": [],
   "source": [
    "ic = pd.DataFrame(dfIC[1].reset_index())\n",
    "mc = pd.DataFrame(dfMC[0].reset_index())"
   ]
  },
  {
   "cell_type": "code",
   "execution_count": 13,
   "metadata": {
    "scrolled": true
   },
   "outputs": [
    {
     "name": "stdout",
     "output_type": "stream",
     "text": [
      "\n",
      " ic: \n",
      " Sampling Date            datetime64[ns]\n",
      "Sample Location                  object\n",
      "Temp                             object\n",
      "RH                              float64\n",
      "Particle (total >.3)            float64\n",
      "Particle (>.5 per m3)           float64\n",
      "Time of Sampling                float64\n",
      "Traffic                          object\n",
      "SF Gate Weather                  object\n",
      "Notes                            object\n",
      "dtype: object (334, 10) \n",
      " mc: \n",
      " Sampling Date            datetime64[ns]\n",
      "Sample Location                  object\n",
      "Temp                            float64\n",
      "RH                              float64\n",
      "Particle (total >.3)            float64\n",
      "Particle (>.5 per m3)           float64\n",
      "Time of Sampling                 object\n",
      "Traffic                         float64\n",
      "SF Gate Weather                  object\n",
      "Notes                            object\n",
      "dtype: object (2406, 10)\n"
     ]
    }
   ],
   "source": [
    "print(\"\\n ic: \\n\", ic.dtypes, ic.shape, \"\\n mc: \\n\",mc.dtypes,mc.shape)"
   ]
  },
  {
   "cell_type": "code",
   "execution_count": 14,
   "metadata": {
    "scrolled": false
   },
   "outputs": [
    {
     "name": "stdout",
     "output_type": "stream",
     "text": [
      "Index(['Date', 'location', 'Temp', 'RH', 'Total_Particles>0.3',\n",
      "       'Total_Particles>0.5/m3', 'Sample_Time', 'Traffic', 'Weather', 'Notes'],\n",
      "      dtype='object') Index(['Date', 'location', 'Temp', 'RH', 'Total_Particles>0.3',\n",
      "       'Total_Particles>0.5/m3', 'Sample_Time', 'Traffic', 'Weather', 'Notes'],\n",
      "      dtype='object')\n"
     ]
    }
   ],
   "source": [
    "#Renaming and unifying column names\n",
    "ic = ic.rename(columns={\"Sampling Date\":\"Date\",\n",
    "                            \"Sample Location\":\"location\",\n",
    "                            \"Particle (total >.3)\":\"Total_Particles>0.3\",\n",
    "                            \"Particle (>.5 per m3)\":\"Total_Particles>0.5/m3\",\n",
    "                            \"Time of Sampling\":\"Sample_Time\",\n",
    "                            \"SF Gate Weather\":\"Weather\",\n",
    "                            \"Percentage .3 over .5\":\"Ratio_0.3/0.5\"})\n",
    "mc = mc.rename(columns={\"Sampling Date\":\"Date\",\n",
    "                            \"Sample Location\":\"location\",\n",
    "                            \"Particle (total >.3)\":\"Total_Particles>0.3\",\n",
    "                            \"Particle (>.5 per m3)\":\"Total_Particles>0.5/m3\",\n",
    "                            \"Time of Sampling\":\"Sample_Time\",\n",
    "                            \"SF Gate Weather\":\"Weather\",\n",
    "                            \"Percentage .3 over .5\":\"Ratio_0.3/0.5\"})\n",
    "\n",
    "print(mc.keys(),ic.keys())"
   ]
  },
  {
   "cell_type": "code",
   "execution_count": 15,
   "metadata": {
    "scrolled": true
   },
   "outputs": [
    {
     "name": "stdout",
     "output_type": "stream",
     "text": [
      "160 123 ['Hallway by Nursing Station outside plastic Barrier 14M'\n",
      " 'Outside of double-doors in long corridor labeled with sign \"Staff Only Do Not Enter.\" These doors are immediately adjacent to 15L north hallways and 15L waiting room. '\n",
      " 'Immediately outside of construction barricade, inside area labedled \"Staff Only Do Not Enter\".'\n",
      " 'Outside 15M west stairwell (barricaded, emergency exit only from construction area).'\n",
      " 'Outside 15M east stairwell (barricaded, emergency exit only from construction area).'\n",
      " 'ED Parking Lot' 'Inside 6 Moffitt South (M618) ICC nursing station'\n",
      " 'Inside 6 Moffitt South ICC Bed 1' 'Inside 6 Moffitt South ICC Bed 10'\n",
      " 'Inside 6 Moffitt South ICC Bed 5' 'Inside 6 Moffitt Sout ICC Bed 9'\n",
      " 'Outside Construction barrier' 'Outside double doors to 12N (cath lab)'\n",
      " 'Inside unit 12N' 'Hallway 12S Corridor'\n",
      " 'Room J146 Mammography Waiting Room' 'Mt. Zion Shuttle Stop'\n",
      " 'Right side hall next to reception desk 8NICU'\n",
      " 'Left side hall next to reception desk 8NICU'\n",
      " 'Inisde the North double doors into 8L'\n",
      " 'Inside the South double doors of 8L' 'MBH BMT Inside room 7'\n",
      " 'MBH BMT Directly Outside Room 7'\n",
      " 'MBH BMT To the right side of room 7 door'\n",
      " 'MBH BMT To the left side of room 7 door' 'MBH BMT Inside room 8'\n",
      " 'MBH BMT Directly outside Room 8'\n",
      " 'MBT BMT To the right side of room 8 door'\n",
      " 'MBH BMT To the left side of room 8 door' 'MBH Shuttle Stop'\n",
      " 'Mammorgraphy waiting room J146' 'Main hallway J115' 'X-Ray room J140'\n",
      " 'Dressing Room J147' 'Inside 6 Moffit South (M618) ICC nursing station'\n",
      " 'Inside 6 Moffit South ICC Bed 1' 'Inside 6 Moffit South ICC Bed 10'\n",
      " 'Outside the construction barricade 5th Floor Moffit Lab'\n",
      " 'Near blood bank window 5th floor Moffit' 'Inside room L 108'\n",
      " 'Hallway outside M618' 'Outside Bed 13 - 14 9 ICU' 'Nursing station 14M'\n",
      " 'M14 Nursing station' 'Hallway outside M1421'\n",
      " '9ICU Hallway outside beds 9-10' 'Adjoining hallway 14M North wing'\n",
      " 'Adjoining hallway 14M East wing'\n",
      " 'ACC 2nd Floor Surgical Faculty clinic waiting room'\n",
      " 'Hallway outside LP286' 'C3804' 'C3810' 'C3817'\n",
      " 'Room 15 (C4751) in the PICU' '1855 entrance'\n",
      " '13ICU hallway outside Bed 7-8'\n",
      " 'Hallway near nursing station outside of construction barriers L1222'\n",
      " 'Hallway outside L1263' 'Hallway outside L508 (Cath Lab)'\n",
      " 'Hallway outside 9ICU bed 7'\n",
      " 'MBH Peds Dialysis Outside Tech Room Door M5202' 'Hallway outside M824'\n",
      " '13ICU hallway outside bed 5' '9ICU nursing station near M901C'\n",
      " '350 Parnassus Suite 300 by Reception Area'\n",
      " '350 Parnassus Suite 300 Just Outside Containment'\n",
      " 'Endoscopy Inside L 108 outside the construction barrier'\n",
      " 'Hallway outside bed 11 9ICU' '11NICU Hallway outside rooms 1 and 2'\n",
      " '10ICC Hallway outside bed 10' 'Hallway outside A651'\n",
      " 'Outside door of A610' 'Reception Desk clinic A610'\n",
      " 'Outside door frame of M524' 'Inside M524 by first sink on right'\n",
      " '12th floor Moffit, 1283A, outside of door leading into construction area (to left of corridor construction barrier)'\n",
      " '11NICU hallway outside bed 6'\n",
      " 'Public corridor, outside doors leading into construction area'\n",
      " 'Non-public east corridor (behind construction area) leading to stairwell (vertical egress)'\n",
      " '11 NICU Hallway Outside Room 3 & 4'\n",
      " 'MLOR 9, adjacent to OR bed, near middle of bed'\n",
      " 'Substerile 8/9 (near OR 9 entry point)'\n",
      " 'Semi-restricted corridor outside OR 9'\n",
      " 'Adjacent MLOR 9/10 Pump Room (near entry point from Pump Room to OR 9)'\n",
      " 'Inside room M104J Surgical waiting area'\n",
      " 'Inside Room M104K surgical waiting area'\n",
      " 'Hallway outside plastic barrier 14M' 'Hallway outside 1414M'\n",
      " '10ICC Hallway outside rm 9' '10ICC hallway outside rm 2'\n",
      " '10ICC inside rm 2' 'Inside 10 ICC Bed 9'\n",
      " '11Long North hallway corrider by nursing station'\n",
      " '11L south Hallway Corrider by nursing staion'\n",
      " 'Outside airway lock before entrance unit by double doors'\n",
      " 'inside airway lock between double doors'\n",
      " 'Past double doors in hallway of unit'\n",
      " 'End of south hallway near entrance to stairs with stairway door closed'\n",
      " 'End of south hallway near entrance to stairs with stairway door open'\n",
      " 'In room L1174' 'In room L1173' 'In room L1172' 'In room L1168'\n",
      " 'In room L1166' 'In room L1164' 'In room L1163' 'In room L1162'\n",
      " 'In room L1159' 'In room L1156' 'In room L1155' 'In room L1153'\n",
      " 'In room L1151' 'In room L1145' 'In room L1139' 'In room L1135'\n",
      " 'In room L1132' 'In room L1131' 'In room L1129' 'In room L1127'\n",
      " 'In room L1125' 'In room L1122' 'In room L1118' 'In room L1116'\n",
      " 'In room L1114' 'In room L1112' 'In room L11?? (East)'\n",
      " 'In room L11?? (West)' 'In room L1104' 'Hallway outside room A515E'\n",
      " 'Near 2nd cement poll by front desk/windows' 'ED parking Lot'\n",
      " '10ICC Hallway Outside Bed 7' '10 ICC Hallway Outside Bed 8'\n",
      " '11NICU hallway outside Bed 2' '13ICU hallway outside bed 7'\n",
      " 'Hallway outside Bed 16 11NICU' 'Hallway outside M1486'\n",
      " 'Hallway outside bed 11 and 11NICU'\n",
      " 'Parnassus Endoscopy Break Room(to right of check-in/out and waiting room)'\n",
      " 'Parnassus Endoscopy, L106 (outside of door, in public corridor)'\n",
      " 'Hb021, at the entry/exit point into the vault'\n",
      " 'HB018, at the entry/exit point into the vault'\n",
      " 'HB004 (Inside this treatment room)'\n",
      " 'HB006 (Inside this treatment room) '\n",
      " \"HB046 (Nurse's Station) in the public corridor in front on the Nurse's station window opening\"\n",
      " 'Public corridor outside HB047'\n",
      " 'HB036 (Family waiting arewa, carpeted space)'\n",
      " 'Public corridor, Long hallway L1059'\n",
      " 'Public corridor, Long hallway L1064'\n",
      " 'Public corridor, Long hallway L1019'\n",
      " 'Public corridor, Long hallway (south hallway of 10L) right before smoke door barriers'\n",
      " 'Public Corridor, Long hallway (10L south hallway) Backside of construction area entry/exit point'\n",
      " 'Public corridor, Long hallway (north Hallway of 10L)'\n",
      " 'Mammography waiting room J146' 'Mt Zion Shuttle Stop'\n",
      " 'AC05 Radiology Waiting Room' 'ACC 5th Floor hallway outside of A592'\n",
      " 'ACC 5th Floor hallway outside of A548' 'Hallway outside L52'\n",
      " 'Hallway outside L75'] ['Long 26' 'Long 53' '11 Long Nursing Station' '11 Long Service Elevator'\n",
      " '9 Long Nurses Station' '9 Long Service Elevator'\n",
      " '9 Long ICU Nurses Station' '10 ICC Nurses Station' 'ED Parking Lot'\n",
      " 'Balcony by A6577' 'Balcony by A5577' 'Balcony by A4577'\n",
      " 'Terrace Door across fr. C5433' 'Terrace Door across fr. C5411'\n",
      " 'Outside Door across fr. C5433' 'Terrace Door by C4617'\n",
      " 'Terrace Door by C4625' 'Terrace Door by C4828' 'Outside Door by C4828'\n",
      " 'Balcony BMT/Hem Onc Spine' 'Balcony by C6877'\n",
      " 'Balcony Msurge/CTCU Spine' 'Balcony by C5877' 'Balcony by C4877'\n",
      " 'Balcony by C4899A' 'Terrace Door by C3899' 'Terrace Door by A3879'\n",
      " 'Rad Onc Waiting Area/Lobby' 'Hem Onc by C6801 (North)'\n",
      " 'Hem Onc by C6899 (South)' 'Hem Onc by C6847A' 'Hem Onc C6S81'\n",
      " 'Hem Onc C6S80' 'Hem Onc by C6827' 'Hem Onc by C6807' 'Hem Onc by C6808'\n",
      " 'Hem Onc by C6835' 'Hem Onc by C6838' 'BMT by C6971 (North)'\n",
      " 'BMT by C6958 (Central)' 'BMT by C6971 (South)' 'BMT North Entrance'\n",
      " 'BMT by C6976 (North)' 'BMT by C6984 (Central)' 'BMT Central Entrance'\n",
      " 'BMT by C6913 (Central)' 'BMT South Entrance' 'BMT By C6901 (South)'\n",
      " 'BMT by C6924' 'BMT C6S91' 'BMT C6S90' 'MBH Shuttle Stop'\n",
      " '9 Moffitt ICU Nurses Station' 'BMT by C6958 ' 'BMT by C6971 '\n",
      " 'Hem Onc by C6S81' 'Hem Onc by C6S80' 'Terrace Door across from C5433'\n",
      " 'Terrace Door across from C5411' 'Outside Door across from C5433'\n",
      " '9 Long Service Station' 'Outside Door by  C4828' 'BMT by C6915 (South)'\n",
      " 'Hem Onc by C6801(South)' 'BMT by C6913 (North)' 'BMT by C6901 (South)'\n",
      " 'Balcony B1-A6 by A6577' 'Balcony B1-A5 by A5577'\n",
      " 'Balcony B1-A4 by A4577'\n",
      " 'Garden Terrace Door Corridor GT1-C4 across fr. C5433'\n",
      " 'Garden Terrace Door Corridor GT2-C5 across fr. C5411'\n",
      " 'Outside Doors OGT3-C5 across fr. C5433 outside double doors '\n",
      " 'Garden Terrace Door Unit Corridor GT1-C4 by C4617'\n",
      " 'Garden Terrace Door Corridor GT2-C4 by C4625'\n",
      " 'Garden Terrace Door Corridor GT3-C4 by C4828'\n",
      " 'Outside Doors OGT4-C4 by C4828'\n",
      " 'Balcony B1-C6 Between BMT/Hem Onc Spine' 'Balcony B2-C6 by C6877'\n",
      " \"Balcony B2-C5 Between Children's Msurge/CTCU Spine\"\n",
      " 'Balcony B2-C5 by C5877' 'Balcony B1-C4 by C4877'\n",
      " 'Balcony B2-C4 in C4899A Anteroom'\n",
      " 'Garden Terrace Corridor GT1-C3 by C3899'\n",
      " 'Garden Terrace Corridor GT2-C3 by A3879' 'Rad Onc Waiting Area/Lobby '\n",
      " 'Hem Onc by C6801 Inside double doors (North Entrance)'\n",
      " 'Hem Onc by C6899 Inside double doors (South Entrance)'\n",
      " 'Hem Onc In unit by emergency stairwell by C6847A'\n",
      " 'Hem Onc Emergency stairwell area of refuge C6S81'\n",
      " 'Hem Onc Emergency Stairwell C6S80' 'Hem Onc Reception desk by C6827'\n",
      " 'Hem Onc Team Station by C6807A' 'Hem Onc Team Station by C6808'\n",
      " 'Hem Onc Team Station by C6835' 'Hem Onc Team Station by C6838'\n",
      " 'BMT North Team Station by C6971 ' 'BMT Central Team Station By C6958'\n",
      " 'BMT South Team Station by C6915 '\n",
      " 'BMT North Entrance Outside double doors'\n",
      " 'BMT North Entrance In between double doors '\n",
      " 'BMT North Entrance Inside double doors by C6976 '\n",
      " 'BMT Central Entrance Outside double doors by C6984 '\n",
      " 'BMT Central Entrance In between double doors '\n",
      " 'BMT Central Entrance Inside double doors by C6913'\n",
      " 'BMT South Entrance Outside double doors'\n",
      " 'BMT South Entrance In between double doors '\n",
      " 'BMT South Entrance Inside double doors By C6901'\n",
      " 'BMT In Unit by Emergency stairwell by C6924'\n",
      " 'BMT Emergency stairwell Area of Refuge by C6S91'\n",
      " 'BMT Emergency stairwell by C6S90'\n",
      " '499 Illinois 6th Floor by Terrace Door' 'Outside of Terrace Door'\n",
      " '6th Floor Elevator Lobby' '499 Illinois Outside of Main Entrance'\n",
      " 'Inside C4899A by Terrace Door' 'Outside of C4899A Terrace'\n",
      " '4th Floor Elevator Lobby' 'Miss Bay Hospital Outside Adult Lobby Doors'\n",
      " 'Long 53/53' '7 Long BMT' '7 Long Nurses Station'\n",
      " '7 Long Service Elevator' '10 IC/ICC ']\n"
     ]
    },
    {
     "data": {
      "text/plain": [
       "((334, 10), (2406, 10))"
      ]
     },
     "execution_count": 15,
     "metadata": {},
     "output_type": "execute_result"
    }
   ],
   "source": [
    "print(len(ic.location.unique()), len(mc.location.unique()),ic.location.unique(),mc.location.unique())\n",
    "\n",
    "ic.shape, mc.shape"
   ]
  },
  {
   "cell_type": "code",
   "execution_count": 17,
   "metadata": {
    "scrolled": true
   },
   "outputs": [
    {
     "data": {
      "text/plain": [
       "(                 Date                                           location  \\\n",
       " Date                                                                       \n",
       " 2018-01-03 2018-01-03  Hallway by Nursing Station outside plastic Bar...   \n",
       " 2019-04-03 2019-04-03  Outside of double-doors in long corridor label...   \n",
       " 2019-04-03 2019-04-03  Immediately outside of construction barricade,...   \n",
       " 2019-04-03 2019-04-03  Outside 15M west stairwell (barricaded, emerge...   \n",
       " 2019-04-03 2019-04-03  Outside 15M east stairwell (barricaded, emerge...   \n",
       " \n",
       "             Temp     RH  Total_Particles>0.3  Total_Particles>0.5/m3  \\\n",
       " Date                                                                   \n",
       " 2018-01-03  72.9   38.0             108659.0               2167314.0   \n",
       " 2019-04-03    68  155.0              20945.0               1778622.0   \n",
       " 2019-04-03    71  150.0              22199.0               1682156.0   \n",
       " 2019-04-03  72.8  148.0              41271.0               1401414.0   \n",
       " 2019-04-03  68.7  146.0              41727.0               1603004.0   \n",
       " \n",
       "            Sample_Time Traffic        Weather Notes  \n",
       " Date                                                 \n",
       " 2018-01-03        1121       1  Mostly Cloudy   NaN  \n",
       " 2019-04-03        1138       3         Cloudy   NaN  \n",
       " 2019-04-03        1143       1         Cloudy   NaN  \n",
       " 2019-04-03        1150       0         Cloudy   NaN  \n",
       " 2019-04-03        1155       0         Cloudy   NaN  ,\n",
       " (2740, 10))"
      ]
     },
     "execution_count": 17,
     "metadata": {},
     "output_type": "execute_result"
    }
   ],
   "source": [
    "#merging the particulate data now that they are in the same format\n",
    "part_df = pd.DataFrame(pd.concat([ic, mc]))\n",
    "\n",
    "part_df.index = part_df['Date']\n",
    "part_df.head(), part_df.shape"
   ]
  },
  {
   "cell_type": "markdown",
   "metadata": {},
   "source": [
    "# Time for merging"
   ]
  },
  {
   "cell_type": "code",
   "execution_count": 20,
   "metadata": {
    "scrolled": true
   },
   "outputs": [
    {
     "data": {
      "text/plain": [
       "(DatetimeIndex(['2018-11-30', '2018-11-30', '2010-11-30', '2018-11-29',\n",
       "                '2018-11-29', '2018-11-29', '2018-11-20', '2018-11-20',\n",
       "                '2018-11-20', '2018-11-20',\n",
       "                ...\n",
       "                '2015-01-23', '2015-01-23', '2015-01-23', '2015-01-23',\n",
       "                '2015-01-23', '2015-01-23', '2015-01-23', '2015-01-23',\n",
       "                '2015-01-23', '2015-04-07'],\n",
       "               dtype='datetime64[ns]', name='Date', length=5154, freq=None),\n",
       " DatetimeIndex(['2018-01-03', '2019-04-03', '2019-04-03', '2019-04-03',\n",
       "                '2019-04-03', '2019-04-03', '2019-03-26', '2019-03-26',\n",
       "                '2019-03-26', '2019-03-26',\n",
       "                ...\n",
       "                '2007-07-31', '2007-07-31', '2007-07-31', '2007-07-31',\n",
       "                '2007-07-31', '2007-07-31', '2007-07-31', '2007-07-31',\n",
       "                '2007-07-31', '2007-07-31'],\n",
       "               dtype='datetime64[ns]', name='Date', length=2740, freq=None))"
      ]
     },
     "execution_count": 20,
     "metadata": {},
     "output_type": "execute_result"
    }
   ],
   "source": [
    "#fixing the index\n",
    "cfu_df = cfu_df.set_index('Date')\n",
    "cfu_df.index, part_df.index"
   ]
  },
  {
   "cell_type": "code",
   "execution_count": 21,
   "metadata": {
    "scrolled": true
   },
   "outputs": [
    {
     "data": {
      "text/html": [
       "<div>\n",
       "<style scoped>\n",
       "    .dataframe tbody tr th:only-of-type {\n",
       "        vertical-align: middle;\n",
       "    }\n",
       "\n",
       "    .dataframe tbody tr th {\n",
       "        vertical-align: top;\n",
       "    }\n",
       "\n",
       "    .dataframe thead th {\n",
       "        text-align: right;\n",
       "    }\n",
       "</style>\n",
       "<table border=\"1\" class=\"dataframe\">\n",
       "  <thead>\n",
       "    <tr style=\"text-align: right;\">\n",
       "      <th></th>\n",
       "      <th>Date</th>\n",
       "      <th>location</th>\n",
       "      <th>Temp</th>\n",
       "      <th>RH</th>\n",
       "      <th>Total_Particles&gt;0.3</th>\n",
       "      <th>Total_Particles&gt;0.5/m3</th>\n",
       "      <th>Sample_Time</th>\n",
       "      <th>Traffic</th>\n",
       "      <th>Weather</th>\n",
       "      <th>Notes</th>\n",
       "      <th>cfu</th>\n",
       "      <th>Source</th>\n",
       "    </tr>\n",
       "  </thead>\n",
       "  <tbody>\n",
       "    <tr>\n",
       "      <th>0</th>\n",
       "      <td>2018-01-03</td>\n",
       "      <td>Hallway by Nursing Station outside plastic Bar...</td>\n",
       "      <td>72.9</td>\n",
       "      <td>38.0</td>\n",
       "      <td>108659.0</td>\n",
       "      <td>2167314.0</td>\n",
       "      <td>1121</td>\n",
       "      <td>1</td>\n",
       "      <td>Mostly Cloudy</td>\n",
       "      <td>NaN</td>\n",
       "      <td>NaN</td>\n",
       "      <td>NaN</td>\n",
       "    </tr>\n",
       "    <tr>\n",
       "      <th>1</th>\n",
       "      <td>2019-04-03</td>\n",
       "      <td>Outside of double-doors in long corridor label...</td>\n",
       "      <td>68</td>\n",
       "      <td>155.0</td>\n",
       "      <td>20945.0</td>\n",
       "      <td>1778622.0</td>\n",
       "      <td>1138</td>\n",
       "      <td>3</td>\n",
       "      <td>Cloudy</td>\n",
       "      <td>NaN</td>\n",
       "      <td>NaN</td>\n",
       "      <td>NaN</td>\n",
       "    </tr>\n",
       "    <tr>\n",
       "      <th>2</th>\n",
       "      <td>2019-04-03</td>\n",
       "      <td>Immediately outside of construction barricade,...</td>\n",
       "      <td>71</td>\n",
       "      <td>150.0</td>\n",
       "      <td>22199.0</td>\n",
       "      <td>1682156.0</td>\n",
       "      <td>1143</td>\n",
       "      <td>1</td>\n",
       "      <td>Cloudy</td>\n",
       "      <td>NaN</td>\n",
       "      <td>NaN</td>\n",
       "      <td>NaN</td>\n",
       "    </tr>\n",
       "    <tr>\n",
       "      <th>3</th>\n",
       "      <td>2019-04-03</td>\n",
       "      <td>Outside 15M west stairwell (barricaded, emerge...</td>\n",
       "      <td>72.8</td>\n",
       "      <td>148.0</td>\n",
       "      <td>41271.0</td>\n",
       "      <td>1401414.0</td>\n",
       "      <td>1150</td>\n",
       "      <td>0</td>\n",
       "      <td>Cloudy</td>\n",
       "      <td>NaN</td>\n",
       "      <td>NaN</td>\n",
       "      <td>NaN</td>\n",
       "    </tr>\n",
       "    <tr>\n",
       "      <th>4</th>\n",
       "      <td>2019-04-03</td>\n",
       "      <td>Outside 15M east stairwell (barricaded, emerge...</td>\n",
       "      <td>68.7</td>\n",
       "      <td>146.0</td>\n",
       "      <td>41727.0</td>\n",
       "      <td>1603004.0</td>\n",
       "      <td>1155</td>\n",
       "      <td>0</td>\n",
       "      <td>Cloudy</td>\n",
       "      <td>NaN</td>\n",
       "      <td>NaN</td>\n",
       "      <td>NaN</td>\n",
       "    </tr>\n",
       "    <tr>\n",
       "      <th>...</th>\n",
       "      <td>...</td>\n",
       "      <td>...</td>\n",
       "      <td>...</td>\n",
       "      <td>...</td>\n",
       "      <td>...</td>\n",
       "      <td>...</td>\n",
       "      <td>...</td>\n",
       "      <td>...</td>\n",
       "      <td>...</td>\n",
       "      <td>...</td>\n",
       "      <td>...</td>\n",
       "      <td>...</td>\n",
       "    </tr>\n",
       "    <tr>\n",
       "      <th>25982</th>\n",
       "      <td>2007-07-31</td>\n",
       "      <td>ED Parking Lot</td>\n",
       "      <td>65.4</td>\n",
       "      <td>61.3</td>\n",
       "      <td>361025.0</td>\n",
       "      <td>NaN</td>\n",
       "      <td>NaN</td>\n",
       "      <td>1</td>\n",
       "      <td>Foggy and Windy</td>\n",
       "      <td>NaN</td>\n",
       "      <td>18.0</td>\n",
       "      <td>adhoc</td>\n",
       "    </tr>\n",
       "    <tr>\n",
       "      <th>25983</th>\n",
       "      <td>2007-07-31</td>\n",
       "      <td>ED Parking Lot</td>\n",
       "      <td>65.4</td>\n",
       "      <td>61.3</td>\n",
       "      <td>361025.0</td>\n",
       "      <td>NaN</td>\n",
       "      <td>NaN</td>\n",
       "      <td>1</td>\n",
       "      <td>Foggy and Windy</td>\n",
       "      <td>NaN</td>\n",
       "      <td>3.0</td>\n",
       "      <td>adhoc</td>\n",
       "    </tr>\n",
       "    <tr>\n",
       "      <th>25984</th>\n",
       "      <td>2007-07-31</td>\n",
       "      <td>ED Parking Lot</td>\n",
       "      <td>65.4</td>\n",
       "      <td>61.3</td>\n",
       "      <td>361025.0</td>\n",
       "      <td>NaN</td>\n",
       "      <td>NaN</td>\n",
       "      <td>1</td>\n",
       "      <td>Foggy and Windy</td>\n",
       "      <td>NaN</td>\n",
       "      <td>4.0</td>\n",
       "      <td>adhoc</td>\n",
       "    </tr>\n",
       "    <tr>\n",
       "      <th>25985</th>\n",
       "      <td>2007-07-31</td>\n",
       "      <td>9 Long ICU Nurses Station</td>\n",
       "      <td>NaN</td>\n",
       "      <td>NaN</td>\n",
       "      <td>26603.0</td>\n",
       "      <td>NaN</td>\n",
       "      <td>NaN</td>\n",
       "      <td>2</td>\n",
       "      <td>Foggy and Windy</td>\n",
       "      <td>NaN</td>\n",
       "      <td>NaN</td>\n",
       "      <td>NaN</td>\n",
       "    </tr>\n",
       "    <tr>\n",
       "      <th>25986</th>\n",
       "      <td>2007-07-31</td>\n",
       "      <td>10 IC/ICC</td>\n",
       "      <td>NaN</td>\n",
       "      <td>NaN</td>\n",
       "      <td>3673.0</td>\n",
       "      <td>NaN</td>\n",
       "      <td>1300</td>\n",
       "      <td>2</td>\n",
       "      <td>Foggy and Windy</td>\n",
       "      <td>NaN</td>\n",
       "      <td>NaN</td>\n",
       "      <td>NaN</td>\n",
       "    </tr>\n",
       "  </tbody>\n",
       "</table>\n",
       "<p>25987 rows × 12 columns</p>\n",
       "</div>"
      ],
      "text/plain": [
       "            Date                                           location  Temp  \\\n",
       "0     2018-01-03  Hallway by Nursing Station outside plastic Bar...  72.9   \n",
       "1     2019-04-03  Outside of double-doors in long corridor label...    68   \n",
       "2     2019-04-03  Immediately outside of construction barricade,...    71   \n",
       "3     2019-04-03  Outside 15M west stairwell (barricaded, emerge...  72.8   \n",
       "4     2019-04-03  Outside 15M east stairwell (barricaded, emerge...  68.7   \n",
       "...          ...                                                ...   ...   \n",
       "25982 2007-07-31                                     ED Parking Lot  65.4   \n",
       "25983 2007-07-31                                     ED Parking Lot  65.4   \n",
       "25984 2007-07-31                                     ED Parking Lot  65.4   \n",
       "25985 2007-07-31                          9 Long ICU Nurses Station   NaN   \n",
       "25986 2007-07-31                                         10 IC/ICC    NaN   \n",
       "\n",
       "          RH  Total_Particles>0.3  Total_Particles>0.5/m3 Sample_Time Traffic  \\\n",
       "0       38.0             108659.0               2167314.0        1121       1   \n",
       "1      155.0              20945.0               1778622.0        1138       3   \n",
       "2      150.0              22199.0               1682156.0        1143       1   \n",
       "3      148.0              41271.0               1401414.0        1150       0   \n",
       "4      146.0              41727.0               1603004.0        1155       0   \n",
       "...      ...                  ...                     ...         ...     ...   \n",
       "25982   61.3             361025.0                     NaN         NaN       1   \n",
       "25983   61.3             361025.0                     NaN         NaN       1   \n",
       "25984   61.3             361025.0                     NaN         NaN       1   \n",
       "25985    NaN              26603.0                     NaN         NaN       2   \n",
       "25986    NaN               3673.0                     NaN        1300       2   \n",
       "\n",
       "               Weather Notes   cfu Source  \n",
       "0        Mostly Cloudy   NaN   NaN    NaN  \n",
       "1               Cloudy   NaN   NaN    NaN  \n",
       "2               Cloudy   NaN   NaN    NaN  \n",
       "3               Cloudy   NaN   NaN    NaN  \n",
       "4               Cloudy   NaN   NaN    NaN  \n",
       "...                ...   ...   ...    ...  \n",
       "25982  Foggy and Windy   NaN  18.0  adhoc  \n",
       "25983  Foggy and Windy   NaN   3.0  adhoc  \n",
       "25984  Foggy and Windy   NaN   4.0  adhoc  \n",
       "25985  Foggy and Windy   NaN   NaN    NaN  \n",
       "25986  Foggy and Windy   NaN   NaN    NaN  \n",
       "\n",
       "[25987 rows x 12 columns]"
      ]
     },
     "execution_count": 21,
     "metadata": {},
     "output_type": "execute_result"
    }
   ],
   "source": [
    "df = part_df.merge(cfu_df,  how='left', on=['location'])\n",
    "df"
   ]
  },
  {
   "cell_type": "code",
   "execution_count": 22,
   "metadata": {
    "scrolled": true
   },
   "outputs": [
    {
     "data": {
      "text/plain": [
       "<bound method NDFrame.describe of             Date                                           location  Temp  \\\n",
       "0     2018-01-03  Hallway by Nursing Station outside plastic Bar...  72.9   \n",
       "1     2019-04-03  Outside of double-doors in long corridor label...    68   \n",
       "2     2019-04-03  Immediately outside of construction barricade,...    71   \n",
       "3     2019-04-03  Outside 15M west stairwell (barricaded, emerge...  72.8   \n",
       "4     2019-04-03  Outside 15M east stairwell (barricaded, emerge...  68.7   \n",
       "...          ...                                                ...   ...   \n",
       "25982 2007-07-31                                     ED Parking Lot  65.4   \n",
       "25983 2007-07-31                                     ED Parking Lot  65.4   \n",
       "25984 2007-07-31                                     ED Parking Lot  65.4   \n",
       "25985 2007-07-31                          9 Long ICU Nurses Station   NaN   \n",
       "25986 2007-07-31                                         10 IC/ICC    NaN   \n",
       "\n",
       "          RH  Total_Particles>0.3  Total_Particles>0.5/m3 Sample_Time Traffic  \\\n",
       "0       38.0             108659.0               2167314.0        1121       1   \n",
       "1      155.0              20945.0               1778622.0        1138       3   \n",
       "2      150.0              22199.0               1682156.0        1143       1   \n",
       "3      148.0              41271.0               1401414.0        1150       0   \n",
       "4      146.0              41727.0               1603004.0        1155       0   \n",
       "...      ...                  ...                     ...         ...     ...   \n",
       "25982   61.3             361025.0                     NaN         NaN       1   \n",
       "25983   61.3             361025.0                     NaN         NaN       1   \n",
       "25984   61.3             361025.0                     NaN         NaN       1   \n",
       "25985    NaN              26603.0                     NaN         NaN       2   \n",
       "25986    NaN               3673.0                     NaN        1300       2   \n",
       "\n",
       "               Weather Notes   cfu Source  \n",
       "0        Mostly Cloudy   NaN   NaN    NaN  \n",
       "1               Cloudy   NaN   NaN    NaN  \n",
       "2               Cloudy   NaN   NaN    NaN  \n",
       "3               Cloudy   NaN   NaN    NaN  \n",
       "4               Cloudy   NaN   NaN    NaN  \n",
       "...                ...   ...   ...    ...  \n",
       "25982  Foggy and Windy   NaN  18.0  adhoc  \n",
       "25983  Foggy and Windy   NaN   3.0  adhoc  \n",
       "25984  Foggy and Windy   NaN   4.0  adhoc  \n",
       "25985  Foggy and Windy   NaN   NaN    NaN  \n",
       "25986  Foggy and Windy   NaN   NaN    NaN  \n",
       "\n",
       "[25987 rows x 12 columns]>"
      ]
     },
     "execution_count": 22,
     "metadata": {},
     "output_type": "execute_result"
    }
   ],
   "source": [
    "df.describe"
   ]
  },
  {
   "cell_type": "code",
   "execution_count": 23,
   "metadata": {},
   "outputs": [
    {
     "data": {
      "text/plain": [
       "Date                          0\n",
       "location                      0\n",
       "Temp                       1687\n",
       "RH                         1687\n",
       "Total_Particles>0.3         365\n",
       "Total_Particles>0.5/m3     7805\n",
       "Sample_Time                6957\n",
       "Traffic                     145\n",
       "Weather                    2914\n",
       "Notes                     25573\n",
       "cfu                        1235\n",
       "Source                     1235\n",
       "dtype: int64"
      ]
     },
     "execution_count": 23,
     "metadata": {},
     "output_type": "execute_result"
    }
   ],
   "source": [
    "df.isnull().sum()"
   ]
  },
  {
   "cell_type": "code",
   "execution_count": null,
   "metadata": {},
   "outputs": [],
   "source": [
    "#ask DJ how to get the titles of columns to stop adding. (dates, dates_x, dates_y)\n",
    "print(df_particulate.keys())"
   ]
  },
  {
   "cell_type": "code",
   "execution_count": null,
   "metadata": {},
   "outputs": [],
   "source": [
    "#df_melt = pd.melt(dfW, id_vars=['Date'], var_name='Location',value_name='CFU')\n",
    "#df_cfu= pd.DataFrame()\n",
    "#df_to_merge = [dfW,dfE,dfAH]\n",
    "\n",
    "#for df in df_to_merge:\n",
    "#    df=pd.melt(df, id_vars=['Date'], var_name='Location',value_name='CFU')\n",
    "print(df_to_merge)"
   ]
  },
  {
   "cell_type": "code",
   "execution_count": null,
   "metadata": {
    "scrolled": true
   },
   "outputs": [],
   "source": [
    "#merging the CFU data now that they are in the same format\n",
    "df_all = df_particulate.merge(df_CFU, how='outer', on=['Date','Location'])\n",
    "df_all"
   ]
  },
  {
   "cell_type": "code",
   "execution_count": null,
   "metadata": {
    "scrolled": true
   },
   "outputs": [],
   "source": [
    "dftest = df_all.dropna(how='all')\n",
    "dftest"
   ]
  },
  {
   "cell_type": "code",
   "execution_count": null,
   "metadata": {
    "scrolled": true
   },
   "outputs": [],
   "source": [
    "#dfE.reset_index()\n",
    "dftest = df_all.set_index(['Date','Location'])\n",
    "print(dftest.head())"
   ]
  },
  {
   "cell_type": "code",
   "execution_count": null,
   "metadata": {},
   "outputs": [],
   "source": [
    "df_all.isnull().sum()"
   ]
  },
  {
   "cell_type": "markdown",
   "metadata": {},
   "source": [
    "Many locations are named in differing patterns, or the room number is in the prior sample(s)."
   ]
  },
  {
   "cell_type": "markdown",
   "metadata": {},
   "source": [
    "## Data Organization\n",
    "Create a file structure and add your work to the GitHub repository you’ve created for this project."
   ]
  },
  {
   "cell_type": "code",
   "execution_count": null,
   "metadata": {},
   "outputs": [],
   "source": [
    "the_list = pd.DataFrame()\n",
    "the_list = the_list.append(df) for df in df_list\n",
    "    \n",
    "print(the_list)"
   ]
  },
  {
   "cell_type": "code",
   "execution_count": null,
   "metadata": {},
   "outputs": [],
   "source": [
    "result = pd.concat(df_list)"
   ]
  },
  {
   "cell_type": "markdown",
   "metadata": {},
   "source": [
    "## Data Definition\n",
    "Goal: Gain an understanding of your data features to inform the next steps of your project."
   ]
  },
  {
   "cell_type": "code",
   "execution_count": null,
   "metadata": {},
   "outputs": [],
   "source": []
  },
  {
   "cell_type": "markdown",
   "metadata": {},
   "source": [
    "## Data Cleaning\n",
    "Goal: Clean up the data in order to prepare it for the next steps of your project"
   ]
  },
  {
   "cell_type": "code",
   "execution_count": null,
   "metadata": {},
   "outputs": [],
   "source": []
  }
 ],
 "metadata": {
  "kernelspec": {
   "display_name": "Python 3",
   "language": "python",
   "name": "python3"
  },
  "language_info": {
   "codemirror_mode": {
    "name": "ipython",
    "version": 3
   },
   "file_extension": ".py",
   "mimetype": "text/x-python",
   "name": "python",
   "nbconvert_exporter": "python",
   "pygments_lexer": "ipython3",
   "version": "3.8.5"
  }
 },
 "nbformat": 4,
 "nbformat_minor": 4
}
