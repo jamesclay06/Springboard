{
 "cells": [
  {
   "cell_type": "markdown",
   "metadata": {},
   "source": [
    "## Data Collection\n",
    "Predicting total colony forming units (CFU) from particle counts, time of day, weather, percentage of outdoor particulates, or location."
   ]
  },
  {
   "cell_type": "markdown",
   "metadata": {},
   "source": [
    "Goal: Organize your data to streamline the next steps of your capstone.\n",
    "\n",
    "■ Data loading\n",
    "■ Data joining"
   ]
  },
  {
   "cell_type": "code",
   "execution_count": 1,
   "metadata": {},
   "outputs": [],
   "source": [
    "#importing the tools\n",
    "import pandas as pd\n",
    "import datetime as dt\n",
    "import numpy as np\n",
    "import seaborn as sns\n",
    "import os\n",
    "import glob\n",
    "\n",
    "import matplotlib.pyplot as plt"
   ]
  },
  {
   "cell_type": "code",
   "execution_count": 2,
   "metadata": {
    "scrolled": false
   },
   "outputs": [],
   "source": [
    "#Data loading\n",
    "data = pd.read_excel(r'data\\filt_cfus.xlsx', sheet_name = [0,3,4])\n",
    "\n",
    "dfIC = pd.read_excel('data\\VADIC.xlsx', sheet_name = [1], parse_dates=True)\n",
    "dfMC = pd.read_excel('data\\VADMC.xlsx', sheet_name = [0], parse_dates=True)\n",
    "\n",
    "\n",
    "# dfMC is both hospital's particle air sampling data.\n",
    "# dfIC is Infection Control's particle air sampling data.\n",
    "# dfAHA is both hopsital's ad hoc particle air sampling data."
   ]
  },
  {
   "cell_type": "markdown",
   "metadata": {},
   "source": [
    "# Cleaning and unifying CFU data"
   ]
  },
  {
   "cell_type": "code",
   "execution_count": 3,
   "metadata": {
    "scrolled": true
   },
   "outputs": [
    {
     "name": "stdout",
     "output_type": "stream",
     "text": [
      "0                   Date           location  cfu\n",
      "0  2018-11-30 00:00:00   Inside Room L108    1\n",
      "1  2018-11-30 00:00:00     ED Parking lot   34\n",
      "2  2010-11-30 00:00:00  unused agar strip    0\n",
      "3  2018-11-29 00:00:00  unused agar strip    0\n",
      "4  2018-11-29 00:00:00   Inside Room L108    0\n",
      "3         Date           location  cfu\n",
      "0 2018-11-27  UNUSED AGAR STRIP    0\n",
      "1 2018-11-27             11L NS    2\n",
      "2 2018-11-27            11L SEC    5\n",
      "3 2018-11-27             10M NS    1\n",
      "4 2018-11-27           9MICU NS    2\n",
      "4         Date                           location  cfu\n",
      "0 2018-09-14  B1-C6 Balcony   BMT/Hem Onc Spine    1\n",
      "1 2018-09-14             B1-A6 Balcony by A6577    1\n",
      "2 2018-09-14             B1-A5 Balcony by A5577    2\n",
      "3 2018-09-14             B1-A4 Balcony by A4577    1\n",
      "4 2018-09-14             B1-C4 Balcony by C4877    2\n"
     ]
    }
   ],
   "source": [
    "for key in data:\n",
    "     print(key, data[key].head())"
   ]
  },
  {
   "cell_type": "code",
   "execution_count": 4,
   "metadata": {},
   "outputs": [
    {
     "name": "stdout",
     "output_type": "stream",
     "text": [
      "\n",
      " ml: \n",
      " Date        datetime64[ns]\n",
      "location            object\n",
      "cfu                  int64\n",
      "dtype: object (1403, 3) \n",
      " ad hoc: \n",
      " Date        object\n",
      "location    object\n",
      "cfu          int64\n",
      "dtype: object (2532, 3) \n",
      " mb: \n",
      " Date        datetime64[ns]\n",
      "location            object\n",
      "cfu                  int64\n",
      "dtype: object (1219, 3)\n"
     ]
    }
   ],
   "source": [
    "adhoc = pd.DataFrame(data[0])\n",
    "ml = pd.DataFrame(data[3])\n",
    "mb = pd.DataFrame(data[4])\n",
    "\n",
    "print(\"\\n ml: \\n\", ml.dtypes, ml.shape, \"\\n ad hoc: \\n\",adhoc.dtypes,adhoc.shape,\"\\n mb: \\n\", mb.dtypes, mb.shape)"
   ]
  },
  {
   "cell_type": "code",
   "execution_count": 5,
   "metadata": {},
   "outputs": [
    {
     "data": {
      "text/plain": [
       "Date        datetime64[ns]\n",
       "location            object\n",
       "cfu                  int64\n",
       "dtype: object"
      ]
     },
     "execution_count": 5,
     "metadata": {},
     "output_type": "execute_result"
    }
   ],
   "source": [
    "#fixing date in ad hoc cfu data\n",
    "adhoc['Date'] = pd.to_datetime(adhoc['Date'])\n",
    "adhoc.dtypes"
   ]
  },
  {
   "cell_type": "code",
   "execution_count": 6,
   "metadata": {
    "scrolled": true
   },
   "outputs": [
    {
     "name": "stdout",
     "output_type": "stream",
     "text": [
      "mb:  {'B1-C4 Balcony by C4877', 'Hem Onc North Entrance Inside Double Doors Hem Onc by C6801 (North)', 'OGT4-C4 Outside Door by C4828', 'Unit Corridor GT1-C4 Terrace door by C4617', 'Corridor GT3-C4 Terrace Door by C4828', 'Hem Onc Team Station by C6838 Hem Onc by C6838', 'Hem Onc Team Station by C6807A Hem Onc by C6807', 'Hem Onc Reception Desk by C6827 Hem Onc by C6827', 'BMT Central Station by C6958 BMT by C6958', 'Shuttle Stop CSS Shuttle Stop CSS', ' Unusded RB Agar Strip', 'B1-A4 Balcony by A4577', 'Corridor GT1-C5 Terrace Door across fr. C5433', 'BMT North Entrance in Between Double Doors BMT North Entrance Between', 'BMT North Entrance Outside Double Doors BMT North Entrance Outside', 'B1-C5 Balcony Msurge/CTCU Spine', 'Corridor GT2-C3 Terrace Door by A3879', 'BMT South Entrance in Between Double Doors BMT South Entrance Between', 'BMT North Entrance Inside Double Doors BMT by C6976 (North)', 'B1-A6 Balcony by A6577', 'Corridor GT2-C5 Terrace Door across fr. C5411', 'BMT South Entrance Inside Double Doors BMT by C6901 (South)', 'B1-A5 Balcony by A5577', 'BMT South Team Station by C6915 BMT by C6915 (South)', 'BMT South Entrance Outside Double Doors BMT South Entrance Outside', 'B1-C6 Balcony   BMT/Hem Onc Spine', 'BMT Central Entrance Inside Double Doors BMT by C6913 (Central)', 'BMT North Team by C6971 BMT by C6971 (North)', ' BMT in Unit by Emergency Stairwell BMT by C6924', 'Hem Onc Emergency Stairwell Stairs Hem Onc C6S80', 'B2-C4 Balcony by C4899A', 'BMT Central Entrance in Between Double Doors BMT Central Entrance', 'Corridor GT2-C4 Terrace Door by C4625', 'BMT South\\nEntrance inside\\ndouble doors Hem Onc by C6899 (South)', 'BMT Central Entrance Outside Double Doors BMT by C6984 (Central)', 'Hem Onc Stairwell Area of Refuge Hem Onc C6S81', 'ROL1-GMB1 Rad Onc Waiting Area/Lobby', 'Corridor GT1-C3 Terrace Door by C3899', 'Hem Onc Team Station by C6835 Hem Onc by C6835', 'Hem Onc in Unit by Emergency Stairwell Hem Onc by C6847A', 'B2-C5 Balcony by C5877', 'BMT Stairwell\\nRefuge BMT C6S91', 'BMT Emergency\\nStairwell BMT C6S90', 'OGT3-C5 Outside Door across fr. C5433', 'B2-C6 Balcony by C6877', 'Hem Onc Team Station by C6808 Hem Onc by C6808'} \n",
      "\n",
      "ml:  {'9L SEC', '11M NS', 'UNUSED AGAR STRIP', '7L NS', 'L26 NS RAD/ONC', 'M-service elevators', '9L NS', 'MZ Shuttle Stop', '10M SEC', '14M NS', 'MZ 5N NS ', 'L53 RADONC', '11L NS', '7L SEC', '8M NS', '9Licu NS', '10M NS', '9MICU NS', '14L NS', '9M SEC', '7L BMT', 'ED LOT', '11M SEC', 'L52 L53 OUTSIDE ROOMS', '11L SEC'} \n",
      "\n",
      "ad hoc:  {nan, 'Reception Desk of Card/Rheu clinic near A96 plaza level', 'Outside Stairwell on 4th Floor by C4S81 MBH', 'HB021 at the entry/exit point into the vault', 'ACC 350:  RADIOLOGY FLOURO ROOM', 'L52 Doorway No. 1', 'M 1592', '2356 Sutter, 3rd Fl. Hallway outside construction zone', 'ACC 5th floor chest and allergy reception desk', 'MTZ HALLWAY OUTSIDE RM B538', 'ED Parking Lot', 'OR 21', 'Balcony by MSURGE CTCU Spine no traffic', 'MZ A5 WEST HALLWAY NEXT TO ABATEMENT ZONE', 'M 12225B Medroom for 12 South, hallway outside M1222B', 'Hallway outside Bed 1 9ICU', '10 ICC Nursing Station PARN', 'RAD ONC Waiting Area Low Traffic', 'B0-C1 Corridor on 5/8', 'Hem Onc by C6827', 'BMT By C6984 (Central)', 'ER Lot No. 2', 'Hallway outside 14L Pantry 12/20/12', 'M697', 'BMT By C6984', '9L L904', 'M641 AC OFF', 'MZ 4 West ICU', 'Balcony By A5577 Low Traffic', 'Hallway outside A407 A426 MtZ', 'Hallway oustide M1118 ', 'L749 DG SAMPLE', 'Long elevator vestibule, 1st floor', 'Public Corridor outside door leading into contruction area Parnassus', 'Inside patient room  L1259 no traffic', 'L382 HALLWAY (NEUROANGIO)', 'Terrace Door by A3879 Low Traffic', '7L Nurses Station', 'ACC inside Room A405', 'L1301 hallway on 1/24/13', ' Hallway past reception desk 1st floor 2255 Post St 9/6 or 9/7', 'Directly outside room BMT#3', 'ACC 350 Hallway West', 'Hallway outside containment CDU L123 ', 'UNUSED MEDIA', 'Hallway oustide 10 ICC, M1001A', 'Outside Door across fr C5433', 'Rheumatology Clinic  hallwayoutside A94-95', '11L L1116', '9 Long Nurses Station', 'Inside patient room L1207 no traffic', 'Hallway outside L52 ', 'L1301 hallway on 1/17/13', 'AC ON (NO OTHER LOCATION INFO PROVIDED)', 'L424 Central Storage Area, Semi restricted Space, Underneath Ductwork Entry\\n into Construction Zone', 'M/L OR Substerile ROO 4/5/ Wall Register', 'Long 52 doorway', 'HEM ONC by C6808 Team Station No Traffic', '1855 Entracne', 'Reception desk Clinic A610', 'Hallway adjacent ouside - L945', '11 Long Service Elevator Parnassus', '11 NICU Hallway outside Rooms 1 & 2', 'Main Hallway Outside of Room C483903', 'In room L1162 No Traffic', 'L424 HALLWAY', 'ACC ASC outside construction barricade in hallway', 'Unused RB Strip', '11 NICU Hallway Outside Room 13 PARN Low Traffic', 'BCH, 6th Floor, C6881 (outside containment unit on both sides)', 'Hallway outside entrance to Decontamination (Basement)  next to project entrance', 'M547 #2', 'L26 Radiation Oncology', '11 NICU MOFFIT NURSING STATION', 'Peds TX Center Outside MED Room', 'NS 8 SOUTH 2', 'Balcony by C4899A', 'HALLWAY OUTSIDE M 01', 'Mt.Zion Cancer center 5th floor Infusion Center', '9L Sevice Elevator', 'Inside room A3772 Neonatal set up room', 'HALLWAY BY M 41', 'MB 6th Floor Hallway', 'RB media', 'OR # 10', 'M 41 BY DUMBWAITER', 'ACC 3 Spine clinic Reception Desk', 'MZ 5N at RN Station', '7 LONG BY SOUTH STAIRWELL', 'HB036 Family waiting area, carpeted space', 'ACC 7th floor Hallway next to entrance of Kidney TX', 'OR - L418', 'ACO5 Radiology; Hallway outside AC21', 'In hallway past the scrub sinks', 'L755 INSIDE ROOM', 'Balcony by A6577 Low Traffic', 'Hallway outside L868', 'Inside OR 20, near gurney/bed, breathing height', 'ED parking lot (control for OR #10 sampling)', 'Balcony by MSURGE CTCU SPINE No Traffic', 'Hallway outside A592 ', 'Hallway outside A12 on 5/6', '7 Long BMT Unit', 'No. 4 Room 12', 'Next to Office M3280', 'Hallway outside ACC A606 Parnassus', 'BMT South Entrance', 'HALLWAY ADJACENT TO ELEV 3 BLDG A 5TH FL', 'Long 511', 'Mt. Zion OR 3', 'M140B @ WINDOW DESK NEAR HALLWAY HEATER', 'ACC 2nd floor PED spec heart waiting area north side', 'Hallway Outside OR 2', 'ACC Plaza level reception desk of Orthotics clinic', '8L SEC', 'Unused RB agar strip', '6PICU Bed 7', 'Hallway Outside L1019', 'INSIDE CLEAN ROOM NEAR WASHERS', 'Hallway outside L945', 'Intermediate containment area', 'ed parking lot', 'BMT By C6924', 'Terrace door acrosss from C5411 low traffic', 'INSIDE M1118 DIALYSIS', 'HALLWAY NEXT TO 11 LONG SERVICE ELEVATORS', 'AMBULANCE ENTRY HALLWAY ', 'Inside patient room L1212 no traffic', 'BMT south Entrance Outside Ddoors Low Traffic', 'M1040', 'Unused AGAR strip', '10 Long hallway outside 1007L', 'hallway outside room 1 8NICU', 'Long 53', '10L SEC', 'INSIDE ROOM 9ICU 6', 'Hallway outside B526 MZ 11/5/12', 'Mt. Zion Suttle Stop', '7L L729', 'OR 26', 'OR 22 (Peds OR)', 'Outside ACC A350 Rm 6', 'BMT north Entrance', 'Hallway Outside L1225', 'A217 MZ  NO.1', 'E.D. Parking Lot', 'Balcony by A557 Low traffic', 'ROOM L389', 'OR 6 (Long)', ' C6 Inside Room: BMT 13', 'Inside the Double Door North Into 8L', 'Dressing Rm. J147 No Traffic', 'Repeat sampling of Hallway outside L108', 'Hallway outside bed 13 9icu', 'Long 52 Doorway No.6', 'No. 5 L52 Tx area remodeling', 'Hallway outside of M345', 'Above desks next to M3231', 'Outside of ML 56 construction barriers', 'Balcony by A5577 Low Traffic', 'Balcony by A557', '9L L22', 'HEM ONC by C6838 Team Station No Traffic', 'Hallway Outside of  10ICC Bed 13', 'HEM ONC by C6899 South Inside Ddoors Low Traffic', 'Hallway outside L1045', 'Hallway outside L61 Radiation Oncology', 'In room L1127 No Traffic', 'BMT by C6958, Central', 'ACC 350 Hallway East', 'L72: Outside of control room diffuser box in hallway', 'SPD rooms M41A,M41Q \\xa0', '9L L922', 'MtZ Shuttle Stop', 'M 041 Material Services', 'ED Parking', ' 6PICU ROOM 10', ' Hallway outside M819', 'Nursing Station 14M', 'Unused RB AGAR Strip', 'Hallway outside Lp286', 'Balcony By C4899A No Traffic', '6PICU Bed 1', 'In room L1168 No Traffic', 'OR 23', 'Hallway outside Bed 11 and 11 NICU', 'Mt Zion shuttle stop Low Traffic near plants', 'hallways outside 1203L on 2/26/13', 'Hallway L1341', 'Blank Strip', 'BMT By C6971 (North)', 'MBH BMT to the Right Side of Room 7 Door', 'C6 Inside room BMT #3', 'ACC PLAZA LEVEL HALLWAY OD A68', 'Long Hallway outside L1059 Parn', ' 2356 Sutter Room J149 waiting room', 'Inside patient room L1218 no traffic', 'ACC A610 Reception Desk PARN', 'MBH Shuttle Stop High Traffic Near Tree', 'MT ZION 5TH FL BY ELEV 3', 'M L OR Outside OR 4 Construction High Traffic', 'Outside Door Across from C5433 No Traffic', 'Main Hallway J115 Low Traffic', 'LONG 26', ' A2683-outside containment near OR 24', 'L26', 'MB Cafeteria between cashiers and dining area', 'C6 to the left of door room for room BMT#3', 'S1158', 'Mount Zion Cancer Center 4th floor (Hallway outside of H4304)', 'Hallway adjacent to Moffit Service Elevator in basement', 'BMT Sout Entrance', 'HALLWAY INSIDE 6PICU', 'BMT By C6924 IN Unit by EMER Stairwell No Traffic', 'Hallway outside 8 east', 'NURSING STATION 10L', 'hallway outside of L704 teen room AND 705', 'L424 Underneath ductwork going into future OR 29 Parnassus', 'Hallway by OR 3', '11 Long Elevator', 'ML OR 2 Outside OR', '7Long BMT L739', 'HALLWAY OUTSIDE M199 TE', 'HALLWAY OUTSIDE A698', '8S Nursing Station low traffic', 'L21 Exam 9', 'HEM ONC by C6835 Team Station Low Traffic', 'Ed Parking Lot', '5L SEC', 'Outside/out front of A592', ' Hallway outside L 347', 'No. 5 Room 14', 'MBH BMT Insdie Patient Room C6911 Bed 3', '10 ICC Hallway outside Bed 10', 'Unsused RB Agar Strip', 'HEM ONC by C6827 Reception Desk Medium Traffic', '61 Long', 'Terrace Door by C4828', '3rd Floor Adult Infusion Center, M3239, specifically outside room M3262', 'Inside Room M104J Surgical Waiting Area', 'Hallway 1340', 'MZ  Shuttle Stop', 'ED parking Lot (BKGND)', 'MOFFITT 6TH FLOOR WEST', 'Hallway outside L1174', 'ACC FIRST FLOOR CHILDRENS RENAL CENTER/ PED TREATMENT CTR', 'Inside Room B0-03 on 5/22', '7E Hallway outside bed 2', 'MBH BMT to the Left Side of Room 7 Door', '7L L705', 'Balcony by C4899A No Traffic', 'BMT By C6958 (Central)', 'Hallway outside soiled utility room - 8Long L809', 'hallway outside 1108Long ', 'Hallway outside L1064 Parn', 'Semi restricted area Long OR outside of red double doors, after OR 4', 'In room L1129 No Traffic', 'Left side Reception Desk 8NICU', '2 LONG PE', 'HALLWAY OUTSIDE M199TE', 'C6 Directly outside Room: \\nBMT #10\\n', 'Mt. Zion Shuttle stop', 'Halllway outside M1082', 'C2712 (outside containment)', 'OR 7', 'Hallway Outside L 61 Radiation Oncology', 'HEM ONC by C6899 South inside Ddoors no traffic Ddoors closed', 'Long Hallway outside L1019', '11 NICU Hallway Outside Bed 2', 'ED L123', 'EMERGENCY DEPT. PARKING LOT 34347', 'Inside North Double Doors Into 8L', 'OR 5 (Long)', 'INSIDE ROOM L951', 'L300 MRLP', 'ACC 350:  HALLWAY IN FRONT', 'HALLWAY OUTSIDE A407 A 426 MTZ', 'Between A2653 (OR10) and A2651 (OR9) outside containment (this area is accessed through door A2667 OR9-12', ' Gateway Medical Building; 5th floor next to containment built outside Pediatric Brain Center 5A', 'M/L OR Outside 4 Construction', 'BMT  Central Entrance', 'M/L OR outside OR4 Construction', 'HB018 at the entry/exit point into the vault no traffic', 'INSIDE OF ROOM 767', '11 NICU NURSING STATION', '11LONG RM,1110 (PANTRY)', '#1 ED LOT', 'BTMBY C6901 (south)', 'M/L Outside Substerile Room 4/5 By Wall Register', 'Hallway outside L108', 'HALLWAY OUT-SIDE M-622', ' A2640 (OR 4 ) outside containment (this area is accessed through door A2630 OR1-8', '11 Long Nursing Station Parnassus', 'Between m192 and m182 outside of containment', 'M35 outside visquine barrier', 'L-26', 'B311 OR10, B317A, B332', 'Inside patient room L1253 no traffic', '12L pantry', 'L361 CT 2', 'Hallway outside PREPARE Clinic waiting room; past L166', 'Hood Room Num 3', 'MOFFITT OR # 14', 'Hallway Outside of M 602', 'Unused RB AGAR strip', 'LPPI Nurse’s station 4th floor ', 'L53', '8S nursing station M812', 'Inside Room B0-03 on 6/5', 1334, '6PICU OUTSIDE ROOM7', 1336, 'hallway outside B 136 MZ on 3/19/13', 1337, 'ACC 5TH FLOOR ALLERGY CLINIC', 'Unused RB STrip', 'HEM ONC by C6808', 'OUTSIDE ROOM 11 NICU BED 9', '11L L31', 'INSIDE ROOM L935', 'Hallway outside RM A515E - ACC 5th Floor - Baseline', '6PICU Bed 3', 'Air Sample Req 5EW camera 0117128', 'C4 PICU 4831-01', 'BMT by C6915(south)', 'Mt ZION SHUTTLE STOP', 'Hood 1', 'In room L1163 No Traffic', 'Balcony BMT HEM ONC SPINE No Traffic', 'HALLWAY NEXT TO CONST ZONE MZ 5WEST', 'RM L363 CT PROCEDURE ROOM', 'Inside L1107', 'unused Agar strip', 'ACC Waiting Are Outside A326B', 'OR 4 ', '11L L1118', 'HEM ONC by C6801 North Medium Traffic Doors Open', 'MZ - Shuttle Stop Medium Traffic Near Plants', 'Hallway between Pediatric and Adult prepare 1st floor', 'Nursing Station 8 NICU', '11NICU nursing station', 'OR 2', 'NEAR ACC A890', '7L L725', '\\xa0\\xa0\\xa0\\xa0\\xa0 Area next\\xa0 to South Infusion Chair area (411D-424B) 9/24', 'Reception Desk of ACC A3 Plaza Level', 'L 79 Hallway', 'L424', 'MOFFITT WEST 2ND FLOOR', 'Next to North Infusion Chair A408A, A408B', 'INSIDE OR 27 PARNASSUS', 'In room L1104 No Traffic', 'L756w heat on', 'Outside 618T', 'MOFFITT 7TH FLOOR WEST', 'C3817', 'ML OR 2 Inside OR', 'ACC 5th Floor near room A5498 and recept. Desk on opposite side A591 and A592', 'L424 Public Corridor outside Hard Barrier vestibule door leading to Construction Areas', '12Long south hallway corridor by nursing station low traffic', 'MBH BMT Hallway near norht Team Station', 'Hallway outside RM. Long 1205', '10 ICC Hallway outside of Bed 10', 'FAR END OF PROJECT BARRICADE NEAR MED LIBRARY', 'Long 53 No. 4', 'M-798', 'Public Corridor Long Hallway south of Hallway 10L Right before smoke door ', 'Public Corridor', 'INSIDE SCRUB ROOM A238', 'L705', '11L L1104', 'OR 22 ANTEROOM', 'Room 1 (A 2 to 24) procedure room', 'Unused RB Agar Strip', '6 LONG BY SOUTH STAIRWELL', 'hallway outside L57 ', 'Inside Room B0-03 on 5/8', 'OR 3 (Long)', '9L L905', 'Unused AGAR Strip', 'A625,A622', 'Inside OR 21, near gurney/bed, breathing height', 'Public Corridor outside door leading into contruction are', 'Outside m140 Admitting Entry', 'Hallway Outside of M620', 'NS MZ OR', 'Terrace Door Across From C5433 Low Traffic', 'OR - OLD AREA, BEDS 25, 30', '9L ROOM # 945.1', 'HALLWAY OUTSIDE A94G EXAM ROOM 9 Low Traffic', 'In room L1156 No Traffic', '8 SOUTH NS', 'MB Shuttle stop', 'OUTSIDE OF ROOM 767', 'Long 6I No. 5', ' M 602 PCRC Infusion Room', 'Hallway outside A12 on 5/3', 'Terrace Door Across FR C5433 Less Traffic', 'L1056', \"L62 Women's waiting\", 'MZ 5 E/W around construction rooms A536 & A537', 'M163 INTERIOR OFFICE OF DEBORAH JONES', 'MZ Dialysis Center - New Construction', 'G 107', 'Hallway outside L1167', 'L152 on 9/12/12', 'UNUSED STRIP', 'BMT by C6901 South Inside Ddoors No Traffic', 'Hallway outside of M 1113', \"No. 6 L63 Men's dressing room\", ' Hallway past reception desk 1st floor 2255 Post St 9/24', 'Hallway outside M1118 AHU ON 11 Moffitt', 'GH INN ROOM 202', 'MZ Loading dock', '13 ICU Hallway outside bed 7 and 8', 'MB 2nd Floor OR core near Room 6', 'U 534', 'basement SEC', 'C6 Directly outside Room:\\nBMT #5\\n', 'BMT C6S90', '10 ICC Hallway  Outside M1033B Bed 11', '6PICU south Bed 1', 'Reception desk 11 ICU', 'ED PARK SUNNY LITTLE WING', 'inside In-patient pharmacy basement Moffitt outside visquine construction containment', 'C2740 (OR17) outside containment (this area is accessed through door C2730 OR 14-21', 'BMT South Entrance Between Ddoors No Traffic', 'Long OR outside of Red double doors after OR 4', 'Inside L1145', ' 2356 Sutter Room J149 hallway outside visquine barrier', 'Near 2nd Cement Poll by Front desk/Windows - ACC 5th Floor - baseline', 'L22 Exam 7', 'In room L1159 No Traffic', 'Inside patient room L 1266 no traffic', 'at entrance of 7L service elevator W with doors closed', 'ED LOR', 'Hallway outside L75', 'BMT by C6901 (South)', 'M305', 'INSIDE ROOM L968', 'Hallway by ED rear exit', 'MOFFITT WEST 3RD FLOOR', 'M69 outside visquine barrier', 'OR L478 NEXT TO BARRIER', 'L424 central storage area, semi restricted area', 'ML OR  Outside Substerile Room 4 5 by wall', 'Terrace Door by C4625 No Traffic', 'ED Parking Lot Low Traffic', 'Unused Agar Strip', 'Balcony By C6877 No Traffic', 'Hallway outside 8NICU room 3', '10 ICC hallway outside M', 'Endoscopy L 106 Hallway Parnassus', 'MBH OR5 (right side)', 'OR #2', 'INTERVENTIONAL RADIOLOGY ROOM 2 M373 RM 9', 'MOFFITT WEST 4TH FLOOR', '9L ROOM #929', '2330 Post st. 4th floor SE Corner', 'Terrace Door by C4828 Low Traffic', '#2 HALLWAY L150', 'BMT by C6924 In Unit by Emer Stairway MBH', 'ACC 5TH FLOOR FRONT DESK', 'MLOR9 Near OR BED Parn', 'Outside ED Rear Entry', '10 ICC RB', 'Inside patient room L1251 no traffic', 'Outside the stairwell (coming from C4S41) on 1st floor', 'Hallway outside construction tent L1229', 'Hallway outside 9ICU bed 13 on 12/16/11', 'L729 INSIDE ROOM', 'Public corridor, opposite end of vestibule', 'Inside patient room L1256 no traffic', 'Semi restricted are long or outside of ORS 2 3 Red double doors no traffic', 'Hallway L1162', 'Hallway outside M1486', 'Hood 1 ', 'Room A2 24 procedure room', 'Hallway Outside Room A094C Medium Traffic', '6 PICU BED8  NO.6 ', 'Terrace Door By C4625', 'Terrace Door by C4617 No Traffic', 'BMT North Entrance Outside Doors No Traffic', 'L389 1618', '11 long Norht Hallway corridor by nursing station low traffic', 'NURSING STATION 12 MOFFIT', 'No. 9 L65 Women restroom', 'ACC LOBBY', 'Hallway outside L166', 'MTZ SHUTTLE STOP 7191078', 'L424 Underneath ductwork going inot future OR 29', '10 ICC nurses station', 'Hallway outside L175', '3L SEC', 'Mount Zion Cancer Center 4th floor (Hallway outside of H4308', 'Balcony by BMT HEMONC SPINE Low Traffic', 'In room L1116 No Traffic', 'BMT Room 2 C6 Right side of door', 'L801 hallway on 1/17/13', '9 Long Nurses Station High Traffic Near plants', 'Control ED Parking Lot', 'In room L11?? No Traffic', '2 OR 22', '2330 Post St. Hallway outside 3 rd floor elevator', 'Hood Room Num 5', '10 ICC Hallway Outside M1033A BED 12', 'Outside of C4899A on Terrace', \"L51 Men's waiting\", '11 Long near Long elevator', 'Hallway outside 11L Pantry on 12/20/12', 'L659', '10 ICC EAST WING', 'Hallway outside L166 - follow up', '7L 722', 'L424 semi restricted area underneath ductwork going into future OR 29 no traffic', 'BMT by C6976', '11 ICC/ICC', 'OUTSIDE CONSTRUCTION BARRICADE DOOR', 'MZ M327', 'HALLWAY OUTSIDE M342', 'Hem Onc C6S80', 'MZ HALLWAY Outside H006 & H002', 'Unused RB Agar', 'Hood 4', 'terrace door acrosss from C5433 medium traffic', '11 NICU BED 6', 'HALLWAY OUTSIDE OF M827 NEW CONSTRUCTION', 'Black Strip', 'E.D. PARKING LOT ', '10L North Hallway', 'Mt. Zion Shuttle Stop Light', 'S 1158 hood no.1 ', 'BMT North Entrance Between Doors MBH', 'Hallyway outside L166 exact locations TBD by EH&S ', '9 ICU NURSING STATION', 'MOFFITT OR #22', 'Public Corridor, door leading into construction area', 'MBH BMT Directly Outside Room 7', 'hallways outside L303 (next to L383,where the vesquine is)', '12/12A, 10ICC/ICC', 'Parnassus endoscopy L106 outside door in Public Corridor', ' L152 ED Exam Room', 'unused media', '15 ICN North Wing', '10ICC', '6 SCIENCE WEST OF DOUBLE DOORS', 'C6 to the right of door for room BMT #3', 'ADULT PACU # 5', 'MZ 2ND FLOOR', '10ICC Room 12', 'HEM ONC by C6838 team station low traffic', 'ED parking Lot', 'Outside Airway Lock Before Entranace Unit by DD, no traffic', 'Inside Room M104K Surgical Waiting Area', '11 Long Service Elevator Medium Traffic Elevator Opeining', 'L08', 'Inside Airway lock between DD North, no traffic', 'Hood Room Num 4', '9 icu Nurses station Near M 901C', 'BMT C6S90 Emer Stairway MBH', 'OR 25', 'Hallway by OR 2', 'L370', 'outside L1134 on 3/13/12', '6 PICU BED6  NO.5', 'MBH BMT to the Left Side of Room 8 Door', \"Long OR outside of OR's 2/3 red double doors\", 'Right side Reception Desk 8NICU', '7Long room 729', 'ED parking lot', 'ED Parking Lot by Planters', 'Inside patient room L1216 no traffic', '5 North at MZ Nurses Station', 'Hallway L756', 'BMT North Entrance Outside Doors', 'GH INN ROOM 102', 'MBH BMT to the right side of room 8 door low traffic', 'Moffit Cardiology Outside of M324/M326 Parn', 'L170', 'L52', 'MB hallway by Cafeteria entrance', 'OR 10', 'NS MZ 4E', 'inside patient room L1125', 'Hallway outside A422', 'L152 ED Exam room - follow up', 'Mount Zion Cancer Center 4th floor (Hallway between H4502)', 'MTZ HALLWAY OUTSIDE ROOM A242', 'inside L1114', 'MBH Peds Dialysis Outside Tech Rm.Door M5202', 'ED Lot', 'Balcony by A5577 Low traffic', 'ER Lot No. 3', '26 Long', 'BMT Central Entrance Between Ddoors Low Traffic 4 Ddoor openings', 'Hallway outside L172', 'Outside Door by C4828 Low Traffic', 'C2740 (OR 17) outside containment (this area is accessed through door C2730 OR 14-21)', 'ADULT PACU #9', '\\xa0\\xa0\\xa0\\xa0\\xa0 Hallway outside A422 and inside room if possible 9/24', 'MZ 4E Hallway outside construction room', 'In room L1131 No Traffic', 'BMT North Entrance', 'Amb Surgery Center reception desk', 'L734 DG SAMPLE', 'Hallway outside M667', 'BMT Central Entrance', '13ICU Hallway Outside Bed 7', 'BMT by C6984(central)', 'Hallway outside M-345', '6PICU Bed 4', '8 East critical care outside hallway', 'Basement of Cancer Center at MZ Hallway outside barriers of room HB016', 'ACC inside of A101 Clinical Research reception area', 'hallway outside A627 ACC ', '10S NS (ad hoc)', 'OR 3', 'OUTSIDE EHS', 'Outside Door Across from C5433 no traffic near plants', 'Inside Stairway on 4th Floor by C4S81 MBH', '10 ICC Nurses Statioin', 'Nursing Station for 10ICC ', 'MZ Basement Pharmacy', 'SPD West', 'Past double doors in hallway of unit north low trafffic 1 Ddoor entrance', 'Inside  OR2 No Traffic', 'Hallway outsideL350 Nuclear Medicine', 'Public corridor, Long hall (south hallway of 10L) right before smoke door baries', 'Hallway outside 14 14M', 'Hallway outside OR 3', 'INSIDE STAIRWELL, WEST DOOR TO 7L CLOSED', 'Long or 1', 'L71 Exam 4', 'Pediatric Brain Center 5A, Gateway Medical Bldg.', '12M Service Elevators', 'HALLWAY OUTSIDE OF A94D EXAM', '11 NICU Hallway Outside Room 3 &4', 'HEM ONC By C6838', '10 ICC RM 7 PT BONILLA', 'HALLWAY OUTSIDE L815 34347', 'MZ 5E outside room 519', 'Hallway outside L79', 'MT ZION 3RD FL BY ELEV 3', 'or 22 inside room', 'Unused RB Agar Strips', 'MZ 5N NS', '10 ICC NORTH WING', 'Critical care remodel', 'BMT by C6958 (central)', 'Hallway Outside L 79', '2L SEC loading dock', \"Long OR outside or OR's 2.3 red double doors Parnassus\", 'Area outside M4316', 'MOFFITT 13TH FL', 'MBH BMT Hallway near south Team Station', 'BY ELEV 3 3RD FL', 'BMT by C6924', '10 ICC ', 'C6 Directly outside Room:\\nBMT #10\\n', 'Hallway outside L907', 'Hallway outside 731L', 'Terrace Door Across from C5411 Medium Traffic', 'HEM ONC by C6807 Team Station Low Traffic', 'Inside L1153', 'BMT C6S90 EMER Stairwell No Traffic', 'HB021 at the entry/exit point into the vault no traffic', '#3 ED ROOM #9', 'C6 To the right side of the door for Room: \\nBMT #5\\n', 'Hallway outside following room - L864', 'MBH - Area Outside M4316', 'waiting room outside room 1', 'Nursing Station as you enter transfusion clinic from waiting room AA 4th Floor', 'Long Hallway outside L1064 Parn', 'North Hallway of 10 Long Parnassus', '3rd floor kidney transplant outside copier room  and in the waiting room', 'HALLWAY OUTSIDE A095 EXAM ROOM B Low Traffic', 'Room B0-06 on 4/11/13', 'Inside room A401', 'INSIDE ROOM L774', 'Hallway outside bed 15 in 11NICU', 'Hallway outside ACC A620 Parnassus', 'Hallway outside L1263', 'BMT South Entrance Between Ddoors MBH', 'HEM onc by C6835 team station low traffic', 'In room L1174 No Traffic', 'unused RB Agar Strip', '10ICC Room 6', 'A427B Chemo Prep room', 'L 141 ED', 'ED', 'Inside patient room L1268 no traffic', 'hallways outside L903', 'Rad Outside Chest reading Room', 'OR 8 Inside', 'OR - L412H', 'MBH OR5 (inside)', 'RADIOLOGY ROOM MO5', 'BMT by C6915 South Team Station Low Traffic', 'Terrace Door Across FR C5411 Low Traffic', 'Adjoining hallway 14M East Wing', 'Terrace Door by C4617 Enter Through C4C60 No Traffic', 'Inside South Double Doors of 8L', 'Unujsed RB Strip', 'Hallway Outside MZ 5 North', 'M697 Parn 521521', '11L pantry', 'L1013', 'ED Parkin Lot', 'MZ - X Ray Rm. J149 No Traffic', '7 SCIENCE JUST WEST OF DOUBLE DOORS', 'Terrace Door by A3879', 'MBH BMT to the left side of room 8 door low traffic', '11L L04', 'Inside patient room L1255 no traffic', 'ED Parking LOT  Low Traffic Near Plants', 'Outside of Terrace Door', 'Inside Room B0-03 on 5/15', '9L Nurses Station', 'OR 28', 'MT ZION 4TH FL BY ELEV 3', 'ACC 2ns floor surgical faculty clinic waiting room', 'Hallway outside Bd 1 8NICU', 'Balcony By A4577 No Traffic', 'Hem Onc C6S81', 'Hallway Outside of M599MG Low Foot Traffic', 'MZ B 327', 'X Ray Room J149 No Traffic', 'HB006 Inside this treatment room no traffic', 'Balcony BMT HEMONC Spine Low Traffic 2Ddoor Openings', 'Hood Room Num 2', '7 Long Nurses Station STAT 4/20/12', ' C6 Inside Room:\\nBMT #10\\n', 'ACC 5th floor 400 PARN Infusion Center', 'B0-C1 Corridor on 5/15', 'MZ Cancer Center; hallway outside H2813', 'Long or 9', 'ACC Inside Room A422', 'L72 Outside of control room diffuser box in hallway', 'Unused RB agar Strip', 'Hallway by nursing station outside plastic barrier 14M', 'Hallway outside L1103', 'A2683 outside containment near OR24', 'Adjacent MLOR 9/10 Pump room Par', 'HEM ONC by C6801 North Inside Ddoors Open Low Traffic', 'Balcony BMT HEM ONC Spine medium traffic 4 DDOOR openings', 'Long or 11', 'OPB 4th Fl. Hallway zone 1, next to exam rooms', 'OR HALLWAY OUTSIDE OR 28', 'ED Hallway outside L148A code room', '10 ICC NURSING STAION', '8L Nursing Station', '7 Long/Moffitt hallway outside of containment', 'Hallway outside L 939', '11L L1132', 'Hallway outside L561', 'Hallway oustide M11118 AHU on 11 Moffitt', '7 LONG l705', 'M L OR Outside Substerile Room 4 5 by Wall Register Low Traffic', 'Hallway outside of MZ B 106 Endoscopy', 'Mt. Zion Shuttle Stop', 'OUTSIDE 7PICU STATION ON LEFT', 'MT ZION SHUTTLE STOP ', 'Directly Inside Room:\\nM1344\\n', '15 ICN West Wing', 'outside OR 28', 'L170 Front Hallway', '9 LONG L904', 'HALLWAY OUTSIDE OF ROOM J714', 'Terrace Door by C3899', 'L755 w heat off', 'C3810', 'Hallway outside 10 ICC bed 9', 'Hallway Outside OR2 Medium Traffic', 'Hallway outside 7M/&E Bed 3', 'Hallway outside L1125', 'ED Parking Elevator', 'Outside airway lock before entrance unit by double doors north low traffic 1 entrance to doors', 'BMT by C6971 (north)', 'Mission Bay ICN Room C3889 Yellow 06', 'Inside patient room L1204 no traffic', 'Inside L1149', 'L739', '10 IC/ICC', 'Hallway outside L109', 'Public Corridor Outside Hard Barrier Vestibule Door Leading into Construction Area', 'Long or 5', 'Terrace door across from C5433 low traffic', 'BMT by C6913 Central inside Ddoors Low Traffic 1 Ddoor opening', 'Hallway outside L 140 (Emergency Department)', 'Near 2nd Cement Poll by Front desk/Windows - ACC 5th Floor ', 'HEM ONC by C6838 Team Station Low Traffic', '9ICU hallway outside beds 4 and 5', '10 ICC Nurses Station High Traffic Near Plants 2 Door Openings', 'BY ELEV 3 5TH FL', 'Semi restricted corridor outside OR9 Parn', 'MZ Dialysis Center - baseline', '10 Long Backside of Construction Entrance', 'MZ 5 North', \"HB046 Nurse's station in public corridor in front, window opening\", 'Front reception desk of Peds Primary Care 2330 Post St., 3rd floor on 10/31/12', 'Hallway outside 1015L', 'nursing station 14 M', 'Blacony by A4577 Low traffic', 'Long26', 'MBH Shuttle Stop', 'Hallway outside of M824 and 827 on 12/20/11', 'Terrace Door by C4617 Enter though C4C60 no traffic', 'HEM ONC C6S80', 'HEM ONC By C6847A', 'Hallway Outside of M 719', 'UNUSED AGAR STRIP ', 'Semi restricted area. Long OR outside of Ors 2/3 red double', '6 PICU M618T  NO.3 ', 'MT. ZION SHUTTLE STOP', 'HEM ONC C6S80 EMER Stairwell No Traffic', 'Outside L816 containment', 'Teen Room C 6411', 'MZ 4E Hallway outside 427 construction room', 'ED parking lot, ACC 5th floor, Baseline', 'B009 MZ Basement on 2/7/13', 'In room L1118 No Traffic', 'Balcony C6877 Low Traffic', 'air sampling for hallway outside L1068 AFTERNOON OF 11/14/13', 'HSE 301', 'Long 633', 'Mt. Zion Shuttle Stop Low Traffic Near Plants', 'NURSES STATION MZ OR', 'HEM ONC C6S81 Area of refuge No Traffic', 'Moffitt cardiology outside construction doors Parn', 'In room L1164 No Traffic', 'HEM ONC by C6899 South Inside Ddoors Medium Traffic 3 Ddoor Opening', '9 ICU Serice Elevator', 'Hallway outside L508 cath lab', 'HB004 inside this treatment rm no traffic', 'MB 2nd Floor OR 4oom 6 hallway outside', 'OUTSIDE ROOM 11 NICU BED 2', 'Long OR, Outside of red double doors', 'Inside the north double door 8L', 'Directly Inside Room: \\nM2373\\n', '8 Long Cooridor', 'Hallway outside 1139L', 'L801 hallway on 1/24/13', 'BMT By C6913 (Central)', 'HALL AC 21H ', '10 ICC Inside M2', 'MZ- Mammography Waiting Rm. J146 Low Traffic', 'HEM ONC by C6S80 EMER Stairwell No Traffic', 'Hallway outside soiled utility room - 9Long L909', 'ED Parking Lot low traffic near plants', 'End of south hallway by stair entrance with door closed bo traffic', 'HALLWAY OUTSIDE L874', 'Balcony msurge CTCU spine low traffic', 'Terrace door across from C5411 low traffic', 'L170 BACK', 'Floor ACC', 'Long 26 Low Traffic', '11 LONG L1132', 'BMT by C6976 North Inside Ddoors Low traffic 2 Ddoor Openings', 'L72 CT Scan', 'HB018 at the entry/exit point into the vault', 'AREA OUTSIDE DECON ROOM DOOR NEAR STAFF RESTROOMS', 'BMT C6 To the left side of the door for Room: \\n Bed #9\\n', 'L514', 'ACC 3 Spine clinic Hallway outside A310', 'OR - L412G', '745 Long No. 1', 'Unused RB Agar strip', 'Endoscopy Inside L108 Outside the construction barrier', 'ED PARKING LOT ', 'Hallway outside 1222B Moffitt (Med Room)', 'Inside Room L108', 'Hallway Outside OR 3', 'Hallway outside L949', '1635 Divisadero Hallway outside Ste 520-530', 'Inside patient room L1262 no traffic', '9L Service elevator', '350 Parnassus Suite 300 just outside containment', 'Balcony MSURGE/CTCU Spine', 'or 21 ANTEROOM', '10ICC East Wing', 'M14 Nursing Station', 'L733', 'Hallway outside of L52', 'ACC A101 Waiting Room', 'OR 11', 'Inside patient room L1245 no traffic', 'HALLWAY OUTSIDE OF M163', '11N ICU Nursing Station', 'C6 To the left side of the door for Room: \\n BMT 13\\n', 'In room L1114 No Traffic', 'ACC 5TH FLOOR', 'Endoscopy Break Room Parnassus', 'INSIDE M618T', 'MTZ SHUTTLE STOP', 'Terrace Door By C4625 No Traffic', 'Inside L1164', 'Left side hall next to reception desk 8NICU', 'OR HALLWAY NEXT TO L499MD', 'MBH Shuttle Stop  ', 'MZ 4E Hallway outside 407 constuction room', 'INSIDE ROOM L729', 'ACC 2Nnd floor Elevator lobby', '8 ICU NS', 'WAITING ROOM FACING MILLBERRY UNION ACC 6', '9L', '8L', '6L SEC', 'HEM ONC by C6807 team station low traffic', 'HEM ONC by C6S81 Area of refuge No Traffic', 'Mt.Zion Outside PACU', 'M547', 'Hallway outside L1118', '5 W Elevator', 'HALLWAY ADJACENT TO ELEV 3 BLDG A 4TH FL', 'No. 1 L36 Tx room', 'INSIDE M812', 'M 41 BY MAIN DOOR', 'OR NO.22', 'Long 53 No Traffic', '11L L1103', 'MZ Shuttle stop', '11NICU outside Bed 9', 'BMT C6S91', 'end of south hallway near entrance to stairs with stairway door open', 'BMT C6S91 Area pf Refuge MBH', 'Area right outside of the B16 elevator near C4843', 'UNUSED RB STRIP', 'Balcony By C5877 Low Traffic', 'CONTROL GARDEN OUTSIDE', 'OR 21 (Peds OR)', 'Hallway outside\\xa0 7Long Pantry on 11/15', 'L436', 'Hallway outside plastic barrier 14M', 'BMT by C6984', 'L1105', 'M-347 Control room ', 'Inside patient room L1205 no traffic', 'In room L1145 No Traffic', 'Hallway outside L1012', 'Hallway adjacent to Sterile Processing decontamination Moffit basement', '9ICU  Hallway outside rooms 3, 4', 'Hallway outside L1509', 'Hallway outside following room - L812', 'A067 ACC Plaza level', 'MZ BUS STOP', 'Terrace Door By C3899 Low Traffic', '9L L931', 'Right side hall next to reception desk 8NICU', '350 Parnassus Suite 300 by reception area', '499 Illinois Outside of Main Entrance', 'Public Corridor outside dooor leading into construction area parnassus', 'Outside door frae 4 of M524', 'Terrace Door by C4828 Medium Traffic', '53 Long', 'BMTC6 Inside Room: Bed #9', 'Hallway outside M524A', 'Inside of Doors to Outside by Cafeteria exit', 'Hallway outside 9ICU Bed 7', 'unused RB Agar strip', 'MtZ Shuttle Stop CONTROL', 'BMT C6 To the left side of the door for Room: \\n #12\\n', 'Inside L1174', 'ED Parking Lot Low Traffic Near Plants', 'HEM ONC by C6808 Team Station Medium Traffic', 'MOFFITT 8TH FLOOR WEST', 'Rad Outside Restrooms M3t4 and M3t3', 'Room C5827\\nMain Patient care room\\n', 'ACC Hallway Outside A94 Low Traffic Across From A945', 'OUTSIDE MOFFITT ER ENTRANCE', 'ED Parking Lot ', 'GH INN ROOM 104', 'No. 10 L69 Exam room', 'L75 RAD Onc reception', '10ICC nursing Station', 'Inside L1118', 'INSIDE L 382', 'Hallway Outside L1348', ' A59B outside the door', 'Hallway near nursing station outside construction barriers L1222', 'OUTSIDE 7L DOUBE DOORS NEAR SERVICE ELEVATORS', 'AC OFF (NO OTHER LOCATION INFO PROVIDED)', 'RAD ONC Waiting Area / Lobby', 'NURSING STATION 8 SOUTH 2', 'Inside Holding Clean Linen room M1355', 'Hallway outside A427', 'Hallway next to ACC A87', 'Hallway outside of L999 ML', 'L69 WXAM 5', 'Balcony by A4577 Low Traffic', '1418L following dialysis drain leak', 'Rehab offices ACC A68 4', 'Hallway outside L1174\\xa0 8/27/13', 'HEM ONC By C6807', '4 Long', 'BMT C6 Directly outside Room: #12', 'Hallway outside 8NICU Bed 3', 'Balcony by C6877', 'OR 2 (Long)', 'Rm. J146 Mammography Waiting Rm.', 'Hallway outside of barriers in pt entry area - MZ infusion ctr', 'MBH Shuttle Stop Low Traffic Near Plants', 'ACC Rheumatology Clinic Hallway Outside A95 Low Traffic Acrosss from A94N', 'Outside door frame of M524', 'Inside L1129', 'ED WAITING ROOM', 'MBH BMT Hallway near central team station', 'Balcony By C4877 Low Traffic', 'In room L1166No Traffic', 'Kitchen Construction', 'L56 Gamma knife', 'Inside 10 ICC bed 9', 'hallway outside L1029 on 1/22/14', 'Inside L1114', '7 ER Lot', '1L SEC', 'Balcony by A6577 low traffic', 'Balcony by C4877', 'ACC C Level Outpatient area', 'Hallway in Rheumatology Clinic by Visquine', 'Mt. Zion OR 9', 'ACC 350:  NEAR LOCKERS', 'HEM ONC by C6847A IN Unit by EM Stariwell Low Traffic', 'Procedure room outisde of room 1', 'Terrace door by C4625 Low Traffic', 'Inside patient room L1222 no traffic', 'Terrace Door By C3899', 'S1178', 'HEM ONC C6S81 Area of Refuge No Traffic', 'Hallway outside M1414', '6PICU', 'HB006 Inside this treatment room', '9 Long Nursing Station Parnassus', '10 ICC', 'outside L1134 on 3/19/12', 'No. 4 L46 and 47 Tx room', 'RAD ONC Waiting Area Lobby Low Traffic', 'One Patient Room – 8', 'Hallway Outside of M560 No Foot Traffic', 'Inside L1125', 'Hallway outside L 832', 'L777', 'A626, A613, A644', 'RT side hall next to reception desk 8NICU', 'ED Parking lot', 'AC 21C OUTSIDE MRI MAGNET ROOM', ' Hallway outside A435 and inside if possible 9/22', 'C3804', 'BMT By C6976', 'hallway outside rooms 9,10 in 9ICU on 6/4/13', 'Adjoining hallway 14M North Wing', 'M641 AC ON', '7 MOFFIT 20FT EAST OF DOUBLE DOORS', 'ED Parking LOT', 'Outside Room C4451 before rebuild MBN', 'OR - STERILE ENVIRONMENT AREA', 'ACC 4th floor Hallway past the elevators 6/6/13', '9L L912', 'M697 ', '6 Long Nurse station', 'NURSING STATION M14', 'Hallway outside of M1409', 'C4 PICU 4835 - 02', 'Inside room A405', 'Hallway outside 11 NICU room 5', '10CVT Moffitt Nursing Station Opposite M1046', 'L511', 'L756w heat off', 'Between m192 and m182', 'Hallway outside Sutie 204', '11NICU NS', 'Inside the south double door 8L', 'HEM ONC By C6827', '47 Long', 'L1039', '9L L32', '9 icu Nurses station', 'Hallway outside M618 Parn', '9ICU Hallway outside beds 9 & 10 Parnassus', 'INSIDE DECON ROOM', '12TH FL MOFFIT BY PEDISTRIAN CONTROL DOOR IN LEFT CORRIDOR OF ELEVATOR', 'Hallway outside of M1082', 'Hallway L1172', 'Hallway outside L618', 'Inside room ICN Yellow zone Bed 4', 'M 12225B Medroom for 12 South', 'HEM ONC by C6807', 'INSIDE ROOM L929', 'SPD Center&East', ' A2640 (OR 4) outside containment (this area is accessed through door A2630 OR1-8)', 'WAITING ROOM A 219 MZ', '9 Long Elevator', 'Semi Restricted Area long OR outside of Red Double Doors After OR 4', 'ACC Hallway Outside A326', 'Parnassus Endoscopy Break Room', 'L441B', 'MBH BMT Directly Outside Room 8', 'Hallway outside Bed 11 9 ICU', 'ED Parking Lot Low traffic Near Plants', 'ER PARKING LOT', '14L pantry', 'Mount Zion Cancer Center 4th floor (Hallway outside of H4305)', '6PICU BED 7', 'BMT North Entrance Between Ddoors No Traffic', 'MZ - hallway outside Interventional Radiology CT room A-237', 'OR 9', '10 ICC hallway outside M9', 'MBH Shuttle Stop ', 'HEM ONC by C6801 North Inside Ddoors Medium Traffic Ddoors Open', 'Inside sterile core room (C2730)', 'L1066 and L1039', 'Outside EH&S', 'Moffit Cafeteria Just outside Active construction site', 'M812 OUTSIDE', 'Hallway outside L762', 'ED lot (control)', 'BMT by C6976, North', 'Hallway outside L561 Parn', '10L NURSING STATION', 'L104 HALLWAY', 'Hallway outside A515E Low Traffic', 'MZ Bld A 6th floor Hallway outside A633', 'Mount Zion Cancer Center 4th floor (Hallway between H4503)', 'Lt side hall next to Reception desk 8NICU', 'Balcony By BMT HEM ONC Spine Low Traffic', 'OR12 Parnassus', '28 Long', 'ACC 5th Floor hallway outside of A548', 'Balcony by C5877 low traffic', 'Hallway Outside L 61 Radiation  Oncology', '7 LONG L727', '7L HALLWAY OUTSIDE ROOMS 704/705', 'OR NO.4', '#1 HSE BIO CABINET', 'ED parking lot (control for 7/12/06, for asp flavus outbreak on 7L in June)', 'ED LOT', 'L1062', 'UNUSED AGAR STRIP', 'M345 Fluoroscopy rm', 'HEM ONC by C6808 Team Station Low Traffic', 'Long 28 No. 7', 'Basement of Cancer Center at Mount Zion Hallway outside barriers of room HB016', '3 LONG SERVICE ELEVATOR', 'L945 Inside Rm.', 'Public Corridor outside HB047', 'Hallway outside L 932', 'OUTSIDE CONSTRUCTION SITE END OF 7 LONG, NEAREST BMT UNIT NEAR L731', 'BMT  by C6958 Central Team Station Medium Traffic', '10 South Hallway before smoke door barriers', '10 Long Before Smoke Door Barriers', 'Near Lockers in corridor A355A', 'BMT by C6915 (South)', 'Inside patient room L1274 no traffic', 'Inside patient room L1227 no traffic', 'at entrance of 7L service elevator W with doors open', 'OR 8', 'BMT by C6971 (North)', 'Directly Inside Room:\\nM1355\\n', 'Outside Door by C4828 No Traffic Near Plants', 'BMT by C6915, South', 'Semi restricted area long or outside of red souble doors after OR 4 No traffic', 'MZ 4 East', 'OUTSIDE CONSTRUCTION SITE END OF 7 LON, NEAREST BMT UNIT NEAR  L753', 'Terrace door by A3879 No Traffic', 'RB Agar Strip', 'C6 To the left side of the door for Room: \\nBMT #10\\n', 'Balcony MSURGE CTCU Spine Low Traffic 2Ddoor Openings', '8Long', 'Outside barricades @ L340 (new construction)', 'Inside Solarium L1049', 'L452', 'hallway outside 8NICU Room 6', 'MOFFIT 14', '12 Long north hallway corridor by nursing station low traffic', ' MB BMT Inside main doors – 3 doors', 'L755', 'HEM ONC By C6801 (North)', 'M547 Hood', 'HEM ONC by C6827', 'L008 L81 ', 'MBH BMT Directly outside Room 7 Low Traffic', 'S 630', ' Hallway outside room  L1145', 'HALLWAY JUST NORTH OF 8S NURSING STATION', 'BMT North Entrance Between Doors', 'M/L or Outside Substerile Rm. 4/5 by Wall Register', 'MBH BMT Inside Room 7 ', 'Hood 2', '10ICC Nursing Station', 'Inside the doors to 8NICU average traffic frequent open close of door', 'Rad Near Lobby M3M9 Reception Area', '1st floor at 2380 Sutter St', 'L722', 'A550 hallway outside clinic', 'A2651 (between OR 9-OR 10) outside containment unit', 'Parnassus endoscopy room', 'OUTSIDE ROOM A132', 'OUTSIDE 7N HALLWAY CONSTRUCTION', 'HEM ONC C6S81', 'inside of room\\xa0L1125', '10ICC NS', 'Balcony By A6577 Low Traffic', 'unused AGAR', 'HALLWAY OUTSIDE LONG STAIRWELL NEAR BMT AREA (OUTSIDE RM 731)', 'Inside the Other South Double Door of 8L', 'Hallway Outside L 99 TA Ground Floor', 'BMT by C6984 Central Outside Ddoors Medium Traffic 3 Ddoor openings', 'MB outside of Adult Lobby Doors', ' Pedi Tx Ctr MZ  - Hallway right outside elevator.', 'Terrace Door Across FR. C5411', 'Hallway Outside OR3 Low Traffic', 'C6 To the right side of the door for Room: \\nBMT #10\\n', 'MZ 4E ICU RN Station', 'ML OR Outside OR 4  Construction High Traffic', 'ACC 5TH FLOOR HALLWAY', 'A427A Pharmacy Ante-room', 'Hallway outside L1439', 'Inside airway lock between double doors north no traffic', 'AC05 Radiology; Hallway outside AC21', 'MZ 3rd Flr outside OR Room', 'Room C483903 Patient Family nurse in Room', 'Hallway outside L525 Ault Interventional cardiology son 8/22/13', 'Hallway outside M1421 ', 'ACC A124 inside room (phlebotomy room)', 'Balcony by C6877 low traffic', 'AC5 0805', 'Outside Door Across FR C5433 No Traffic', 'L69 No. 2', 'Hallway outside M1502 ICN', 'ACC AMB SURG CENTER HALLWAY OUTSIDE OR 4', 'Unused RG Agar Strip', 'back near break area outside of visquine', 'ED parking lot (control)', 'ACC hallway outside Rm A422', 'HEM ONC By C6801(North)', 'ACC outside Rm, 19&20', 'end of south hallway near entrance to stairs with stairway door closed', 'Iunused RB Agar Strip', 'L1014', 'Inside Physical Therapy', 'Hallway Outside 11 AHU on 11 Moffitt', 'Inside patient room L1239 no traffic', 'BMT C6S91 Area of Refuge No Traffic', 'Hallway outside L1157', 'hallway outside L1437 on Wed 1/15/14', 'Hood 3', 'Mt. Zion A Building 2nd floor elevator lobby', 'OUTSIDE EH & S  NO.9', 'pICU 10 Inside Rm.', 'BMT by C6976 (North)', ' Room C5827  Bathroom', '9 Long ICU Nurses Station High Traffic Door Openings', 'Ped Treatment Nurses’ Station', '4L SEC', 'OR #3', 'ED PARKING LOT', 'MBH BMT Inside Room 8 No Traffic', 'L1352  to be collected on\\nL1352 on 1/31/13', 'NURSING STATION, 12 MOFFIT', 'M/L OR Outside OR 4', 'Unused agar strip', 'Inside patient room L1263 no traffic', '6 SCIENCE IN CONSRUCTION AREA', 'P Long ICU Nursing station', 'PEDIATRIC PACU RECOVERY ROOM', 'Mission Bay Shuttle stop', 'In room L1135 No Traffic', 'Hallway outside Bed 16 11 NICU', 'hallway outside L1059 Parn', '10 ICC Intracellular Crystals present', 'MBH BMT Inside Room 8 ', 'Hallway oustide 101CC, M1001A', 'outside L382', '2330 Post st. 4th floor SW Corner', 'L380', 'Hallway outside of M822', 'BMT By C6901', '7North', 'Mount Zion Cancer Center 4th floor (Hallway outside of H4307)', 'Terrace Door By C4617 Enter Through C4C60 No Traffic', 'ACC  Hallway outside a531 HEME ONC Clinic', 'Hallway Outside of 10ICC Bed 14', 'Hallway outside L170', 'Pedi TX Ctr MZ - Clinic hallway outside pt. tx rooms in back,.', 'Mission Bay Shuttle Stop', 'BY ELEV 3 4TH FL', 'HALLWAY OUTSIDE BED 1 10 ICC', '6PICU Bed 10', 'Outside Cafeteria 2nd floor, M3N MRI project', 'hallways outside 1103L  on 2/26/13', '11L L1127', '15 ICN East Wing', 'INSIDE CHARTING ROOM BEHIND 8S NURSING STATION', 'Hallway B0-C1 on 4/11/13', 'ACC 8th floor lobby outside', 'Terrace Door Across FR. C5433', 'BMT By C6915 (South)', 'nursing station 8 SO', 'BMT Room 2 C6 Outside room', 'Long or 3', 'NS 8 ICU', 'In room L1155 No Traffic', 'Nursing Station for 12M', 'BMT North Entrance Outside Doors MBH', 'Inside patient room L1229 no traffic', '7L L722', 'MBH BMT Directly outside room 8 low traffic', '11L L1129', 'Terrace Door by C3899 No Traffic', 'HEM ONC By C6808', 'AC 21E CONSTRUCTION SITE', '11 MOFFITT HALLWAY BETWEEN 11M AND 11L', 'Inside patient room L1264 no traffic', 'hallway outside 6south', 'MOFFITT WEST 5TH FLOOR', 'HALLWAY ADJACENT TO ELEV 3 BLDG A 3RD FL', 'A 68', 'Hallway outside MZ A134', 'Terrace Door By C4828 Low Traffic', 'Hallway L623', 'Air Sample Mt. Zion Shuttle Stop Low Traffic, Near Plants', 'Hallway in front of A2681 (there is construction taking place within the office);', '11L L1114', 'In room L1125 No Traffic', ' Pedi Tx Ctr MZ  - Clinic hallway outside pt. tx rooms in back', 'BMT by C6958(Central)', 'ED Parking Lot CONTROL', 'Hallway outside dressing room AC05', 'Moffit Cafeteria Just outside Active construction site containment', 'nursing station 14 Moffitt', '6 PCRC NURSING STATION', 'Pedi Tx Ctr MZ  - Hallway right outside elevator', 'In room L1172 No Traffic', '8NICU hallway outside room 5 and 6', 'MBH Shuttle Stop Medium Traffic Near Tree', 'L170 PREPARE CLINIC', 'Inside rooms A427A ', 'Public Corridor Long Hallway  (10L south hallway) Backside of construction area ', 'BMT by C6901(south)', 'Hallwayoutside 11NICU-13', 'MTZ shuttle parking lot', 'Directly Inside Room:\\nM2380Z\\n', 'MBH Shuttle stop', 'Hallway Outide L79', 'Hallway Outside M605', 'Moffit radiology outside of barrier Door', '10 ICC Nurses Station', 'Public corridor long hallway (north Hallway of 10L)', 'In room L1139 No Traffic', 'ALL STARS ROOM M641', '1518L following dialysis drain leak', 'Long or 23', 'ACC FIRST FLOOR ED LOT CONTROL', 'M140B DESK AREA NEAR 2ND WALL HEATER TO THE RT OF THE 1ST', '6PICU Bed 2', '11 LONG L1112', 'HALLWAY OUTSIDE M331', 'L47', 'Terrace Door by A3879 No Traffic', 'UNUSED AGAR STRIP 34347', 'Dressing Room J147 No Traffic', 'C6 Directly outside Room: BMT 13\\n', 'Hallway in front of M430A', '9 Long Service Elevator', 'Hallway outside L810', 'Unused RD AGAR Strip', '9 Long Service Elevator Low Traffic', 'Substerile Room 8/9 Parn', 'MZ HALLWAY OUTSIDE B307', 'Inside the south double doors of 8 Long', 'B007 MZ Basement on 2/7/13', 'Hallway outside L367', 'INSIDE BREAK ROOM BEHIND 8S NURSING STATION', 'MBH shuttle stop low traffic near plants', 'M728 HALLWAY', 'Lobby area of adults infusion center 3A, Area next to exit door M3522', 'ACC 4th floor Hallway past the elevators 5/31', 'HEM ONC By C6835', 'Hallway outside of L1112', 'OUTSIDE NEAR END OF PROJECT BARRICADE NEAR ELEVATORS', 'ED Parking Log', 'HALLWAY L08', 'MBH BMT to the left side of Room 7 door', 'ML OR Outside Substerile Room 4  5   by wall Register High Traffic', 'Hallway outside of A420 ACC', 'INSIDE M140D', '11Long Room 1122', 'RAD ONC Waiting Area Lobby Medium Traffic', 'Hallway adjacent outside - L963', 'BMT Room 2 C6 Left Side of door', 'Semi Restricted Area Long OR Outside of ORS 2/3 Red Double Doors', 'outside 1135L on 12/4/12', 'Blank', 'Hallway outside M618', 'Terrace Door By A3879', \"No. 7 L66 Women's changing\", 'HALLWAY OUTSIDE L57', 'Unused RB Agar Strip ', '11 NICU HALLWAY OUTSIDE OF 11 & 12', 'Directly Inside Room:\\nA1510\\n', 'Hallway Outside M1222B', 'AC 58, 59 HALLWAY', 'BMT C6 To the right side of the door for Room: \\n #12\\n', 'Terrace Door Across from C5411 Low Traffic', 'Inside patient room L1225 no traffic', 'BMT by C6913 (Central)', 'OUTSIDE DECON ROOM DOOR ON MAT MGMT SIDE', 'A68 HALL', 'MT ZION SHUTTLE STOP', 'hallway outside A540 ACC tomorrow 9/18/13', 'MZ 5N Nurses Station', 'Hallway next to 12M Service Elevator', 'Inside patient room L1273 no traffic', 'MZ - UNUSED RB AGAR Strip', 'End of south hallway by stair entrance with door open no traffic', '11 NICU NURSES STATION', 'M35 next to Visquine Containment', 'No. 2 L37 chart room', 'HEM ONC by C6847A IN Unit by EMER Stairwell Low Traffic', 'Hallway Outside L 1227', 'Hallway outside A548', 'BMT Room 2 C6 Inside room', 'SHUTTLE PARKING LOT MTZ', 'ENTRANCE TO UROLOGY FACULTY PRACTICE ACC6', 'HEM ONC by C6808 team station low traffic', '9L L981', 'Inside L1156', 'L419', 'MB OR Room 6', 'MBH OR5 (left side)', '9 LONG L929', 'No. 3 North Wing', '6 LONG L72', 'MBH BMT To the Right Side of Room 8 Door', '8S Nursing station', 'Long or 7', 'UNUSED AGAR STRIP (CONTROL)', 'Outside Door of A610 PARN', 'MBH BMT to Right side of Room 7 Door Low', 'BMT Room 12', '\\xa0\\xa0\\xa0\\xa0\\xa0 Hallway outside A410 9/25', 'Balcony by A4577', 'Corridor in front of OR21 and OR 22', 'Hallway outside L 849', 'Hallway outside\\xa0 10Long Pantry on 11/16', 'Hallway outside 10 ICC bed 10', 'Hem Onc by C6847A', 'M 12225B Medroom for 12 South, Location 700M1', 'Balcony By C5877', 'Hallway 8S Moffitt', 'In room L1132No Traffic', 'C6 To the right side of the door for Room: \\n BMT 13\\n', 'hallway outside L99 ', 'Inside OR 24 (A2683)', 'Inside OR3 No Traffic', 'Outside Red Corridor Doors at OR3', 'MB Outside Adult Lobby Doors', '7 SCIENCE IN CONSTRUCTION AREA', '7 pcicu 7 EAST NURSING STATION', 'Mount Zion Cancer Center 4th floor (Hallway between H4510)', 'Unused RB AGAR', 'Balcony MSURGE CTCU SPINE Low Traffic', 'Hallway outside L1164', 'L27 Exam 2', 'ROOM L1027', 'L1405 hallway outside', 'MZ 4TH FL  NO.2', 'Hallway outside L 135 C (ED)', 'Hood 5', 'HALLWAY L126 ED', 'Material Service Room M01D\\xa0\\xa0 ', 'BMT C6 To the right side of the door for Room: \\nBed  #9\\n', 'L72: Outside of hard barrier entry to work area', 'BMT South Entrance Outside Doors', '13ICU', 'HALLWAY OUTSIDE ENTRY TO 11 NICU', 'Mount Zion Cancer Center 4th floor (Hallway outside of H4306)', 'HB004 inside this treatment rm', 'HEM ONC by C6847A IN Unit by EMER Stairwell No Traffic', 'Hallway adjacent to Sterile Processing decontamination Moffit basement (re-test)', 'C6 To the left side of the door for Room: \\nBMT #5\\n', 'ADMITTING AREA LOBBY', 'nursing station 8SO', 'Public Corridor outside hard barrier vestibule door leading into contruction are high traffic', 'L734', 'Long 53 Parnassus', '9 Long Nurses Station PARN', 'L511 No. 13', 'Hallway outside 1414M', 'BMT By C6915 (south)', 'HEM ONC By C6899 South)', 'Balcony by C5877 Low Traffic', 'Inside containment', 'BMT by C6913 (central)', 'unused agar strip', 'In room L1173 No Traffic', 'MB BMT Room 12, C6971', 'ACC 5TH FLR HALLWAY BETWEEN HEME ONC CLIN. & DIABETES CLIN.', '1338 Adjacent', 'L389', '11NICU HALLWAY OUTSIDE ROOM', 'Mt. Zion OR 2', 'ACC FIRST FLOOR WAITING ROOM OF PED TREATMENT CTR', 'MB BMT Main nursing stations – 3 stations', '11 Long Nursing Station High Traffic', 'Hallway Outside 1335', '7L L731', 'Hood 2 ', 'ACC 2nd floor Pediatric Main waiting area south side', '10L South Hallway Backside of Construction area entry exit point', 'Balcony by C4877 Low Traffic', 'Outside the B16 elevator on the First Floor', 'L008', 'MOFFITT 13TH FL CONSTRUCTION', 'Balcony by C6877 Low Traffic', 'M-547, Hood room', 'ACC 3RD FLOOR RADIOLOGY A360', 'HALLWAY 10 ICC NURSING STATION', '10ICC North Wing', 'Outside Control ED parking', 'ADULT PACU # 19', 'HALLWAY OUTSIDE OF A217 MZ', 'ACC Hallway Outside 531 A New construction', 'Rheumatology clinic Reception desk', 'Inside patient room L1214 no traffic', '14TH FL MOFFIT BY PEDISTRIAN CONTROL DOOR IN LEFT CORRIDOR OF ELEVATOR', 'In room L1151 No Traffic', '6PICU Bed 9', 'Inside patient room L1235 no traffic', 'ACC 1st Floor Peds Dialysis', '6PICU BED 6 ', 'Long 47 No. 3', 'MZ OUTSIDE HALLWAY BETWEEN H006 AND H002', 'MTZ BLDG B 4TH FL HALLWAY NEAR ELEVATORS', 'B0-C1 Corridor on 5/22', 'Inside the north double doors into 8 Long', '9 Long ICU Nurse station', 'Moffit Cardiology non public east Corridor by stairwell', '7 Long near elevator', 'M14 Nusing Station', 'Hallway outside OR 2', 'INN PARKING LOT', '12th floor Moffit, 1238A, outside of door leading into construction area', '6 MOFFIT 20FT EAST OF DOUBLE DOORS', 'OR # 17', 'HEM ONC by C6801 North Inside Ddoors Low traffic DDOORS open', 'Balcony by A6577', 'M39C back of pharmacy break room', 'Mt.Zion shuttle stop', 'Hallway outside 8NICU room 4', '\\xa0\\xa0\\xa0\\xa0\\xa0 Area next to North Infusion Chair area (A408A-A408B) 9/25', '7 LONG ER PARKING LOT', 'AC05 Radilogy waiting room', '7Long BMT L751', 'L716 INSIDE ROOM', 'Hallway outside Rm. M697', 'Cardiology Outside M340', 'ACO5 Radiology Waiting room', 'Mt. Zion OR nurses station', 'OR 24 by windows looking into OR 24', 'Hallway outside  A04 on 5/6', 'Nursing Station 10 ICC', 'M180', '7L L712', '8L nursing station', '9L Nursing Station ', '11NICU HALLWAY OUTSIDE ROOM 13', 'No. 2 East Wing', 'INSIDE HOSPITAL CORRIDOR OUTSIDE OF ADMITTING LOBBY', 'MTZ hallway outside rm A242', 'BMT by C6913, Central', 'Inside M524 By First Sink on Right', 'Unsused Agar strip', 'HALLWAY NEXT TO L1208', 'LONG 53', 'ACC hallway outside 821 neurology clinic', 'Outside Red Corridor Doors at Substeriel 4/5', 'Pedi PACU No. 9', 'M921F/ICU', 'M830 North Hallway low traffic', 'Waiting room of clinic ACC 4th floor Heme-Onc/Transfusion clinic', 'L755 w heat on', 'hallway outside \\xa0M410B (PACU) on 1/31/13', '9 Long Service Elevator Parnassus', 'AIR Sample Unused RB agar strip', '7L L718', 'Hallway adjacent to Moffit Service Elevator in basement (re-test)', 'ROOM L123 ED ', 'ML OR Outside OR 4 Construction Low Traffic', 'B-307,B-310, B-312,B-317A, B-323, B-332, B-425(1CFU only)', 'HEM ONC by C6899 South Low Traffic Door', '7 East Nurse Station', 'HALLWAY OUTSIDE L141', 'Terrace Door by C3899 no Traffic', 'Hallway outside\\xa0 L1135 on \\xa09/6/13', 'Hallway outside M824', '11 NICU Hallway outside Bed 6', 'MBH - OPB 4th Fl. Hallway in Zone 1 next  TI Exam Rms.', 'Hallway outside ACC 821', 'M830 North Hallway', 'Balcony BMT/HEM ONC Spine', 'HALLWAY OUTSIDE OF ACC ROOMS', '11 Long Service Elevator', 'M547 Hood Room', 'Hallway outside L1151', 'B0-C1 Corridor on 6/5', '6 PICU M618V  NO.4', 'Hallway by nursing Station at Rad Onc', 'ACC Pedi Treatment', 'L72 outside of hard barrier entry to work area', 'Inside rooms A427B ', 'Inside the B16 elevator on 4th floor near C4843', 'MBH BMT Inside Room 7 No Traffic', 'Inside L1159', 'INSIDE ROOM NO 1 M1118', '9 Moffitt ICU Nursing Station Parnassus', 'Balcony by A4577 no traffic', 'Outside door of A610', 'In room L1153 No Traffic', 'Mammography Waiting Room J146 Low Traffic', '9 L Service Elevator', 'L749', '1338 Sink/Fridge', 'Inside room A401A         9/28', 'BMT by C6901, South', 'In room L1112 No Traffic', 'No. 3 L43 Tx area', 'HEM ONC by C6899 (South)', 'Past double doors in hallway of unit north, No traffic', 'ASC Procedure Rm A No. 8', 'Hallway outside L508', 'Long 26', 'OUTSIDE ROOM M41', 'Hallway Outside Room A095B Low Traffic', 'Outside Door by C4828 no traffic near plants', 'Long 26 Parnassus', '633 Long', 'RAD ONC Waiting Area/Lobby', 'Hallway outside A07 on 5/3', 'Control room Adjacent to L370', 'BMT by C6971 North Team Station Low Traffic', '9 Long Nurse Station', 'BMT C6 Directly outside Room: Bed #9', 'M-524', 'unused media (control)', 'ML OR 3 Inside OR', 'Hallway outside A651 PARN ACC', 'ROOM L363', 'L912', 'ACC FIRST FLOOR HALLWAY OUTSIDE A123', 'unused strip', '11 Long Nursing Station', 'Hallway Outside A651', 'Moffit cafeteria just outside active construction site ', 'Hallway outside M631/630', ' 9L nursing station ', 'L52 doorstep', 'L805 hallway outside', 'L731', 'M/L or Outside or 4 Contruction', 'Outside L1145', 'BMT South Entrance Between Doors', 'hallway outside M1413 tomorrow 4/4/13', 'Moffitt 39C Pharmacy', 'Hallway outside of M602', 'Mount Zion Cancer Center 4th floor (Hallway between H4509)', '9L SEC (PREV ROUTINE COUNT 12)', '6PICU Bed 5', 'Inside patient room L1231 no traffic', 'In room L1122 No Traffic', 'Hallway outside  A04 on 5/3', 'Outside Room 7/8 11 ICU', 'Hallway outside A07 on 5/6', '10ICC Room 14', 'Balcony by C4877 No Traffic', 'MB Cafeteria by Salad Bar side of containment', 'Hallway Outside L1149', 'Inside patient room L1272 no traffic', 'ACC Pedi Dialysis', '125 Long hallway', '6 PCRC HALLWAY', 'Inside L1116', '11L ROOM #1156', '7L room # 764', 'Balcony By C4899A', 'Mt. Zion OR10'} \n",
      "\n"
     ]
    }
   ],
   "source": [
    "print('mb: ', set(mb['location']), \"\\n\")\n",
    "print('ml: ', set(ml['location']), \"\\n\")\n",
    "print('ad hoc: ', set(adhoc['location']), \"\\n\")"
   ]
  },
  {
   "cell_type": "code",
   "execution_count": 7,
   "metadata": {},
   "outputs": [],
   "source": [
    "adhoc['Source'] = 'adhoc'\n",
    "ml['Source'] = 'ML'\n",
    "mb['Source'] = 'MB'"
   ]
  },
  {
   "cell_type": "code",
   "execution_count": 8,
   "metadata": {
    "scrolled": false
   },
   "outputs": [
    {
     "name": "stdout",
     "output_type": "stream",
     "text": [
      "\n",
      " ml Date        datetime64[ns]\n",
      "location            object\n",
      "cfu                  int64\n",
      "Source              object\n",
      "dtype: object \n",
      " ad hoc Date        datetime64[ns]\n",
      "location            object\n",
      "cfu                  int64\n",
      "Source              object\n",
      "dtype: object \n",
      " mb Date        datetime64[ns]\n",
      "location            object\n",
      "cfu                  int64\n",
      "Source              object\n",
      "dtype: object\n"
     ]
    },
    {
     "data": {
      "text/plain": [
       "array([ 1, 34,  0,  9,  3,  2,  5, 27, 14,  4, 11, 24, 22,  7, 23, 19, 20,\n",
       "        8, 13, 12, 28, 10, 17, 18, 30,  6, 16, 15, 31, 26, 25, 21, 86, 46,\n",
       "       32, 29, 33, 39], dtype=int64)"
      ]
     },
     "execution_count": 8,
     "metadata": {},
     "output_type": "execute_result"
    }
   ],
   "source": [
    "print(\"\\n ml\", ml.dtypes, \"\\n ad hoc\",adhoc.dtypes,\"\\n mb\", mb.dtypes)\n",
    "adhoc['cfu'].unique()"
   ]
  },
  {
   "cell_type": "code",
   "execution_count": 9,
   "metadata": {},
   "outputs": [
    {
     "data": {
      "text/plain": [
       "(           Date                                           location  cfu Source\n",
       " 558  2016-09-28                               unused RB Agar Strip    0  adhoc\n",
       " 1310 2008-03-17                                         L53 RADONC    0     ML\n",
       " 399  2013-11-26                                            11L SEC    0     ML\n",
       " 504  2016-12-21                             B1-A5 Balcony by A5577    2     MB\n",
       " 1889 2007-11-02  AREA OUTSIDE DECON ROOM DOOR NEAR STAFF RESTROOMS    0  adhoc\n",
       " 1678 2011-05-27                        Hallway outside of A420 ACC    1  adhoc\n",
       " 987  2009-12-29                                              9L NS    3     ML\n",
       " 717  2016-02-26                      OGT4-C4 Outside Door by C4828   16     MB\n",
       " 1059 2016-05-13                    Inside the north double door 8L    1  adhoc\n",
       " 2081 2007-02-01                            UNUSED AGAR STRIP 34347    0  adhoc\n",
       " 121  2017-10-27                                             10M NS    2     ML\n",
       " 668  2016-03-22     Hem Onc Team Station by C6838 Hem Onc by C6838    0     MB,\n",
       " (5153, 4))"
      ]
     },
     "execution_count": 9,
     "metadata": {},
     "output_type": "execute_result"
    }
   ],
   "source": [
    "cfu_df = pd.DataFrame(pd.concat([adhoc, ml, mb]))\n",
    "cfu_df = cfu_df.dropna()\n",
    "cfu_df.sample(12), cfu_df.shape"
   ]
  },
  {
   "cell_type": "code",
   "execution_count": 10,
   "metadata": {
    "scrolled": false
   },
   "outputs": [
    {
     "name": "stdout",
     "output_type": "stream",
     "text": [
      "<class 'pandas.core.frame.DataFrame'>\n",
      "Int64Index: 5153 entries, 0 to 1218\n",
      "Data columns (total 4 columns):\n",
      " #   Column    Non-Null Count  Dtype         \n",
      "---  ------    --------------  -----         \n",
      " 0   Date      5153 non-null   datetime64[ns]\n",
      " 1   location  5153 non-null   object        \n",
      " 2   cfu       5153 non-null   int64         \n",
      " 3   Source    5153 non-null   object        \n",
      "dtypes: datetime64[ns](1), int64(1), object(2)\n",
      "memory usage: 201.3+ KB\n"
     ]
    },
    {
     "data": {
      "text/plain": [
       "1753"
      ]
     },
     "execution_count": 10,
     "metadata": {},
     "output_type": "execute_result"
    }
   ],
   "source": [
    "cfu_df.describe()\n",
    "cfu_df.info()\n",
    "len(cfu_df.location.unique())"
   ]
  },
  {
   "cell_type": "markdown",
   "metadata": {},
   "source": [
    "# Time for the Air particulate data"
   ]
  },
  {
   "cell_type": "code",
   "execution_count": 11,
   "metadata": {},
   "outputs": [],
   "source": [
    "#too many missing notes\n",
    "ic = pd.DataFrame(dfIC[1])\n",
    "mc = pd.DataFrame(dfMC[0])\n",
    "ic = ic.drop('Notes', axis=1)\n",
    "mc = mc.drop('Notes', axis=1)"
   ]
  },
  {
   "cell_type": "code",
   "execution_count": 12,
   "metadata": {
    "scrolled": true
   },
   "outputs": [
    {
     "name": "stdout",
     "output_type": "stream",
     "text": [
      "\n",
      " ic: \n",
      " Sampling Date            datetime64[ns]\n",
      "Sample Location                  object\n",
      "Temp                             object\n",
      "RH                              float64\n",
      "Particle (total >.3)            float64\n",
      "Particle (>.5 per m3)           float64\n",
      "Time of Sampling                float64\n",
      "Traffic                          object\n",
      "SF Gate Weather                  object\n",
      "dtype: object (334, 9) \n",
      " mc: \n",
      " Sampling Date            datetime64[ns]\n",
      "Sample Location                  object\n",
      "Temp                            float64\n",
      "RH                              float64\n",
      "Particle (total >.3)            float64\n",
      "Particle (>.5 per m3)           float64\n",
      "Time of Sampling                 object\n",
      "Traffic                         float64\n",
      "SF Gate Weather                  object\n",
      "dtype: object (2406, 9)\n"
     ]
    }
   ],
   "source": [
    "print(\"\\n ic: \\n\", ic.dtypes, ic.shape, \"\\n mc: \\n\",mc.dtypes,mc.shape)"
   ]
  },
  {
   "cell_type": "code",
   "execution_count": 13,
   "metadata": {
    "scrolled": true
   },
   "outputs": [
    {
     "name": "stdout",
     "output_type": "stream",
     "text": [
      "Index(['Date', 'location', 'Temp', 'RH', 'Total_Particles>0.3',\n",
      "       'Total_Particles>0.5/m3', 'Sample_Time', 'Traffic', 'Weather'],\n",
      "      dtype='object') Index(['Date', 'location', 'Temp', 'RH', 'Total_Particles>0.3',\n",
      "       'Total_Particles>0.5/m3', 'Sample_Time', 'Traffic', 'Weather'],\n",
      "      dtype='object')\n"
     ]
    }
   ],
   "source": [
    "#Renaming and unifying column names\n",
    "ic = ic.rename(columns={\"Sampling Date\":\"Date\",\n",
    "                            \"Sample Location\":\"location\",\n",
    "                            \"Particle (total >.3)\":\"Total_Particles>0.3\",\n",
    "                            \"Particle (>.5 per m3)\":\"Total_Particles>0.5/m3\",\n",
    "                            \"Time of Sampling\":\"Sample_Time\",\n",
    "                            \"SF Gate Weather\":\"Weather\",\n",
    "                            \"Percentage .3 over .5\":\"Ratio_0.3/0.5\"})\n",
    "mc = mc.rename(columns={\"Sampling Date\":\"Date\",\n",
    "                            \"Sample Location\":\"location\",\n",
    "                            \"Particle (total >.3)\":\"Total_Particles>0.3\",\n",
    "                            \"Particle (>.5 per m3)\":\"Total_Particles>0.5/m3\",\n",
    "                            \"Time of Sampling\":\"Sample_Time\",\n",
    "                            \"SF Gate Weather\":\"Weather\",\n",
    "                            \"Percentage .3 over .5\":\"Ratio_0.3/0.5\"})\n",
    "\n",
    "print(mc.keys(),ic.keys())"
   ]
  },
  {
   "cell_type": "code",
   "execution_count": 14,
   "metadata": {},
   "outputs": [],
   "source": [
    "#fixing traffic type\n",
    "mc['Traffic'] = mc['Traffic'].astype('object')\n",
    "assert mc['Traffic'].dtype == 'object'\n",
    "\n",
    "ic['Traffic'] = ic['Traffic'].astype('category')\n",
    "assert ic['Traffic'].dtype == 'category'"
   ]
  },
  {
   "cell_type": "code",
   "execution_count": 15,
   "metadata": {
    "scrolled": true
   },
   "outputs": [],
   "source": [
    "#fixing traffic column\n",
    "replace = {1:'Low',2:'Medium',3:'High',0:'None','No data \"occupied space\"':'None',\n",
    "           'No data':'None','high staff data':'High'}\n",
    "ic['Traffic'] = ic['Traffic'].replace(replace)\n",
    "mc['Traffic'] = mc['Traffic'].replace(replace)"
   ]
  },
  {
   "cell_type": "code",
   "execution_count": 16,
   "metadata": {},
   "outputs": [
    {
     "data": {
      "text/plain": [
       "(Low       1037\n",
       " None       588\n",
       " High       453\n",
       " Medium     323\n",
       " Name: Traffic, dtype: int64,\n",
       " Low       169\n",
       " None       92\n",
       " Medium     42\n",
       " High       19\n",
       " Name: Traffic, dtype: int64)"
      ]
     },
     "execution_count": 16,
     "metadata": {},
     "output_type": "execute_result"
    }
   ],
   "source": [
    "mc['Traffic'].value_counts(),ic['Traffic'].value_counts()"
   ]
  },
  {
   "cell_type": "code",
   "execution_count": 17,
   "metadata": {},
   "outputs": [
    {
     "data": {
      "text/plain": [
       "count    1839.000000\n",
       "mean       75.406444\n",
       "std       166.345022\n",
       "min        35.800000\n",
       "25%        70.800000\n",
       "50%        72.200000\n",
       "75%        73.500000\n",
       "max      7203.000000\n",
       "Name: Temp, dtype: float64"
      ]
     },
     "execution_count": 17,
     "metadata": {},
     "output_type": "execute_result"
    }
   ],
   "source": [
    "mc.Temp.describe()"
   ]
  },
  {
   "cell_type": "code",
   "execution_count": 18,
   "metadata": {},
   "outputs": [
    {
     "data": {
      "text/plain": [
       "count    1838.000000\n",
       "mean       71.528536\n",
       "std         3.935694\n",
       "min        35.800000\n",
       "25%        70.800000\n",
       "50%        72.200000\n",
       "75%        73.500000\n",
       "max        95.700000\n",
       "Name: Temp, dtype: float64"
      ]
     },
     "execution_count": 18,
     "metadata": {},
     "output_type": "execute_result"
    }
   ],
   "source": [
    "mc = mc[mc.Temp < 100]\n",
    "mc.Temp.describe()"
   ]
  },
  {
   "cell_type": "code",
   "execution_count": 19,
   "metadata": {
    "scrolled": false
   },
   "outputs": [
    {
     "data": {
      "text/plain": [
       "count     332.0\n",
       "unique    146.0\n",
       "top        71.4\n",
       "freq        9.0\n",
       "Name: Temp, dtype: float64"
      ]
     },
     "execution_count": 19,
     "metadata": {},
     "output_type": "execute_result"
    }
   ],
   "source": [
    "ic.Temp.describe()"
   ]
  },
  {
   "cell_type": "code",
   "execution_count": 20,
   "metadata": {},
   "outputs": [
    {
     "data": {
      "text/plain": [
       "array(['72.9', '68', '71', '72.8', '68.7', '66.1', '72', '71.7', '71.8',\n",
       "       '66.9', '730', '72.4', '74.61', '73.5', '74.3', '73.9', '66.7',\n",
       "       '73.3', '65.6', '64.4', '70.5', '70.7', '70.8', '73.4', '71.6',\n",
       "       '71.9', '71.5', '75.7', '75', '75.2', '75.3', '75.5', '73.1',\n",
       "       '69.6', '71.3', '68.2', '67.2', '60', '66.8', '73', '71.4', '69',\n",
       "       '74.7', '73.7', '63.2', '73.6', '70.4', '63.1', '68.9', '70',\n",
       "       '60.4', '74.2', '62.7', '67.1', '70.51', '58.4', '65.3', '69.2',\n",
       "       '59.3', '635', '59.31', '67.4', '60.1', '64.5', '72.1', '72.6',\n",
       "       '65.5', '77.3', '76', '68.5', '63.8', '72.3', '63.3', '67', '57.6',\n",
       "       '69.5', '62.1', '61.1', '63', '60.9', '63.5', '67.3', '62.8', '55',\n",
       "       '69.4', '61.3', '67.8', '67.9', '61.9', 'nan', '75.9', '65.7',\n",
       "       '74.1', '70.9', '66', '6 (?)', '68.3', '58.8', '71.1', '74',\n",
       "       '70.2', '60.2', '69.9', '54.7', '62.71', '60.6', '65.4', '65.8',\n",
       "       '66.6', '54.1', '66.5', '64.2', '60.3', '63.4', '69.7', '62.3',\n",
       "       '69.8', '70.1', '50.3', '56.7', '69.3', '68.4', '69.1', '70.3',\n",
       "       '71.2', '57.7', '72.2', '56.4', '61.8', '58.7', '73.8', '72.7',\n",
       "       '70.6', '59.7', '74.6', '74.8', '57', '74.5', '75.8', '76.3',\n",
       "       '72.5', '68.1', '50.2', '55.8', '59.8', '60.8', '58.3'],\n",
       "      dtype=object)"
      ]
     },
     "execution_count": 20,
     "metadata": {},
     "output_type": "execute_result"
    }
   ],
   "source": [
    "ic.Temp = ic.Temp.astype('str')\n",
    "ic.Temp.unique()"
   ]
  },
  {
   "cell_type": "code",
   "execution_count": 21,
   "metadata": {},
   "outputs": [
    {
     "data": {
      "text/html": [
       "<div>\n",
       "<style scoped>\n",
       "    .dataframe tbody tr th:only-of-type {\n",
       "        vertical-align: middle;\n",
       "    }\n",
       "\n",
       "    .dataframe tbody tr th {\n",
       "        vertical-align: top;\n",
       "    }\n",
       "\n",
       "    .dataframe thead th {\n",
       "        text-align: right;\n",
       "    }\n",
       "</style>\n",
       "<table border=\"1\" class=\"dataframe\">\n",
       "  <thead>\n",
       "    <tr style=\"text-align: right;\">\n",
       "      <th></th>\n",
       "      <th>Date</th>\n",
       "      <th>location</th>\n",
       "      <th>Temp</th>\n",
       "      <th>RH</th>\n",
       "      <th>Total_Particles&gt;0.3</th>\n",
       "      <th>Total_Particles&gt;0.5/m3</th>\n",
       "      <th>Sample_Time</th>\n",
       "      <th>Traffic</th>\n",
       "      <th>Weather</th>\n",
       "    </tr>\n",
       "  </thead>\n",
       "  <tbody>\n",
       "    <tr>\n",
       "      <th>200</th>\n",
       "      <td>2017-04-26</td>\n",
       "      <td>End of south hallway near entrance to stairs w...</td>\n",
       "      <td>69.8</td>\n",
       "      <td>62.0</td>\n",
       "      <td>839.0</td>\n",
       "      <td>27385.0</td>\n",
       "      <td>1644.0</td>\n",
       "      <td>None</td>\n",
       "      <td>Overcast</td>\n",
       "    </tr>\n",
       "    <tr>\n",
       "      <th>160</th>\n",
       "      <td>2018-02-13</td>\n",
       "      <td>Public corridor, outside doors leading into co...</td>\n",
       "      <td>68.3</td>\n",
       "      <td>22.0</td>\n",
       "      <td>12947.0</td>\n",
       "      <td>338693.0</td>\n",
       "      <td>1455.0</td>\n",
       "      <td>Low</td>\n",
       "      <td>Fair</td>\n",
       "    </tr>\n",
       "    <tr>\n",
       "      <th>110</th>\n",
       "      <td>2018-05-22</td>\n",
       "      <td>Hallway outside M824</td>\n",
       "      <td>74.3</td>\n",
       "      <td>48.0</td>\n",
       "      <td>21939.0</td>\n",
       "      <td>712544.0</td>\n",
       "      <td>1108.0</td>\n",
       "      <td>None</td>\n",
       "      <td>Cloudy</td>\n",
       "    </tr>\n",
       "    <tr>\n",
       "      <th>314</th>\n",
       "      <td>2016-05-16</td>\n",
       "      <td>Mt Zion Shuttle Stop</td>\n",
       "      <td>75.5</td>\n",
       "      <td>46.8</td>\n",
       "      <td>86102.0</td>\n",
       "      <td>6565130.0</td>\n",
       "      <td>NaN</td>\n",
       "      <td>Low</td>\n",
       "      <td>NaN</td>\n",
       "    </tr>\n",
       "    <tr>\n",
       "      <th>175</th>\n",
       "      <td>2018-01-17</td>\n",
       "      <td>ED Parking Lot</td>\n",
       "      <td>63.4</td>\n",
       "      <td>56.0</td>\n",
       "      <td>1002295.0</td>\n",
       "      <td>36878980.0</td>\n",
       "      <td>1251.0</td>\n",
       "      <td>Low</td>\n",
       "      <td>Mostly Cloudy</td>\n",
       "    </tr>\n",
       "    <tr>\n",
       "      <th>2</th>\n",
       "      <td>2019-04-03</td>\n",
       "      <td>Immediately outside of construction barricade,...</td>\n",
       "      <td>71.0</td>\n",
       "      <td>150.0</td>\n",
       "      <td>22199.0</td>\n",
       "      <td>1682156.0</td>\n",
       "      <td>1143.0</td>\n",
       "      <td>Low</td>\n",
       "      <td>Cloudy</td>\n",
       "    </tr>\n",
       "    <tr>\n",
       "      <th>139</th>\n",
       "      <td>2018-03-28</td>\n",
       "      <td>ED Parking Lot</td>\n",
       "      <td>66.8</td>\n",
       "      <td>43.0</td>\n",
       "      <td>85384.0</td>\n",
       "      <td>6616432.0</td>\n",
       "      <td>1500.0</td>\n",
       "      <td>Low</td>\n",
       "      <td>Clear / Fair</td>\n",
       "    </tr>\n",
       "    <tr>\n",
       "      <th>305</th>\n",
       "      <td>2017-10-19</td>\n",
       "      <td>Public corridor, Long hallway (south hallway o...</td>\n",
       "      <td>69.8</td>\n",
       "      <td>61.0</td>\n",
       "      <td>11291.0</td>\n",
       "      <td>626148.0</td>\n",
       "      <td>1123.0</td>\n",
       "      <td>Medium</td>\n",
       "      <td>Mostly Cloudy</td>\n",
       "    </tr>\n",
       "    <tr>\n",
       "      <th>306</th>\n",
       "      <td>2017-10-19</td>\n",
       "      <td>Public Corridor, Long hallway (10L south hallw...</td>\n",
       "      <td>72.5</td>\n",
       "      <td>56.0</td>\n",
       "      <td>7262.0</td>\n",
       "      <td>359187.0</td>\n",
       "      <td>1128.0</td>\n",
       "      <td>Medium</td>\n",
       "      <td>Mostly Cloudy</td>\n",
       "    </tr>\n",
       "    <tr>\n",
       "      <th>289</th>\n",
       "      <td>2017-12-19</td>\n",
       "      <td>ED Parking Lot</td>\n",
       "      <td>56.4</td>\n",
       "      <td>46.0</td>\n",
       "      <td>602534.0</td>\n",
       "      <td>13514310.0</td>\n",
       "      <td>833.0</td>\n",
       "      <td>Low</td>\n",
       "      <td>Mostly Cloudy</td>\n",
       "    </tr>\n",
       "    <tr>\n",
       "      <th>226</th>\n",
       "      <td>2017-04-26</td>\n",
       "      <td>In room L1114</td>\n",
       "      <td>70.9</td>\n",
       "      <td>56.0</td>\n",
       "      <td>225.0</td>\n",
       "      <td>14841.0</td>\n",
       "      <td>1849.0</td>\n",
       "      <td>None</td>\n",
       "      <td>Overcast</td>\n",
       "    </tr>\n",
       "    <tr>\n",
       "      <th>43</th>\n",
       "      <td>2019-02-21</td>\n",
       "      <td>Outside the construction barricade 5th Floor M...</td>\n",
       "      <td>71.8</td>\n",
       "      <td>45.0</td>\n",
       "      <td>8307.0</td>\n",
       "      <td>211131.0</td>\n",
       "      <td>1214.0</td>\n",
       "      <td>High</td>\n",
       "      <td>Cloudy</td>\n",
       "    </tr>\n",
       "  </tbody>\n",
       "</table>\n",
       "</div>"
      ],
      "text/plain": [
       "          Date                                           location  Temp  \\\n",
       "200 2017-04-26  End of south hallway near entrance to stairs w...  69.8   \n",
       "160 2018-02-13  Public corridor, outside doors leading into co...  68.3   \n",
       "110 2018-05-22                               Hallway outside M824  74.3   \n",
       "314 2016-05-16                               Mt Zion Shuttle Stop  75.5   \n",
       "175 2018-01-17                                     ED Parking Lot  63.4   \n",
       "2   2019-04-03  Immediately outside of construction barricade,...  71.0   \n",
       "139 2018-03-28                                     ED Parking Lot  66.8   \n",
       "305 2017-10-19  Public corridor, Long hallway (south hallway o...  69.8   \n",
       "306 2017-10-19  Public Corridor, Long hallway (10L south hallw...  72.5   \n",
       "289 2017-12-19                                     ED Parking Lot  56.4   \n",
       "226 2017-04-26                                      In room L1114  70.9   \n",
       "43  2019-02-21  Outside the construction barricade 5th Floor M...  71.8   \n",
       "\n",
       "        RH  Total_Particles>0.3  Total_Particles>0.5/m3  Sample_Time Traffic  \\\n",
       "200   62.0                839.0                 27385.0       1644.0    None   \n",
       "160   22.0              12947.0                338693.0       1455.0     Low   \n",
       "110   48.0              21939.0                712544.0       1108.0    None   \n",
       "314   46.8              86102.0               6565130.0          NaN     Low   \n",
       "175   56.0            1002295.0              36878980.0       1251.0     Low   \n",
       "2    150.0              22199.0               1682156.0       1143.0     Low   \n",
       "139   43.0              85384.0               6616432.0       1500.0     Low   \n",
       "305   61.0              11291.0                626148.0       1123.0  Medium   \n",
       "306   56.0               7262.0                359187.0       1128.0  Medium   \n",
       "289   46.0             602534.0              13514310.0        833.0     Low   \n",
       "226   56.0                225.0                 14841.0       1849.0    None   \n",
       "43    45.0               8307.0                211131.0       1214.0    High   \n",
       "\n",
       "           Weather  \n",
       "200       Overcast  \n",
       "160           Fair  \n",
       "110         Cloudy  \n",
       "314            NaN  \n",
       "175  Mostly Cloudy  \n",
       "2           Cloudy  \n",
       "139   Clear / Fair  \n",
       "305  Mostly Cloudy  \n",
       "306  Mostly Cloudy  \n",
       "289  Mostly Cloudy  \n",
       "226       Overcast  \n",
       "43          Cloudy  "
      ]
     },
     "execution_count": 21,
     "metadata": {},
     "output_type": "execute_result"
    }
   ],
   "source": [
    "#ic['Temp'] = \n",
    "ic = ic[ic['Temp'] != '6 (?)']\n",
    "ic.Temp = ic.Temp.astype('float')\n",
    "ic.sample(12)"
   ]
  },
  {
   "cell_type": "code",
   "execution_count": 22,
   "metadata": {},
   "outputs": [
    {
     "data": {
      "text/plain": [
       "count    329.000000\n",
       "mean      68.449666\n",
       "std        5.135799\n",
       "min       50.200000\n",
       "25%       66.000000\n",
       "50%       70.000000\n",
       "75%       71.900000\n",
       "max       77.300000\n",
       "Name: Temp, dtype: float64"
      ]
     },
     "execution_count": 22,
     "metadata": {},
     "output_type": "execute_result"
    }
   ],
   "source": [
    "ic = ic[ic['Temp'] < 100]\n",
    "ic.Temp.describe()"
   ]
  },
  {
   "cell_type": "code",
   "execution_count": 23,
   "metadata": {},
   "outputs": [],
   "source": [
    "#removing NAs from both MC and IC data\n",
    "ic = ic[ic['Total_Particles>0.3'].notna()]\n",
    "ic = ic[ic['Total_Particles>0.5/m3'].notna()]\n",
    "mc = mc[mc['Total_Particles>0.3'].notna()]\n",
    "mc = mc[mc['Total_Particles>0.5/m3'].notna()]"
   ]
  },
  {
   "cell_type": "code",
   "execution_count": 24,
   "metadata": {},
   "outputs": [],
   "source": [
    "mc['Weather'] = mc['Weather'].astype('category')\n",
    "assert mc['Weather'].dtype == 'category'\n",
    "\n",
    "ic['Weather'] = ic['Weather'].astype('category')\n",
    "assert ic['Weather'].dtype == 'category'"
   ]
  },
  {
   "cell_type": "code",
   "execution_count": 25,
   "metadata": {
    "scrolled": true
   },
   "outputs": [
    {
     "name": "stdout",
     "output_type": "stream",
     "text": [
      "\n",
      " ic: \n",
      " Date                      datetime64[ns]\n",
      "location                          object\n",
      "Temp                             float64\n",
      "RH                               float64\n",
      "Total_Particles>0.3              float64\n",
      "Total_Particles>0.5/m3           float64\n",
      "Sample_Time                      float64\n",
      "Traffic                           object\n",
      "Weather                         category\n",
      "dtype: object \n",
      " mc: \n",
      " Date                      datetime64[ns]\n",
      "location                          object\n",
      "Temp                             float64\n",
      "RH                               float64\n",
      "Total_Particles>0.3              float64\n",
      "Total_Particles>0.5/m3           float64\n",
      "Sample_Time                       object\n",
      "Traffic                           object\n",
      "Weather                         category\n",
      "dtype: object\n"
     ]
    }
   ],
   "source": [
    "print(\"\\n ic: \\n\", ic.dtypes, \"\\n mc: \\n\",mc.dtypes)"
   ]
  },
  {
   "cell_type": "code",
   "execution_count": 26,
   "metadata": {
    "scrolled": true
   },
   "outputs": [
    {
     "data": {
      "text/plain": [
       "array([1010, 1015, 1023, 1028, 1047, 1052, 1042, 1035, 1004, 1208, 1213,\n",
       "       1219, 1224, 1242, 1247, 1236, 1230, 1201, 1237, 1250, 1255, 1313,\n",
       "       1318, 1308, 1301, 1231, 1243, 954, 940, 959, 1009, 946, 932, 922,\n",
       "       927, 1027, 1032, 1014, 1019, 917, 912, 859, 904, 849, 1037, 1046,\n",
       "       11, 1116, 1121, 1106, 1051, 1101, 1056, 1143, 1148, 1222, 1128,\n",
       "       1133, 1138, 1202, 1158, 1153, 1207, 1212, 1217, 1227, 844, 1422,\n",
       "       1427, 1434, 1439, 1459, 1504, 1454, 1447, 1416, 1154, 1159, 1209,\n",
       "       1214, 1238, 1233, 1228, 1221, 1125, 1215, 1220, 1232, 1252, 1257,\n",
       "       1240, 1407, 1043, 1038, 1033, 1021, 1026, 1124, 1129, 1111, 1016,\n",
       "       1011, 958, 1003, 949, 1134, 1150, 1211, 1216, 1206, 1139, 1145,\n",
       "       1155, 1241, 1312, 1347, 1226, 1327, 1322, 1317, 1332, 1337, 1342,\n",
       "       1352, 1357, 1402, 944, 1339, 1344, 1410, 1415, 1420, 1404, 1421,\n",
       "       1428, 1433, 1453, 1458, 1440, 1408, 1218, 1223, 1259, 1304, 1254,\n",
       "       1246, 856, 906, 930, 935, 925, 901, 911, 921, 916, 1001, 1006,\n",
       "       1040, 951, 956, 1025, 1030, 1045, 1050, 1055, 848, 1031, 948, 953,\n",
       "       920, 1008, 1013, 915, 910, 857, 902, 1147, 1152, 1204, 1140, 1108,\n",
       "       1113, 1103, 1053, 1022, 852, 842, 847, 837, 832, 819, 824, 808,\n",
       "       1024, 1142, 1048, 1058, 1123, 1118, 1157, 803, 1358, 1403, 1429,\n",
       "       1351, 1320, 1325, 1334, 1354, 1239, 1244, 1316, 1321, 1311, 1305,\n",
       "       1426, 1349, 1359, 1234, 1229, 1409, 1431, 1441, 1506, 1511, 1516,\n",
       "       1501, 1436, 1446, 1456, 1451, 1536, 1559, 1633, 1521, 1526, 1531,\n",
       "       1614, 1609, 1604, 1619, 1624, 1628, 1638, 1673, 1648, 1412, 1419,\n",
       "       1424, 1443, 1448, 1438, 1401, 1253, 1258, 1437, 1656, 1100, 1105,\n",
       "       1110, 1115, 1120, 1018, 1249, 1328, 1235, 1245, 1309, 1314, 1323,\n",
       "       1333, 1338, 1343, 1225, 1306, 939, 934, 929, 919, 924, 914, 909,\n",
       "       1248, 1302, 17, 1210, 1151, 1146, 1141, 1132, 1136, 1112, 1117,\n",
       "       1303, 1341, 1414, 1336, 1355, 1350, 1346, 1400, 1331, 1315, 1310,\n",
       "       918, 913, 908, 854, 829, 1059, 1104, 1109, 1256, 1251, 821, 1356,\n",
       "       1340, 1039, 1044, 1049, 841, 846, 828, 1054, 1119, 1114, 1326,\n",
       "       1345, 833, 1005, 820, 825, 812, 1144, 807, 858, 903, 823, 818,\n",
       "       1335, 1017, 589, 853, 1107, 1102, 1057, 1137, 1122, 1127, 1411,\n",
       "       1435, 1423, 1524, 1445, 1449, 1502, 1510, 1515, 1520, 1528, 1533,\n",
       "       1537, 950, 943, 850, 845, 834, 839, 1430, 1432, 1457, 1442, 1452,\n",
       "       1512, 1507, 502, 1517, 1522, 1541, 1546, 928, 933, 938, 835, 830,\n",
       "       815, 809, 804, 1000, 1036, 1020, 1330, 1529, 1547, 1549, 1535,\n",
       "       1503, 1508, 1525, 1530, 1514, 1007, 900, 931, 855, 840, 1012, 926,\n",
       "       813, 1135, 1130, 100, 941, 905, 936, 827, 1329, 1348, 1444, 923,\n",
       "       838, 1041, 1289, 1324, 1800, 1805, 1826, 1841, 1815, 1820, 1831,\n",
       "       1836, 1854, 1900, 1708, 1717, 1742, 1737, 1713, 1722, 1732, 1727,\n",
       "       1743, 1548, 1623, 1527, 1532, 1603, 1558, 1553, 1608, 1613, 1618,\n",
       "       1557, 1602, 1542, 1405, 1425, 1418, 1149, 816, 1500, nan, 1534,\n",
       "       1538, 1551, 1556, 1600, 1606, 1601, 1513, 1455, 1552, 1353, 1518,\n",
       "       1540, 1545, 758, 945, 831, 836, 757, 750, 745, 1610, 1622, 1543,\n",
       "       1519, 1539, 1588, 1612, 1523, 1550, 1555, 1617, 1509, 1406, 957,\n",
       "       1034, 746, 1417, 1450, 1544, 1505, 1300, 755, 747, 810, 1156, 817,\n",
       "       800, 1319, datetime.time(9, 50), datetime.time(10, 21),\n",
       "       datetime.time(12, 37), datetime.time(10, 30),\n",
       "       datetime.time(10, 44), datetime.time(10, 35),\n",
       "       datetime.time(11, 37), datetime.time(11, 28),\n",
       "       datetime.time(12, 44), datetime.time(12, 50),\n",
       "       datetime.time(10, 10), datetime.time(10, 2), datetime.time(11, 0),\n",
       "       datetime.time(10, 12), datetime.time(11, 10),\n",
       "       datetime.time(11, 18), datetime.time(12, 30),\n",
       "       datetime.time(12, 20), datetime.time(9, 43), datetime.time(12, 55),\n",
       "       datetime.time(1, 43), datetime.time(1, 28), datetime.time(1, 34),\n",
       "       datetime.time(1, 38), datetime.time(1, 25), datetime.time(1, 2),\n",
       "       datetime.time(1, 10), datetime.time(1, 20), datetime.time(1, 15),\n",
       "       datetime.time(2, 6), datetime.time(2, 10), datetime.time(2, 38),\n",
       "       datetime.time(1, 51), datetime.time(1, 57), datetime.time(2, 3),\n",
       "       datetime.time(2, 20), datetime.time(2, 17), datetime.time(2, 14),\n",
       "       datetime.time(2, 26), datetime.time(2, 30), datetime.time(2, 35),\n",
       "       datetime.time(2, 43), datetime.time(2, 50), datetime.time(2, 56),\n",
       "       datetime.time(9, 36)], dtype=object)"
      ]
     },
     "execution_count": 26,
     "metadata": {},
     "output_type": "execute_result"
    }
   ],
   "source": [
    "mc[\"Sample_Time\"].unique()"
   ]
  },
  {
   "cell_type": "code",
   "execution_count": 27,
   "metadata": {
    "scrolled": true
   },
   "outputs": [],
   "source": [
    "#fixing time\n",
    "#pd.to_datetime(mc[\"Sample_Time\"],format='%H%M').dt.time\n",
    "#ic['Sample_Time'] = pd.to_datetime(ic[\"Sample_Time\"]).dt.strftime('%H:%M')\n",
    "ic = ic.drop('Sample_Time', axis=1)\n",
    "mc = mc.drop('Sample_Time', axis=1)"
   ]
  },
  {
   "cell_type": "code",
   "execution_count": 28,
   "metadata": {
    "scrolled": true
   },
   "outputs": [
    {
     "data": {
      "text/plain": [
       "(           Date                                           location  Temp  \\\n",
       " 1621 2015-07-27                       9 Moffitt ICU Nurses Station  75.2   \n",
       " 130  2018-06-06                               BMT by C6971 (South)  73.2   \n",
       " 38   2018-09-14                                   Balcony by C6877  74.3   \n",
       " 1305 2015-12-21                             9 Long Service Station  74.6   \n",
       " 1730 2015-05-22                                   MBH Shuttle Stop  58.0   \n",
       " 1613 2015-07-30                                       BMT by C6924  72.0   \n",
       " 440  2017-05-24                              Terrace Door by C4625  71.7   \n",
       " 312  2016-05-24                               Mt Zion Shuttle Stop  64.4   \n",
       " 453  2017-05-24                           Hem Onc by C6899 (South)  74.0   \n",
       " 248  2017-12-19  Hallway by Nursing Station outside plastic Bar...  71.0   \n",
       " 1525 2015-08-31                          Balcony BMT/Hem Onc Spine  71.6   \n",
       " 232  2017-04-06         Near 2nd cement poll by front desk/windows  63.2   \n",
       " \n",
       "         RH  Total_Particles>0.3  Total_Particles>0.5/m3 Traffic  \\\n",
       " 1621  48.7               5601.0                166715.0    High   \n",
       " 130   45.0                335.0                 35689.0    None   \n",
       " 38    48.0               2040.0                201060.0  Medium   \n",
       " 1305  54.0              11744.0                620848.0  Medium   \n",
       " 1730  73.6             340267.0               5235722.0    High   \n",
       " 1613  50.3                760.0                 99918.0     Low   \n",
       " 440   45.0              12946.0                288516.0    None   \n",
       " 312   53.9              10291.0                133226.0     Low   \n",
       " 453   41.0              32740.0               1403357.0    None   \n",
       " 248   37.0             105393.0               2171202.0  Medium   \n",
       " 1525  55.3               6414.0                465198.0     Low   \n",
       " 232   45.0              18518.0                725088.0    None   \n",
       " \n",
       "                Weather  \n",
       " 1621               NaN  \n",
       " 130                NaN  \n",
       " 38              Cloudy  \n",
       " 1305           Raining  \n",
       " 1730               NaN  \n",
       " 1613               NaN  \n",
       " 440           Overcast  \n",
       " 312                NaN  \n",
       " 453           Overcast  \n",
       " 248      Mostly Cloudy  \n",
       " 1525     Partly Cloudy  \n",
       " 232   Scattered Clouds  ,\n",
       " (2095, 8))"
      ]
     },
     "execution_count": 28,
     "metadata": {},
     "output_type": "execute_result"
    }
   ],
   "source": [
    "#merging the particulate data now that they are in the same format\n",
    "part_df = pd.DataFrame(pd.concat([ic, mc]))\n",
    "\n",
    "part_df.sample(12), part_df.shape"
   ]
  },
  {
   "cell_type": "markdown",
   "metadata": {},
   "source": [
    "# Time for merging"
   ]
  },
  {
   "cell_type": "code",
   "execution_count": 29,
   "metadata": {
    "scrolled": true
   },
   "outputs": [
    {
     "data": {
      "text/plain": [
       "((5153, 4), (2095, 8))"
      ]
     },
     "execution_count": 29,
     "metadata": {},
     "output_type": "execute_result"
    }
   ],
   "source": [
    "#fixing the index\n",
    "cfu_df.shape, part_df.shape"
   ]
  },
  {
   "cell_type": "code",
   "execution_count": 30,
   "metadata": {},
   "outputs": [
    {
     "name": "stdout",
     "output_type": "stream",
     "text": [
      "Particulate data:  ['Hallway by Nursing Station outside plastic Barrier 14M'\n",
      " 'Outside of double-doors in long corridor labeled with sign \"Staff Only Do Not Enter.\" These doors are immediately adjacent to 15L north hallways and 15L waiting room. '\n",
      " 'Immediately outside of construction barricade, inside area labedled \"Staff Only Do Not Enter\".'\n",
      " 'Outside 15M west stairwell (barricaded, emergency exit only from construction area).'\n",
      " 'Outside 15M east stairwell (barricaded, emergency exit only from construction area).'\n",
      " 'ED Parking Lot' 'Inside 6 Moffitt South (M618) ICC nursing station'\n",
      " 'Inside 6 Moffitt South ICC Bed 1' 'Inside 6 Moffitt South ICC Bed 10'\n",
      " 'Inside 6 Moffitt Sout ICC Bed 9' 'Outside Construction barrier'\n",
      " 'Outside double doors to 12N (cath lab)' 'Inside unit 12N'\n",
      " 'Hallway 12S Corridor' 'Room J146 Mammography Waiting Room'\n",
      " 'Mt. Zion Shuttle Stop' 'Right side hall next to reception desk 8NICU'\n",
      " 'Left side hall next to reception desk 8NICU'\n",
      " 'Inisde the North double doors into 8L'\n",
      " 'Inside the South double doors of 8L' 'MBH BMT Inside room 7'\n",
      " 'MBH BMT Directly Outside Room 7'\n",
      " 'MBH BMT To the right side of room 7 door'\n",
      " 'MBH BMT To the left side of room 7 door' 'MBH BMT Inside room 8'\n",
      " 'MBH BMT Directly outside Room 8'\n",
      " 'MBT BMT To the right side of room 8 door'\n",
      " 'MBH BMT To the left side of room 8 door'\n",
      " 'Mammorgraphy waiting room J146' 'Main hallway J115' 'X-Ray room J140'\n",
      " 'Dressing Room J147' 'Inside 6 Moffit South (M618) ICC nursing station'\n",
      " 'Inside 6 Moffit South ICC Bed 1' 'Inside 6 Moffit South ICC Bed 10'\n",
      " 'Outside the construction barricade 5th Floor Moffit Lab'\n",
      " 'Near blood bank window 5th floor Moffit' 'Inside room L 108'\n",
      " 'Hallway outside M618' 'Outside Bed 13 - 14 9 ICU' 'Nursing station 14M'\n",
      " 'M14 Nursing station' 'Hallway outside M1421'\n",
      " '9ICU Hallway outside beds 9-10' 'Adjoining hallway 14M North wing'\n",
      " 'Adjoining hallway 14M East wing' 'Hallway outside LP286'\n",
      " 'ACC 2nd Floor Surgical Faculty clinic waiting room' 'C3804' 'C3810'\n",
      " 'C3817' 'Room 15 (C4751) in the PICU' '1855 entrance'\n",
      " '13ICU hallway outside Bed 7-8'\n",
      " 'Hallway near nursing station outside of construction barriers L1222'\n",
      " 'Hallway outside L1263' 'Hallway outside L508 (Cath Lab)'\n",
      " 'Hallway outside 9ICU bed 7'\n",
      " 'MBH Peds Dialysis Outside Tech Room Door M5202' 'MBH Shuttle Stop'\n",
      " 'Hallway outside M824' '13ICU hallway outside bed 5'\n",
      " '9ICU nursing station near M901C'\n",
      " '350 Parnassus Suite 300 by Reception Area'\n",
      " '350 Parnassus Suite 300 Just Outside Containment'\n",
      " 'Endoscopy Inside L 108 outside the construction barrier'\n",
      " '11NICU Hallway outside rooms 1 and 2' '10ICC Hallway outside bed 10'\n",
      " 'Hallway outside A651' 'Reception Desk clinic A610'\n",
      " 'Outside door of A610' 'Outside door frame of M524'\n",
      " 'Inside M524 by first sink on right'\n",
      " '12th floor Moffit, 1283A, outside of door leading into construction area (to left of corridor construction barrier)'\n",
      " '11NICU hallway outside bed 6'\n",
      " 'Public corridor, outside doors leading into construction area'\n",
      " 'Non-public east corridor (behind construction area) leading to stairwell (vertical egress)'\n",
      " '11 NICU Hallway Outside Room 3 & 4'\n",
      " 'MLOR 9, adjacent to OR bed, near middle of bed'\n",
      " 'Substerile 8/9 (near OR 9 entry point)'\n",
      " 'Semi-restricted corridor outside OR 9'\n",
      " 'Adjacent MLOR 9/10 Pump Room (near entry point from Pump Room to OR 9)'\n",
      " 'Inside room M104J Surgical waiting area'\n",
      " 'Inside Room M104K surgical waiting area'\n",
      " 'Hallway outside plastic barrier 14M' 'Hallway outside 1414M'\n",
      " '10ICC Hallway outside rm 9' '10ICC hallway outside rm 2'\n",
      " '10ICC inside rm 2' 'Inside 10 ICC Bed 9'\n",
      " '11Long North hallway corrider by nursing station'\n",
      " '11L south Hallway Corrider by nursing staion'\n",
      " 'Outside airway lock before entrance unit by double doors'\n",
      " 'inside airway lock between double doors'\n",
      " 'Past double doors in hallway of unit'\n",
      " 'End of south hallway near entrance to stairs with stairway door closed'\n",
      " 'End of south hallway near entrance to stairs with stairway door open'\n",
      " 'In room L1174' 'In room L1173' 'In room L1172' 'In room L1168'\n",
      " 'In room L1166' 'In room L1164' 'In room L1163' 'In room L1162'\n",
      " 'In room L1159' 'In room L1156' 'In room L1155' 'In room L1153'\n",
      " 'In room L1151' 'In room L1145' 'In room L1139' 'In room L1135'\n",
      " 'In room L1132' 'In room L1131' 'In room L1129' 'In room L1127'\n",
      " 'In room L1125' 'In room L1122' 'In room L1118' 'In room L1116'\n",
      " 'In room L1114' 'In room L1112' 'In room L11?? (East)'\n",
      " 'In room L11?? (West)' 'In room L1104' 'Hallway outside room A515E'\n",
      " 'Near 2nd cement poll by front desk/windows' 'ED parking Lot'\n",
      " '10ICC Hallway Outside Bed 7' '10 ICC Hallway Outside Bed 8'\n",
      " '11NICU hallway outside Bed 2' '13ICU hallway outside bed 7'\n",
      " 'Hallway outside Bed 16 11NICU' 'Hallway outside M1486'\n",
      " 'Hallway outside bed 11 and 11NICU'\n",
      " 'Parnassus Endoscopy Break Room(to right of check-in/out and waiting room)'\n",
      " 'Parnassus Endoscopy, L106 (outside of door, in public corridor)'\n",
      " 'Hb021, at the entry/exit point into the vault'\n",
      " 'HB018, at the entry/exit point into the vault'\n",
      " 'HB004 (Inside this treatment room)'\n",
      " 'HB006 (Inside this treatment room) '\n",
      " \"HB046 (Nurse's Station) in the public corridor in front on the Nurse's station window opening\"\n",
      " 'Public corridor outside HB047'\n",
      " 'HB036 (Family waiting arewa, carpeted space)'\n",
      " 'Public corridor, Long hallway L1059'\n",
      " 'Public corridor, Long hallway L1064'\n",
      " 'Public corridor, Long hallway L1019'\n",
      " 'Public corridor, Long hallway (south hallway of 10L) right before smoke door barriers'\n",
      " 'Public Corridor, Long hallway (10L south hallway) Backside of construction area entry/exit point'\n",
      " 'Public corridor, Long hallway (north Hallway of 10L)'\n",
      " 'Mammography waiting room J146' 'Mt Zion Shuttle Stop'\n",
      " 'AC05 Radiology Waiting Room' 'Long 26' 'Long 53'\n",
      " '11 Long Nursing Station' '11 Long Service Elevator'\n",
      " '9 Long Nurses Station' '9 Long Service Elevator'\n",
      " '9 Long ICU Nurses Station' '10 ICC Nurses Station' 'Balcony by A6577'\n",
      " 'Balcony by A5577' 'Balcony by A4577' 'Terrace Door across fr. C5433'\n",
      " 'Terrace Door across fr. C5411' 'Outside Door across fr. C5433'\n",
      " 'Terrace Door by C4617' 'Terrace Door by C4625' 'Terrace Door by C4828'\n",
      " 'Outside Door by C4828' 'Balcony BMT/Hem Onc Spine' 'Balcony by C6877'\n",
      " 'Balcony Msurge/CTCU Spine' 'Balcony by C5877' 'Balcony by C4877'\n",
      " 'Balcony by C4899A' 'Terrace Door by C3899' 'Terrace Door by A3879'\n",
      " 'Rad Onc Waiting Area/Lobby' 'Hem Onc by C6801 (North)'\n",
      " 'Hem Onc by C6899 (South)' 'Hem Onc by C6847A' 'Hem Onc C6S81'\n",
      " 'Hem Onc C6S80' 'Hem Onc by C6827' 'Hem Onc by C6807' 'Hem Onc by C6808'\n",
      " 'Hem Onc by C6835' 'Hem Onc by C6838' 'BMT by C6971 (North)'\n",
      " 'BMT by C6958 (Central)' 'BMT by C6971 (South)' 'BMT North Entrance'\n",
      " 'BMT by C6976 (North)' 'BMT by C6984 (Central)' 'BMT Central Entrance'\n",
      " 'BMT by C6913 (Central)' 'BMT South Entrance' 'BMT By C6901 (South)'\n",
      " 'BMT by C6924' 'BMT C6S91' 'BMT C6S90' '9 Moffitt ICU Nurses Station'\n",
      " 'BMT by C6958 ' 'BMT by C6971 ' 'Hem Onc by C6S81' 'Hem Onc by C6S80'\n",
      " 'Terrace Door across from C5433' 'Terrace Door across from C5411'\n",
      " 'Outside Door across from C5433' '9 Long Service Station'\n",
      " 'Outside Door by  C4828' 'BMT by C6915 (South)' 'Hem Onc by C6801(South)'\n",
      " 'BMT by C6913 (North)' 'BMT by C6901 (South)' 'Balcony B1-A6 by A6577'\n",
      " 'Balcony B1-A5 by A5577' 'Balcony B1-A4 by A4577'\n",
      " 'Garden Terrace Door Corridor GT1-C4 across fr. C5433'\n",
      " 'Garden Terrace Door Corridor GT2-C5 across fr. C5411'\n",
      " 'Outside Doors OGT3-C5 across fr. C5433 outside double doors '\n",
      " 'Garden Terrace Door Unit Corridor GT1-C4 by C4617'\n",
      " 'Garden Terrace Door Corridor GT2-C4 by C4625'\n",
      " 'Garden Terrace Door Corridor GT3-C4 by C4828'\n",
      " 'Outside Doors OGT4-C4 by C4828'\n",
      " 'Balcony B1-C6 Between BMT/Hem Onc Spine' 'Balcony B2-C6 by C6877'\n",
      " \"Balcony B2-C5 Between Children's Msurge/CTCU Spine\"\n",
      " 'Balcony B2-C5 by C5877' 'Balcony B1-C4 by C4877'\n",
      " 'Balcony B2-C4 in C4899A Anteroom'\n",
      " 'Garden Terrace Corridor GT1-C3 by C3899'\n",
      " 'Garden Terrace Corridor GT2-C3 by A3879' 'Rad Onc Waiting Area/Lobby '\n",
      " 'Hem Onc by C6801 Inside double doors (North Entrance)'\n",
      " 'Hem Onc by C6899 Inside double doors (South Entrance)'\n",
      " 'Hem Onc In unit by emergency stairwell by C6847A'\n",
      " 'Hem Onc Emergency stairwell area of refuge C6S81'\n",
      " 'Hem Onc Emergency Stairwell C6S80' 'Hem Onc Reception desk by C6827'\n",
      " 'Hem Onc Team Station by C6807A' 'Hem Onc Team Station by C6808'\n",
      " 'Hem Onc Team Station by C6835' 'Hem Onc Team Station by C6838'\n",
      " 'BMT North Team Station by C6971 ' 'BMT Central Team Station By C6958'\n",
      " 'BMT South Team Station by C6915 '\n",
      " 'BMT North Entrance Outside double doors'\n",
      " 'BMT North Entrance In between double doors '\n",
      " 'BMT North Entrance Inside double doors by C6976 '\n",
      " 'BMT Central Entrance Outside double doors by C6984 '\n",
      " 'BMT Central Entrance In between double doors '\n",
      " 'BMT Central Entrance Inside double doors by C6913'\n",
      " 'BMT South Entrance Outside double doors'\n",
      " 'BMT South Entrance In between double doors '\n",
      " 'BMT South Entrance Inside double doors By C6901'\n",
      " 'BMT In Unit by Emergency stairwell by C6924'\n",
      " 'BMT Emergency stairwell Area of Refuge by C6S91'\n",
      " 'BMT Emergency stairwell by C6S90'] \n",
      "\n",
      "CFU data:  ['Inside Room L108' 'ED Parking lot' 'unused agar strip' ...\n",
      " 'Shuttle Stop CSS Shuttle Stop CSS' ' Unusded RB Agar Strip'\n",
      " 'ROL1-GMB1 Rad Onc Waiting Area/Lobby'] \n",
      "\n"
     ]
    }
   ],
   "source": [
    "print('Particulate data: ', part_df['location'].unique(), \"\\n\")\n",
    "print('CFU data: ', cfu_df['location'].unique(), \"\\n\")"
   ]
  },
  {
   "cell_type": "code",
   "execution_count": 31,
   "metadata": {
    "scrolled": true
   },
   "outputs": [
    {
     "data": {
      "text/html": [
       "<div>\n",
       "<style scoped>\n",
       "    .dataframe tbody tr th:only-of-type {\n",
       "        vertical-align: middle;\n",
       "    }\n",
       "\n",
       "    .dataframe tbody tr th {\n",
       "        vertical-align: top;\n",
       "    }\n",
       "\n",
       "    .dataframe thead th {\n",
       "        text-align: right;\n",
       "    }\n",
       "</style>\n",
       "<table border=\"1\" class=\"dataframe\">\n",
       "  <thead>\n",
       "    <tr style=\"text-align: right;\">\n",
       "      <th></th>\n",
       "      <th>Date</th>\n",
       "      <th>location</th>\n",
       "      <th>Temp</th>\n",
       "      <th>RH</th>\n",
       "      <th>Total_Particles&gt;0.3</th>\n",
       "      <th>Total_Particles&gt;0.5/m3</th>\n",
       "      <th>Traffic</th>\n",
       "      <th>Weather</th>\n",
       "      <th>cfu</th>\n",
       "      <th>Source</th>\n",
       "    </tr>\n",
       "  </thead>\n",
       "  <tbody>\n",
       "    <tr>\n",
       "      <th>1506</th>\n",
       "      <td>2016-03-22</td>\n",
       "      <td>Hem Onc by C6847A</td>\n",
       "      <td>73.8</td>\n",
       "      <td>36.0</td>\n",
       "      <td>1061.0</td>\n",
       "      <td>111307.0</td>\n",
       "      <td>Low</td>\n",
       "      <td>Mostly Cloudy</td>\n",
       "      <td>NaN</td>\n",
       "      <td>NaN</td>\n",
       "    </tr>\n",
       "    <tr>\n",
       "      <th>290</th>\n",
       "      <td>2017-12-18</td>\n",
       "      <td>ED Parking Lot</td>\n",
       "      <td>61.8</td>\n",
       "      <td>29.0</td>\n",
       "      <td>457312.0</td>\n",
       "      <td>9815371.0</td>\n",
       "      <td>Low</td>\n",
       "      <td>Partly Cloudy</td>\n",
       "      <td>34.0</td>\n",
       "      <td>adhoc</td>\n",
       "    </tr>\n",
       "    <tr>\n",
       "      <th>1537</th>\n",
       "      <td>2016-03-21</td>\n",
       "      <td>10 ICC Nurses Station</td>\n",
       "      <td>73.1</td>\n",
       "      <td>49.0</td>\n",
       "      <td>15142.0</td>\n",
       "      <td>286396.0</td>\n",
       "      <td>High</td>\n",
       "      <td>Overcast</td>\n",
       "      <td>NaN</td>\n",
       "      <td>NaN</td>\n",
       "    </tr>\n",
       "    <tr>\n",
       "      <th>1732</th>\n",
       "      <td>2015-10-28</td>\n",
       "      <td>Hem Onc C6S81</td>\n",
       "      <td>73.2</td>\n",
       "      <td>54.1</td>\n",
       "      <td>26854.0</td>\n",
       "      <td>702219.0</td>\n",
       "      <td>None</td>\n",
       "      <td>Partly Sunny</td>\n",
       "      <td>NaN</td>\n",
       "      <td>NaN</td>\n",
       "    </tr>\n",
       "    <tr>\n",
       "      <th>869</th>\n",
       "      <td>2017-03-21</td>\n",
       "      <td>Terrace Door by C4828</td>\n",
       "      <td>69.4</td>\n",
       "      <td>55.4</td>\n",
       "      <td>12805.0</td>\n",
       "      <td>748057.0</td>\n",
       "      <td>Low</td>\n",
       "      <td>Overcast</td>\n",
       "      <td>NaN</td>\n",
       "      <td>NaN</td>\n",
       "    </tr>\n",
       "    <tr>\n",
       "      <th>1721</th>\n",
       "      <td>2015-11-18</td>\n",
       "      <td>Long 53</td>\n",
       "      <td>70.1</td>\n",
       "      <td>57.9</td>\n",
       "      <td>2182.0</td>\n",
       "      <td>81098.0</td>\n",
       "      <td>Low</td>\n",
       "      <td>Mostly Cloudy</td>\n",
       "      <td>NaN</td>\n",
       "      <td>NaN</td>\n",
       "    </tr>\n",
       "    <tr>\n",
       "      <th>2088</th>\n",
       "      <td>2015-04-24</td>\n",
       "      <td>Hem Onc Team Station by C6808</td>\n",
       "      <td>71.1</td>\n",
       "      <td>38.4</td>\n",
       "      <td>2095.0</td>\n",
       "      <td>129967.0</td>\n",
       "      <td>Low</td>\n",
       "      <td>Partly Cloudy</td>\n",
       "      <td>NaN</td>\n",
       "      <td>NaN</td>\n",
       "    </tr>\n",
       "    <tr>\n",
       "      <th>279</th>\n",
       "      <td>2018-01-03</td>\n",
       "      <td>Hallway by Nursing Station outside plastic Bar...</td>\n",
       "      <td>72.9</td>\n",
       "      <td>38.0</td>\n",
       "      <td>108659.0</td>\n",
       "      <td>2167314.0</td>\n",
       "      <td>Low</td>\n",
       "      <td>Mostly Cloudy</td>\n",
       "      <td>NaN</td>\n",
       "      <td>NaN</td>\n",
       "    </tr>\n",
       "    <tr>\n",
       "      <th>2029</th>\n",
       "      <td>2015-05-22</td>\n",
       "      <td>Hem Onc by C6899 (South)</td>\n",
       "      <td>71.8</td>\n",
       "      <td>50.4</td>\n",
       "      <td>3058.0</td>\n",
       "      <td>108608.0</td>\n",
       "      <td>None</td>\n",
       "      <td>NaN</td>\n",
       "      <td>NaN</td>\n",
       "      <td>NaN</td>\n",
       "    </tr>\n",
       "    <tr>\n",
       "      <th>2101</th>\n",
       "      <td>2015-04-24</td>\n",
       "      <td>BMT South Entrance In between double doors</td>\n",
       "      <td>72.8</td>\n",
       "      <td>37.0</td>\n",
       "      <td>2438.0</td>\n",
       "      <td>163319.0</td>\n",
       "      <td>None</td>\n",
       "      <td>Partly Cloudy</td>\n",
       "      <td>NaN</td>\n",
       "      <td>NaN</td>\n",
       "    </tr>\n",
       "    <tr>\n",
       "      <th>387</th>\n",
       "      <td>2018-08-27</td>\n",
       "      <td>Long 26</td>\n",
       "      <td>69.2</td>\n",
       "      <td>65.0</td>\n",
       "      <td>15991.0</td>\n",
       "      <td>205654.0</td>\n",
       "      <td>Low</td>\n",
       "      <td>NaN</td>\n",
       "      <td>NaN</td>\n",
       "      <td>NaN</td>\n",
       "    </tr>\n",
       "    <tr>\n",
       "      <th>485</th>\n",
       "      <td>2018-03-26</td>\n",
       "      <td>ED Parking Lot</td>\n",
       "      <td>63.2</td>\n",
       "      <td>35.0</td>\n",
       "      <td>73550.0</td>\n",
       "      <td>4661131.0</td>\n",
       "      <td>Low</td>\n",
       "      <td>Fair</td>\n",
       "      <td>NaN</td>\n",
       "      <td>NaN</td>\n",
       "    </tr>\n",
       "  </tbody>\n",
       "</table>\n",
       "</div>"
      ],
      "text/plain": [
       "           Date                                           location  Temp  \\\n",
       "1506 2016-03-22                                  Hem Onc by C6847A  73.8   \n",
       "290  2017-12-18                                     ED Parking Lot  61.8   \n",
       "1537 2016-03-21                              10 ICC Nurses Station  73.1   \n",
       "1732 2015-10-28                                      Hem Onc C6S81  73.2   \n",
       "869  2017-03-21                              Terrace Door by C4828  69.4   \n",
       "1721 2015-11-18                                            Long 53  70.1   \n",
       "2088 2015-04-24                      Hem Onc Team Station by C6808  71.1   \n",
       "279  2018-01-03  Hallway by Nursing Station outside plastic Bar...  72.9   \n",
       "2029 2015-05-22                           Hem Onc by C6899 (South)  71.8   \n",
       "2101 2015-04-24        BMT South Entrance In between double doors   72.8   \n",
       "387  2018-08-27                                            Long 26  69.2   \n",
       "485  2018-03-26                                     ED Parking Lot  63.2   \n",
       "\n",
       "        RH  Total_Particles>0.3  Total_Particles>0.5/m3 Traffic  \\\n",
       "1506  36.0               1061.0                111307.0     Low   \n",
       "290   29.0             457312.0               9815371.0     Low   \n",
       "1537  49.0              15142.0                286396.0    High   \n",
       "1732  54.1              26854.0                702219.0    None   \n",
       "869   55.4              12805.0                748057.0     Low   \n",
       "1721  57.9               2182.0                 81098.0     Low   \n",
       "2088  38.4               2095.0                129967.0     Low   \n",
       "279   38.0             108659.0               2167314.0     Low   \n",
       "2029  50.4               3058.0                108608.0    None   \n",
       "2101  37.0               2438.0                163319.0    None   \n",
       "387   65.0              15991.0                205654.0     Low   \n",
       "485   35.0              73550.0               4661131.0     Low   \n",
       "\n",
       "            Weather   cfu Source  \n",
       "1506  Mostly Cloudy   NaN    NaN  \n",
       "290   Partly Cloudy  34.0  adhoc  \n",
       "1537       Overcast   NaN    NaN  \n",
       "1732   Partly Sunny   NaN    NaN  \n",
       "869        Overcast   NaN    NaN  \n",
       "1721  Mostly Cloudy   NaN    NaN  \n",
       "2088  Partly Cloudy   NaN    NaN  \n",
       "279   Mostly Cloudy   NaN    NaN  \n",
       "2029            NaN   NaN    NaN  \n",
       "2101  Partly Cloudy   NaN    NaN  \n",
       "387             NaN   NaN    NaN  \n",
       "485            Fair   NaN    NaN  "
      ]
     },
     "execution_count": 31,
     "metadata": {},
     "output_type": "execute_result"
    }
   ],
   "source": [
    "df = part_df.merge(cfu_df,  how='left', on=['Date','location'])\n",
    "df.sample(12)"
   ]
  },
  {
   "cell_type": "code",
   "execution_count": 32,
   "metadata": {
    "scrolled": true
   },
   "outputs": [
    {
     "data": {
      "text/html": [
       "<div>\n",
       "<style scoped>\n",
       "    .dataframe tbody tr th:only-of-type {\n",
       "        vertical-align: middle;\n",
       "    }\n",
       "\n",
       "    .dataframe tbody tr th {\n",
       "        vertical-align: top;\n",
       "    }\n",
       "\n",
       "    .dataframe thead th {\n",
       "        text-align: right;\n",
       "    }\n",
       "</style>\n",
       "<table border=\"1\" class=\"dataframe\">\n",
       "  <thead>\n",
       "    <tr style=\"text-align: right;\">\n",
       "      <th></th>\n",
       "      <th>Temp</th>\n",
       "      <th>RH</th>\n",
       "      <th>Total_Particles&gt;0.3</th>\n",
       "      <th>Total_Particles&gt;0.5/m3</th>\n",
       "      <th>cfu</th>\n",
       "    </tr>\n",
       "  </thead>\n",
       "  <tbody>\n",
       "    <tr>\n",
       "      <th>count</th>\n",
       "      <td>125.000000</td>\n",
       "      <td>125.00000</td>\n",
       "      <td>1.250000e+02</td>\n",
       "      <td>1.250000e+02</td>\n",
       "      <td>125.000000</td>\n",
       "    </tr>\n",
       "    <tr>\n",
       "      <th>mean</th>\n",
       "      <td>68.650480</td>\n",
       "      <td>48.03520</td>\n",
       "      <td>1.054582e+05</td>\n",
       "      <td>3.109313e+06</td>\n",
       "      <td>9.584000</td>\n",
       "    </tr>\n",
       "    <tr>\n",
       "      <th>std</th>\n",
       "      <td>5.042716</td>\n",
       "      <td>9.78859</td>\n",
       "      <td>2.075610e+05</td>\n",
       "      <td>4.979934e+06</td>\n",
       "      <td>13.183068</td>\n",
       "    </tr>\n",
       "    <tr>\n",
       "      <th>min</th>\n",
       "      <td>55.000000</td>\n",
       "      <td>6.20000</td>\n",
       "      <td>1.527500e+01</td>\n",
       "      <td>1.121000e+03</td>\n",
       "      <td>0.000000</td>\n",
       "    </tr>\n",
       "    <tr>\n",
       "      <th>25%</th>\n",
       "      <td>65.600000</td>\n",
       "      <td>44.10000</td>\n",
       "      <td>2.864000e+03</td>\n",
       "      <td>1.690030e+05</td>\n",
       "      <td>1.000000</td>\n",
       "    </tr>\n",
       "    <tr>\n",
       "      <th>50%</th>\n",
       "      <td>71.000000</td>\n",
       "      <td>47.50000</td>\n",
       "      <td>3.875400e+04</td>\n",
       "      <td>1.194524e+06</td>\n",
       "      <td>2.000000</td>\n",
       "    </tr>\n",
       "    <tr>\n",
       "      <th>75%</th>\n",
       "      <td>72.300000</td>\n",
       "      <td>52.00000</td>\n",
       "      <td>1.176110e+05</td>\n",
       "      <td>3.340460e+06</td>\n",
       "      <td>13.000000</td>\n",
       "    </tr>\n",
       "    <tr>\n",
       "      <th>max</th>\n",
       "      <td>75.900000</td>\n",
       "      <td>74.00000</td>\n",
       "      <td>1.770039e+06</td>\n",
       "      <td>3.369700e+07</td>\n",
       "      <td>34.000000</td>\n",
       "    </tr>\n",
       "  </tbody>\n",
       "</table>\n",
       "</div>"
      ],
      "text/plain": [
       "             Temp         RH  Total_Particles>0.3  Total_Particles>0.5/m3  \\\n",
       "count  125.000000  125.00000         1.250000e+02            1.250000e+02   \n",
       "mean    68.650480   48.03520         1.054582e+05            3.109313e+06   \n",
       "std      5.042716    9.78859         2.075610e+05            4.979934e+06   \n",
       "min     55.000000    6.20000         1.527500e+01            1.121000e+03   \n",
       "25%     65.600000   44.10000         2.864000e+03            1.690030e+05   \n",
       "50%     71.000000   47.50000         3.875400e+04            1.194524e+06   \n",
       "75%     72.300000   52.00000         1.176110e+05            3.340460e+06   \n",
       "max     75.900000   74.00000         1.770039e+06            3.369700e+07   \n",
       "\n",
       "              cfu  \n",
       "count  125.000000  \n",
       "mean     9.584000  \n",
       "std     13.183068  \n",
       "min      0.000000  \n",
       "25%      1.000000  \n",
       "50%      2.000000  \n",
       "75%     13.000000  \n",
       "max     34.000000  "
      ]
     },
     "execution_count": 32,
     "metadata": {},
     "output_type": "execute_result"
    }
   ],
   "source": [
    "#Testing without missing data\n",
    "#dropping erroneous relative humidity values\n",
    "df1 = df.dropna(subset=['cfu','Total_Particles>0.3','Total_Particles>0.5/m3'])\n",
    "df1 = df1[df1.RH < 80]\n",
    "df1.describe()"
   ]
  },
  {
   "cell_type": "code",
   "execution_count": 33,
   "metadata": {},
   "outputs": [
    {
     "name": "stdout",
     "output_type": "stream",
     "text": [
      "<class 'pandas.core.frame.DataFrame'>\n",
      "Int64Index: 125 entries, 19 to 2061\n",
      "Data columns (total 10 columns):\n",
      " #   Column                  Non-Null Count  Dtype         \n",
      "---  ------                  --------------  -----         \n",
      " 0   Date                    125 non-null    datetime64[ns]\n",
      " 1   location                125 non-null    object        \n",
      " 2   Temp                    125 non-null    float64       \n",
      " 3   RH                      125 non-null    float64       \n",
      " 4   Total_Particles>0.3     125 non-null    float64       \n",
      " 5   Total_Particles>0.5/m3  125 non-null    float64       \n",
      " 6   Traffic                 123 non-null    object        \n",
      " 7   Weather                 123 non-null    object        \n",
      " 8   cfu                     125 non-null    float64       \n",
      " 9   Source                  125 non-null    object        \n",
      "dtypes: datetime64[ns](1), float64(5), object(4)\n",
      "memory usage: 10.7+ KB\n"
     ]
    }
   ],
   "source": [
    "df1.info()"
   ]
  },
  {
   "cell_type": "code",
   "execution_count": 34,
   "metadata": {},
   "outputs": [],
   "source": [
    "df1['Weather'] = df1['Weather'].astype('category')\n",
    "df1['Traffic'] = df1['Traffic'].astype('category')\n",
    "assert df1['Weather'].dtype == 'category'"
   ]
  },
  {
   "cell_type": "code",
   "execution_count": 35,
   "metadata": {
    "scrolled": true
   },
   "outputs": [
    {
     "data": {
      "text/plain": [
       "count    1.250000e+02\n",
       "mean     3.109313e+06\n",
       "std      4.979934e+06\n",
       "min      1.121000e+03\n",
       "25%      1.690030e+05\n",
       "50%      1.194524e+06\n",
       "75%      3.340460e+06\n",
       "max      3.369700e+07\n",
       "Name: Total_Particles>0.5/m3, dtype: float64"
      ]
     },
     "execution_count": 35,
     "metadata": {},
     "output_type": "execute_result"
    }
   ],
   "source": [
    "df1['Total_Particles>0.5/m3'].describe()"
   ]
  },
  {
   "cell_type": "code",
   "execution_count": 36,
   "metadata": {},
   "outputs": [
    {
     "data": {
      "text/plain": [
       "count    1.250000e+02\n",
       "mean     1.054582e+05\n",
       "std      2.075610e+05\n",
       "min      1.527500e+01\n",
       "25%      2.864000e+03\n",
       "50%      3.875400e+04\n",
       "75%      1.176110e+05\n",
       "max      1.770039e+06\n",
       "Name: Total_Particles>0.3, dtype: float64"
      ]
     },
     "execution_count": 36,
     "metadata": {},
     "output_type": "execute_result"
    }
   ],
   "source": [
    "df1['Total_Particles>0.3'].describe()"
   ]
  },
  {
   "cell_type": "code",
   "execution_count": 37,
   "metadata": {
    "scrolled": true
   },
   "outputs": [
    {
     "data": {
      "text/plain": [
       "array([[<AxesSubplot:title={'center':'Temp'}>,\n",
       "        <AxesSubplot:title={'center':'RH'}>],\n",
       "       [<AxesSubplot:title={'center':'Total_Particles>0.3'}>,\n",
       "        <AxesSubplot:title={'center':'Total_Particles>0.5/m3'}>],\n",
       "       [<AxesSubplot:title={'center':'cfu'}>, <AxesSubplot:>]],\n",
       "      dtype=object)"
      ]
     },
     "execution_count": 37,
     "metadata": {},
     "output_type": "execute_result"
    },
    {
     "data": {
      "image/png": "[encoded data removed]",
      "text/plain": [
       "<Figure size 432x288 with 6 Axes>"
      ]
     },
     "metadata": {
      "needs_background": "light"
     },
     "output_type": "display_data"
    }
   ],
   "source": [
    "df1.hist(bins=10)"
   ]
  },
  {
   "cell_type": "code",
   "execution_count": 38,
   "metadata": {},
   "outputs": [
    {
     "name": "stdout",
     "output_type": "stream",
     "text": [
      "Rows: 125 \n",
      "Columns: 10\n"
     ]
    }
   ],
   "source": [
    "print(\"Rows:\", df1.shape[0], \"\\nColumns:\",df1.shape[1])"
   ]
  },
  {
   "cell_type": "code",
   "execution_count": 39,
   "metadata": {
    "scrolled": false
   },
   "outputs": [
    {
     "name": "stdout",
     "output_type": "stream",
     "text": [
      "<class 'pandas.core.frame.DataFrame'>\n",
      "Int64Index: 125 entries, 19 to 2061\n",
      "Data columns (total 10 columns):\n",
      " #   Column                  Non-Null Count  Dtype         \n",
      "---  ------                  --------------  -----         \n",
      " 0   Date                    125 non-null    datetime64[ns]\n",
      " 1   location                125 non-null    object        \n",
      " 2   Temp                    125 non-null    float64       \n",
      " 3   RH                      125 non-null    float64       \n",
      " 4   Total_Particles>0.3     125 non-null    float64       \n",
      " 5   Total_Particles>0.5/m3  125 non-null    float64       \n",
      " 6   Traffic                 123 non-null    category      \n",
      " 7   Weather                 123 non-null    category      \n",
      " 8   cfu                     125 non-null    float64       \n",
      " 9   Source                  125 non-null    object        \n",
      "dtypes: category(2), datetime64[ns](1), float64(5), object(2)\n",
      "memory usage: 9.6+ KB\n"
     ]
    }
   ],
   "source": [
    "df1.info()"
   ]
  },
  {
   "cell_type": "code",
   "execution_count": 40,
   "metadata": {
    "scrolled": true
   },
   "outputs": [
    {
     "data": {
      "image/png": "[encoded data removed]",
      "text/plain": [
       "<Figure size 432x288 with 1 Axes>"
      ]
     },
     "metadata": {
      "needs_background": "light"
     },
     "output_type": "display_data"
    },
    {
     "data": {
      "text/plain": [
       "count    125.000000\n",
       "mean       9.584000\n",
       "std       13.183068\n",
       "min        0.000000\n",
       "25%        1.000000\n",
       "50%        2.000000\n",
       "75%       13.000000\n",
       "max       34.000000\n",
       "Name: cfu, dtype: float64"
      ]
     },
     "execution_count": 40,
     "metadata": {},
     "output_type": "execute_result"
    }
   ],
   "source": [
    "#looking at data\n",
    "plt.hist(df1['cfu'])\n",
    "plt.show()\n",
    "df1.cfu.describe()"
   ]
  },
  {
   "cell_type": "code",
   "execution_count": 41,
   "metadata": {
    "scrolled": false
   },
   "outputs": [
    {
     "data": {
      "text/plain": [
       "1.0     30\n",
       "0.0     27\n",
       "34.0    24\n",
       "2.0     15\n",
       "7.0      4\n",
       "4.0      3\n",
       "8.0      3\n",
       "11.0     3\n",
       "3.0      3\n",
       "13.0     3\n",
       "28.0     2\n",
       "10.0     2\n",
       "12.0     2\n",
       "20.0     1\n",
       "5.0      1\n",
       "22.0     1\n",
       "30.0     1\n",
       "Name: cfu, dtype: int64"
      ]
     },
     "execution_count": 41,
     "metadata": {},
     "output_type": "execute_result"
    }
   ],
   "source": [
    "df1[\"cfu\"].value_counts(dropna=False)"
   ]
  },
  {
   "cell_type": "code",
   "execution_count": 42,
   "metadata": {},
   "outputs": [
    {
     "data": {
      "text/html": [
       "<div>\n",
       "<style scoped>\n",
       "    .dataframe tbody tr th:only-of-type {\n",
       "        vertical-align: middle;\n",
       "    }\n",
       "\n",
       "    .dataframe tbody tr th {\n",
       "        vertical-align: top;\n",
       "    }\n",
       "\n",
       "    .dataframe thead th {\n",
       "        text-align: right;\n",
       "    }\n",
       "</style>\n",
       "<table border=\"1\" class=\"dataframe\">\n",
       "  <thead>\n",
       "    <tr style=\"text-align: right;\">\n",
       "      <th></th>\n",
       "      <th>Temp</th>\n",
       "      <th>RH</th>\n",
       "      <th>Total_Particles&gt;0.3</th>\n",
       "      <th>Total_Particles&gt;0.5/m3</th>\n",
       "      <th>cfu</th>\n",
       "    </tr>\n",
       "  </thead>\n",
       "  <tbody>\n",
       "    <tr>\n",
       "      <th>Temp</th>\n",
       "      <td>1.000000</td>\n",
       "      <td>-0.069585</td>\n",
       "      <td>-0.598834</td>\n",
       "      <td>-0.659862</td>\n",
       "      <td>-0.606895</td>\n",
       "    </tr>\n",
       "    <tr>\n",
       "      <th>RH</th>\n",
       "      <td>-0.069585</td>\n",
       "      <td>1.000000</td>\n",
       "      <td>0.003581</td>\n",
       "      <td>0.104402</td>\n",
       "      <td>-0.078766</td>\n",
       "    </tr>\n",
       "    <tr>\n",
       "      <th>Total_Particles&gt;0.3</th>\n",
       "      <td>-0.598834</td>\n",
       "      <td>0.003581</td>\n",
       "      <td>1.000000</td>\n",
       "      <td>0.872794</td>\n",
       "      <td>0.414355</td>\n",
       "    </tr>\n",
       "    <tr>\n",
       "      <th>Total_Particles&gt;0.5/m3</th>\n",
       "      <td>-0.659862</td>\n",
       "      <td>0.104402</td>\n",
       "      <td>0.872794</td>\n",
       "      <td>1.000000</td>\n",
       "      <td>0.484470</td>\n",
       "    </tr>\n",
       "    <tr>\n",
       "      <th>cfu</th>\n",
       "      <td>-0.606895</td>\n",
       "      <td>-0.078766</td>\n",
       "      <td>0.414355</td>\n",
       "      <td>0.484470</td>\n",
       "      <td>1.000000</td>\n",
       "    </tr>\n",
       "  </tbody>\n",
       "</table>\n",
       "</div>"
      ],
      "text/plain": [
       "                            Temp        RH  Total_Particles>0.3  \\\n",
       "Temp                    1.000000 -0.069585            -0.598834   \n",
       "RH                     -0.069585  1.000000             0.003581   \n",
       "Total_Particles>0.3    -0.598834  0.003581             1.000000   \n",
       "Total_Particles>0.5/m3 -0.659862  0.104402             0.872794   \n",
       "cfu                    -0.606895 -0.078766             0.414355   \n",
       "\n",
       "                        Total_Particles>0.5/m3       cfu  \n",
       "Temp                                 -0.659862 -0.606895  \n",
       "RH                                    0.104402 -0.078766  \n",
       "Total_Particles>0.3                   0.872794  0.414355  \n",
       "Total_Particles>0.5/m3                1.000000  0.484470  \n",
       "cfu                                   0.484470  1.000000  "
      ]
     },
     "execution_count": 42,
     "metadata": {},
     "output_type": "execute_result"
    }
   ],
   "source": [
    "df1.corr()"
   ]
  },
  {
   "cell_type": "code",
   "execution_count": 43,
   "metadata": {},
   "outputs": [
    {
     "data": {
      "text/plain": [
       "<seaborn.axisgrid.PairGrid at 0x2703236d8e0>"
      ]
     },
     "execution_count": 43,
     "metadata": {},
     "output_type": "execute_result"
    },
    {
     "data": {
      "image/png": "[encoded data removed]",
      "text/plain": [
       "<Figure size 900x900 with 30 Axes>"
      ]
     },
     "metadata": {
      "needs_background": "light"
     },
     "output_type": "display_data"
    }
   ],
   "source": [
    "sns.pairplot(df1)"
   ]
  },
  {
   "cell_type": "markdown",
   "metadata": {},
   "source": [
    "Many locations are named in differing patterns, or the room number is in the prior sample(s)."
   ]
  },
  {
   "cell_type": "markdown",
   "metadata": {},
   "source": [
    "## Data Organization\n",
    "\n",
    "File structure on github."
   ]
  },
  {
   "cell_type": "markdown",
   "metadata": {},
   "source": [
    "## Data Definition\n",
    "\n",
    "Columns are temperature(Temp), relative humidity(RH), total amount of particulates larger than 0.3 microns(Total_Particles>0.3), total amount of particulates greater than 0.5 microns in a cubic meter (Total_Particles>0.5/m3), total fungus colony forming units(cfu)."
   ]
  },
  {
   "cell_type": "code",
   "execution_count": null,
   "metadata": {},
   "outputs": [],
   "source": []
  },
  {
   "cell_type": "markdown",
   "metadata": {},
   "source": [
    "## Data Cleaning\n",
    "Goal: Clean up the data in order to prepare it for the next steps of your project"
   ]
  },
  {
   "cell_type": "code",
   "execution_count": null,
   "metadata": {},
   "outputs": [],
   "source": []
  }
 ],
 "metadata": {
  "kernelspec": {
   "display_name": "Python 3",
   "language": "python",
   "name": "python3"
  },
  "language_info": {
   "codemirror_mode": {
    "name": "ipython",
    "version": 3
   },
   "file_extension": ".py",
   "mimetype": "text/x-python",
   "name": "python",
   "nbconvert_exporter": "python",
   "pygments_lexer": "ipython3",
   "version": "3.8.5"
  }
 },
 "nbformat": 4,
 "nbformat_minor": 4
}
