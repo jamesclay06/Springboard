{
 "cells": [
  {
   "cell_type": "markdown",
   "metadata": {},
   "source": [
    "# Colony forming units (cfu) of mold versus air particulate measurements.\n",
    "\n",
    "Two things I want to explore: \n",
    "* Is there a **particle count** difference between locations with **CFU** measurements above below 10?\n",
    "* Are particulate counts an indicator of CFU counts?"
   ]
  },
  {
   "cell_type": "code",
   "execution_count": 31,
   "metadata": {},
   "outputs": [],
   "source": [
    "#importing the tools\n",
    "import pandas as pd\n",
    "import numpy as np\n",
    "import seaborn as sns\n",
    "import matplotlib.pyplot as plt\n",
    "from scipy import stats"
   ]
  },
  {
   "cell_type": "markdown",
   "metadata": {},
   "source": [
    "Explore the data relationships of all your features and understand how the\n",
    "features compare to the response variable.\n",
    "\n",
    "● Build data profiles and tables\n",
    "\n",
    "○ Inferential statistics\n",
    "\n",
    "● Explore data relationships\n",
    "\n",
    "○ Data visualization\n",
    "\n",
    "● Feature Selection and Engineering\n"
   ]
  },
  {
   "cell_type": "markdown",
   "metadata": {},
   "source": [
    "### Loading data and building profiles"
   ]
  },
  {
   "cell_type": "code",
   "execution_count": 44,
   "metadata": {
    "scrolled": true
   },
   "outputs": [
    {
     "data": {
      "text/plain": [
       "Date                      datetime64[ns]\n",
       "location                          object\n",
       "Temp                             float64\n",
       "RH                               float64\n",
       "Total_Particles>0.3              float64\n",
       "Total_Particles>0.5/m3           float64\n",
       "Traffic                         category\n",
       "Weather                         category\n",
       "cfu                              float64\n",
       "Source                            object\n",
       "dtype: object"
      ]
     },
     "execution_count": 44,
     "metadata": {},
     "output_type": "execute_result"
    }
   ],
   "source": [
    "file = 'data\\combined_VAS.csv'\n",
    "df = pd.read_csv(file,index_col=0,parse_dates=True)\n",
    "df['Date'] = pd.to_datetime(df['Date'])\n",
    "df['Traffic'] = df['Traffic'].astype('category')\n",
    "df['Weather'] = df['Weather'].astype('category')\n",
    "df['cfu'] = df['cfu'].astype('float')\n",
    "df.reset_index()\n",
    "df.dtypes"
   ]
  },
  {
   "cell_type": "markdown",
   "metadata": {},
   "source": [
    "#### CFU 0 values are genuine 0s. CFU 34 values are spiked values as the true value could be > 34"
   ]
  },
  {
   "cell_type": "code",
   "execution_count": 45,
   "metadata": {},
   "outputs": [],
   "source": [
    "#the values at 34 actually represent 34 and above. during analysis counting stopped at 34\n",
    "#for this reason I will take out the 34 values as they may not be accurate.\n",
    "#maybe I can regression and see if they are expected to be 34 or higher based on \n",
    "#particulates data\n",
    "df['location'][df['cfu']==34].value_counts()\n",
    "df = df[df['cfu']<34]"
   ]
  },
  {
   "cell_type": "code",
   "execution_count": 46,
   "metadata": {},
   "outputs": [
    {
     "data": {
      "image/png": "[encoded data removed]",
      "text/plain": [
       "<Figure size 720x720 with 6 Axes>"
      ]
     },
     "metadata": {
      "needs_background": "light"
     },
     "output_type": "display_data"
    }
   ],
   "source": [
    "hist = df.hist(bins=10, figsize=(10,10))"
   ]
  },
  {
   "cell_type": "markdown",
   "metadata": {},
   "source": [
    "#### Adding a threshold value of 10."
   ]
  },
  {
   "cell_type": "code",
   "execution_count": 47,
   "metadata": {},
   "outputs": [],
   "source": [
    "df['threshold'] = np.where(df['cfu'] < 10, 'under','over')"
   ]
  },
  {
   "cell_type": "markdown",
   "metadata": {},
   "source": [
    "#### Seperating the data to only look at indoor values."
   ]
  },
  {
   "cell_type": "code",
   "execution_count": 48,
   "metadata": {
    "scrolled": false
   },
   "outputs": [
    {
     "data": {
      "text/html": [
       "<div>\n",
       "<style scoped>\n",
       "    .dataframe tbody tr th:only-of-type {\n",
       "        vertical-align: middle;\n",
       "    }\n",
       "\n",
       "    .dataframe tbody tr th {\n",
       "        vertical-align: top;\n",
       "    }\n",
       "\n",
       "    .dataframe thead th {\n",
       "        text-align: right;\n",
       "    }\n",
       "</style>\n",
       "<table border=\"1\" class=\"dataframe\">\n",
       "  <thead>\n",
       "    <tr style=\"text-align: right;\">\n",
       "      <th></th>\n",
       "      <th>Total_Particles&gt;0.3</th>\n",
       "      <th>Total_Particles&gt;0.5/m3</th>\n",
       "      <th>cfu</th>\n",
       "      <th>Source</th>\n",
       "      <th>threshold</th>\n",
       "      <th>location</th>\n",
       "    </tr>\n",
       "  </thead>\n",
       "  <tbody>\n",
       "    <tr>\n",
       "      <th>1102</th>\n",
       "      <td>284.0</td>\n",
       "      <td>29601.0</td>\n",
       "      <td>0.0</td>\n",
       "      <td>MB</td>\n",
       "      <td>under</td>\n",
       "      <td>BMT-C6971</td>\n",
       "    </tr>\n",
       "    <tr>\n",
       "      <th>957</th>\n",
       "      <td>1417.0</td>\n",
       "      <td>149484.0</td>\n",
       "      <td>0.0</td>\n",
       "      <td>MB</td>\n",
       "      <td>under</td>\n",
       "      <td>BMT-C6S91</td>\n",
       "    </tr>\n",
       "    <tr>\n",
       "      <th>2075</th>\n",
       "      <td>3315.0</td>\n",
       "      <td>218493.0</td>\n",
       "      <td>1.0</td>\n",
       "      <td>MB</td>\n",
       "      <td>under</td>\n",
       "      <td>B1-C5</td>\n",
       "    </tr>\n",
       "    <tr>\n",
       "      <th>469</th>\n",
       "      <td>24104.0</td>\n",
       "      <td>381802.0</td>\n",
       "      <td>0.0</td>\n",
       "      <td>ML</td>\n",
       "      <td>under</td>\n",
       "      <td>L26</td>\n",
       "    </tr>\n",
       "    <tr>\n",
       "      <th>2106</th>\n",
       "      <td>39083.0</td>\n",
       "      <td>1290575.0</td>\n",
       "      <td>0.0</td>\n",
       "      <td>MB</td>\n",
       "      <td>under</td>\n",
       "      <td>BMT-C6S90</td>\n",
       "    </tr>\n",
       "    <tr>\n",
       "      <th>1827</th>\n",
       "      <td>20423.0</td>\n",
       "      <td>683887.0</td>\n",
       "      <td>0.0</td>\n",
       "      <td>ML</td>\n",
       "      <td>under</td>\n",
       "      <td>9L NS</td>\n",
       "    </tr>\n",
       "  </tbody>\n",
       "</table>\n",
       "</div>"
      ],
      "text/plain": [
       "      Total_Particles>0.3  Total_Particles>0.5/m3  cfu Source threshold  \\\n",
       "1102                284.0                 29601.0  0.0     MB     under   \n",
       "957                1417.0                149484.0  0.0     MB     under   \n",
       "2075               3315.0                218493.0  1.0     MB     under   \n",
       "469               24104.0                381802.0  0.0     ML     under   \n",
       "2106              39083.0               1290575.0  0.0     MB     under   \n",
       "1827              20423.0                683887.0  0.0     ML     under   \n",
       "\n",
       "       location  \n",
       "1102  BMT-C6971  \n",
       "957   BMT-C6S91  \n",
       "2075      B1-C5  \n",
       "469         L26  \n",
       "2106  BMT-C6S90  \n",
       "1827      9L NS  "
      ]
     },
     "execution_count": 48,
     "metadata": {},
     "output_type": "execute_result"
    }
   ],
   "source": [
    "outside = 'MBH Shuttle Stop','ED Lot'\n",
    "df['sample_type'] = np.where(df['location'] == outside, 'outdoor','indoor')\n",
    "df_indoor = df[df['sample_type']=='indoor']\n",
    "df_indoor = df_indoor[['Total_Particles>0.3','Total_Particles>0.5/m3',\n",
    "                'cfu','Source','threshold','location']]\n",
    "df_indoor.sample(6)"
   ]
  },
  {
   "cell_type": "markdown",
   "metadata": {},
   "source": [
    "### transforming the particulate data to normal"
   ]
  },
  {
   "cell_type": "code",
   "execution_count": 49,
   "metadata": {
    "scrolled": true
   },
   "outputs": [
    {
     "data": {
      "text/plain": [
       "(793, 6)"
      ]
     },
     "execution_count": 49,
     "metadata": {},
     "output_type": "execute_result"
    }
   ],
   "source": [
    "# particle cout numbers are so large that I will scale them down\n",
    "df_indoor['log03'] = np.log(df_indoor['Total_Particles>0.3'])\n",
    "df_indoor['log05m3'] = np.log(df_indoor['Total_Particles>0.5/m3'])\n",
    "\n",
    "logdf = df_indoor[['log03','log05m3','cfu','Source','threshold','location']]\n",
    "logdf.shape"
   ]
  },
  {
   "cell_type": "markdown",
   "metadata": {},
   "source": [
    "##### now the CFU"
   ]
  },
  {
   "cell_type": "code",
   "execution_count": 67,
   "metadata": {},
   "outputs": [],
   "source": [
    "#lets see if cfu can be normalized\n",
    "z = np.asarray(logdf['cfu'])\n",
    "z1 = np.asarray(df_indoor['Total_Particles>0.3'])\n",
    "z2 = np.asarray(df_indoor['Total_Particles>0.5/m3'])\n",
    "\n",
    "logdf['zcfu'] = (z - z.mean())/ z.std()\n",
    "logdf['sqrtcfu'] = np.sqrt(z)\n",
    "logdf['cbrtcfu'] = np.cbrt(z)\n",
    "logdf['logcfu'] = np.log((1 + z)/2)\n",
    "logdf['minmaxcfu'] = (z - z.min()) / (z.max() - z.min())\n",
    "                \n",
    "logdf['minmax03'] = (z1 - z1.min()) / (z1.max() - z1.min())\n",
    "logdf['minmax05m3'] = (z2 - z2.min()) / (z2.max() - z2.min())"
   ]
  },
  {
   "cell_type": "code",
   "execution_count": 68,
   "metadata": {
    "scrolled": false
   },
   "outputs": [
    {
     "data": {
      "image/png": "[encoded data removed]",
      "text/plain": [
       "<Figure size 720x720 with 12 Axes>"
      ]
     },
     "metadata": {
      "needs_background": "light"
     },
     "output_type": "display_data"
    }
   ],
   "source": [
    "hist = logdf.hist(bins=10, figsize=(10,10))"
   ]
  },
  {
   "cell_type": "markdown",
   "metadata": {},
   "source": [
    "## Now looking at over and under the 10 CFU threshold"
   ]
  },
  {
   "cell_type": "code",
   "execution_count": 73,
   "metadata": {},
   "outputs": [
    {
     "data": {
      "text/html": [
       "<div>\n",
       "<style scoped>\n",
       "    .dataframe tbody tr th:only-of-type {\n",
       "        vertical-align: middle;\n",
       "    }\n",
       "\n",
       "    .dataframe tbody tr th {\n",
       "        vertical-align: top;\n",
       "    }\n",
       "\n",
       "    .dataframe thead tr th {\n",
       "        text-align: left;\n",
       "    }\n",
       "\n",
       "    .dataframe thead tr:last-of-type th {\n",
       "        text-align: right;\n",
       "    }\n",
       "</style>\n",
       "<table border=\"1\" class=\"dataframe\">\n",
       "  <thead>\n",
       "    <tr>\n",
       "      <th></th>\n",
       "      <th colspan=\"8\" halign=\"left\">log03</th>\n",
       "      <th colspan=\"2\" halign=\"left\">log05m3</th>\n",
       "      <th>...</th>\n",
       "      <th colspan=\"2\" halign=\"left\">minmax05m3</th>\n",
       "      <th colspan=\"8\" halign=\"left\">logcfu</th>\n",
       "    </tr>\n",
       "    <tr>\n",
       "      <th></th>\n",
       "      <th>count</th>\n",
       "      <th>mean</th>\n",
       "      <th>std</th>\n",
       "      <th>min</th>\n",
       "      <th>25%</th>\n",
       "      <th>50%</th>\n",
       "      <th>75%</th>\n",
       "      <th>max</th>\n",
       "      <th>count</th>\n",
       "      <th>mean</th>\n",
       "      <th>...</th>\n",
       "      <th>75%</th>\n",
       "      <th>max</th>\n",
       "      <th>count</th>\n",
       "      <th>mean</th>\n",
       "      <th>std</th>\n",
       "      <th>min</th>\n",
       "      <th>25%</th>\n",
       "      <th>50%</th>\n",
       "      <th>75%</th>\n",
       "      <th>max</th>\n",
       "    </tr>\n",
       "    <tr>\n",
       "      <th>threshold</th>\n",
       "      <th></th>\n",
       "      <th></th>\n",
       "      <th></th>\n",
       "      <th></th>\n",
       "      <th></th>\n",
       "      <th></th>\n",
       "      <th></th>\n",
       "      <th></th>\n",
       "      <th></th>\n",
       "      <th></th>\n",
       "      <th></th>\n",
       "      <th></th>\n",
       "      <th></th>\n",
       "      <th></th>\n",
       "      <th></th>\n",
       "      <th></th>\n",
       "      <th></th>\n",
       "      <th></th>\n",
       "      <th></th>\n",
       "      <th></th>\n",
       "      <th></th>\n",
       "    </tr>\n",
       "  </thead>\n",
       "  <tbody>\n",
       "    <tr>\n",
       "      <th>over</th>\n",
       "      <td>73.0</td>\n",
       "      <td>10.746153</td>\n",
       "      <td>1.447362</td>\n",
       "      <td>7.199678</td>\n",
       "      <td>9.638675</td>\n",
       "      <td>10.896369</td>\n",
       "      <td>11.767730</td>\n",
       "      <td>13.799796</td>\n",
       "      <td>73.0</td>\n",
       "      <td>14.216956</td>\n",
       "      <td>...</td>\n",
       "      <td>0.095489</td>\n",
       "      <td>0.342102</td>\n",
       "      <td>73.0</td>\n",
       "      <td>2.202458</td>\n",
       "      <td>0.34422</td>\n",
       "      <td>1.704748</td>\n",
       "      <td>1.945910</td>\n",
       "      <td>2.140066</td>\n",
       "      <td>2.484907</td>\n",
       "      <td>2.833213</td>\n",
       "    </tr>\n",
       "    <tr>\n",
       "      <th>under</th>\n",
       "      <td>720.0</td>\n",
       "      <td>9.093039</td>\n",
       "      <td>1.640065</td>\n",
       "      <td>4.336100</td>\n",
       "      <td>7.730722</td>\n",
       "      <td>9.223701</td>\n",
       "      <td>10.376351</td>\n",
       "      <td>14.190010</td>\n",
       "      <td>720.0</td>\n",
       "      <td>12.728745</td>\n",
       "      <td>...</td>\n",
       "      <td>0.017960</td>\n",
       "      <td>1.000000</td>\n",
       "      <td>720.0</td>\n",
       "      <td>-0.073578</td>\n",
       "      <td>0.64855</td>\n",
       "      <td>-0.693147</td>\n",
       "      <td>-0.693147</td>\n",
       "      <td>0.000000</td>\n",
       "      <td>0.405465</td>\n",
       "      <td>1.609438</td>\n",
       "    </tr>\n",
       "  </tbody>\n",
       "</table>\n",
       "<p>2 rows × 80 columns</p>\n",
       "</div>"
      ],
      "text/plain": [
       "           log03                                                      \\\n",
       "           count       mean       std       min       25%        50%   \n",
       "threshold                                                              \n",
       "over        73.0  10.746153  1.447362  7.199678  9.638675  10.896369   \n",
       "under      720.0   9.093039  1.640065  4.336100  7.730722   9.223701   \n",
       "\n",
       "                                log05m3             ... minmax05m3            \\\n",
       "                 75%        max   count       mean  ...        75%       max   \n",
       "threshold                                           ...                        \n",
       "over       11.767730  13.799796    73.0  14.216956  ...   0.095489  0.342102   \n",
       "under      10.376351  14.190010   720.0  12.728745  ...   0.017960  1.000000   \n",
       "\n",
       "          logcfu                                                             \\\n",
       "           count      mean      std       min       25%       50%       75%   \n",
       "threshold                                                                     \n",
       "over        73.0  2.202458  0.34422  1.704748  1.945910  2.140066  2.484907   \n",
       "under      720.0 -0.073578  0.64855 -0.693147 -0.693147  0.000000  0.405465   \n",
       "\n",
       "                     \n",
       "                max  \n",
       "threshold            \n",
       "over       2.833213  \n",
       "under      1.609438  \n",
       "\n",
       "[2 rows x 80 columns]"
      ]
     },
     "execution_count": 73,
     "metadata": {},
     "output_type": "execute_result"
    }
   ],
   "source": [
    "logdf.groupby('threshold').describe()"
   ]
  },
  {
   "cell_type": "code",
   "execution_count": 74,
   "metadata": {},
   "outputs": [
    {
     "data": {
      "text/html": [
       "<div>\n",
       "<style scoped>\n",
       "    .dataframe tbody tr th:only-of-type {\n",
       "        vertical-align: middle;\n",
       "    }\n",
       "\n",
       "    .dataframe tbody tr th {\n",
       "        vertical-align: top;\n",
       "    }\n",
       "\n",
       "    .dataframe thead th {\n",
       "        text-align: right;\n",
       "    }\n",
       "</style>\n",
       "<table border=\"1\" class=\"dataframe\">\n",
       "  <thead>\n",
       "    <tr style=\"text-align: right;\">\n",
       "      <th></th>\n",
       "      <th>log03</th>\n",
       "      <th>log05m3</th>\n",
       "      <th>cfu</th>\n",
       "      <th>zcfu</th>\n",
       "      <th>sqrtcfu</th>\n",
       "      <th>cbrtcfu</th>\n",
       "      <th>minmaxcfu</th>\n",
       "      <th>minmax03</th>\n",
       "      <th>minmax05m3</th>\n",
       "      <th>logcfu</th>\n",
       "    </tr>\n",
       "    <tr>\n",
       "      <th>threshold</th>\n",
       "      <th></th>\n",
       "      <th></th>\n",
       "      <th></th>\n",
       "      <th></th>\n",
       "      <th></th>\n",
       "      <th></th>\n",
       "      <th></th>\n",
       "      <th></th>\n",
       "      <th></th>\n",
       "      <th></th>\n",
       "    </tr>\n",
       "  </thead>\n",
       "  <tbody>\n",
       "    <tr>\n",
       "      <th>over</th>\n",
       "      <td>10.746153</td>\n",
       "      <td>14.216956</td>\n",
       "      <td>18.191781</td>\n",
       "      <td>2.748423</td>\n",
       "      <td>4.195642</td>\n",
       "      <td>2.591820</td>\n",
       "      <td>0.551266</td>\n",
       "      <td>0.074989</td>\n",
       "      <td>0.066744</td>\n",
       "      <td>2.202458</td>\n",
       "    </tr>\n",
       "    <tr>\n",
       "      <th>under</th>\n",
       "      <td>9.093039</td>\n",
       "      <td>12.728745</td>\n",
       "      <td>1.350000</td>\n",
       "      <td>-0.278660</td>\n",
       "      <td>0.817551</td>\n",
       "      <td>0.712717</td>\n",
       "      <td>0.040909</td>\n",
       "      <td>0.021886</td>\n",
       "      <td>0.017675</td>\n",
       "      <td>-0.073578</td>\n",
       "    </tr>\n",
       "  </tbody>\n",
       "</table>\n",
       "</div>"
      ],
      "text/plain": [
       "               log03    log05m3        cfu      zcfu   sqrtcfu   cbrtcfu  \\\n",
       "threshold                                                                  \n",
       "over       10.746153  14.216956  18.191781  2.748423  4.195642  2.591820   \n",
       "under       9.093039  12.728745   1.350000 -0.278660  0.817551  0.712717   \n",
       "\n",
       "           minmaxcfu  minmax03  minmax05m3    logcfu  \n",
       "threshold                                             \n",
       "over        0.551266  0.074989    0.066744  2.202458  \n",
       "under       0.040909  0.021886    0.017675 -0.073578  "
      ]
     },
     "execution_count": 74,
     "metadata": {},
     "output_type": "execute_result"
    }
   ],
   "source": [
    "logdf.groupby('threshold').mean()"
   ]
  },
  {
   "cell_type": "code",
   "execution_count": null,
   "metadata": {},
   "outputs": [],
   "source": [
    "transformed_df = "
   ]
  },
  {
   "cell_type": "code",
   "execution_count": 55,
   "metadata": {
    "scrolled": true
   },
   "outputs": [
    {
     "data": {
      "image/png": "[encoded data removed]",
      "text/plain": [
       "<Figure size 720x720 with 4 Axes>"
      ]
     },
     "metadata": {
      "needs_background": "light"
     },
     "output_type": "display_data"
    }
   ],
   "source": [
    "hist = transformed_df.hist(bins=10, figsize=(10,10))"
   ]
  },
  {
   "cell_type": "code",
   "execution_count": 14,
   "metadata": {},
   "outputs": [
    {
     "ename": "NameError",
     "evalue": "name 'sqrtdf' is not defined",
     "output_type": "error",
     "traceback": [
      "\u001b[1;31m---------------------------------------------------------------------------\u001b[0m",
      "\u001b[1;31mNameError\u001b[0m                                 Traceback (most recent call last)",
      "\u001b[1;32m<ipython-input-14-47eea3847137>\u001b[0m in \u001b[0;36m<module>\u001b[1;34m\u001b[0m\n\u001b[1;32m----> 1\u001b[1;33m \u001b[0mhist\u001b[0m \u001b[1;33m=\u001b[0m \u001b[0msqrtdf\u001b[0m\u001b[1;33m.\u001b[0m\u001b[0mhist\u001b[0m\u001b[1;33m(\u001b[0m\u001b[0mbins\u001b[0m\u001b[1;33m=\u001b[0m\u001b[1;36m10\u001b[0m\u001b[1;33m,\u001b[0m \u001b[0mfigsize\u001b[0m\u001b[1;33m=\u001b[0m\u001b[1;33m(\u001b[0m\u001b[1;36m10\u001b[0m\u001b[1;33m,\u001b[0m\u001b[1;36m10\u001b[0m\u001b[1;33m)\u001b[0m\u001b[1;33m)\u001b[0m\u001b[1;33m\u001b[0m\u001b[1;33m\u001b[0m\u001b[0m\n\u001b[0m",
      "\u001b[1;31mNameError\u001b[0m: name 'sqrtdf' is not defined"
     ]
    }
   ],
   "source": [
    "hist = sqrtdf.hist(bins=10, figsize=(10,10))"
   ]
  },
  {
   "cell_type": "code",
   "execution_count": null,
   "metadata": {},
   "outputs": [],
   "source": [
    "sns.pairplot(df_indoor[['cfu','log05m3','log03']])"
   ]
  },
  {
   "cell_type": "markdown",
   "metadata": {},
   "source": [
    "#not ready for this\n",
    "\n",
    "sns.set()\n",
    "\n",
    "n_data = len(df1['cfu'])\n",
    "n_bins = np.sqrt(n_data)\n",
    "n_bins = int(n_bins)\n",
    "\n",
    "plt.hist(df1['cfu'], bins=n_bins)\n",
    "\n",
    "n_data = len(df1['cfu'])\n",
    "n_bins = np.sqrt(n_data)\n",
    "n_bins = int(n_bins)\n",
    "\n",
    "plt.xlabel('colony forming units')\n",
    "plt.ylabel('count')\n",
    "# Show histogram\n",
    "plt.show()"
   ]
  },
  {
   "cell_type": "code",
   "execution_count": null,
   "metadata": {},
   "outputs": [],
   "source": []
  }
 ],
 "metadata": {
  "kernelspec": {
   "display_name": "Python 3",
   "language": "python",
   "name": "python3"
  },
  "language_info": {
   "codemirror_mode": {
    "name": "ipython",
    "version": 3
   },
   "file_extension": ".py",
   "mimetype": "text/x-python",
   "name": "python",
   "nbconvert_exporter": "python",
   "pygments_lexer": "ipython3",
   "version": "3.8.5"
  }
 },
 "nbformat": 4,
 "nbformat_minor": 4
}
